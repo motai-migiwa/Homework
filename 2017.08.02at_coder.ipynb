{
 "cells": [
  {
   "cell_type": "code",
   "execution_count": 49,
   "metadata": {
    "collapsed": false
   },
   "outputs": [
    {
     "name": "stdout",
     "output_type": "stream",
     "text": [
      "3\n",
      "1\n"
     ]
    }
   ],
   "source": [
    "#引っ越し作業\n",
    "#http://abc009.contest.atcoder.jp/tasks/abc009_1\n",
    "\n",
    "N = int(input())\n",
    "oufuku = 0\n",
    "\n",
    "if N // 2 == 1:\n",
    "    oufuku += 1\n",
    "    print(oufuku)\n",
    "\n",
    "else:\n",
    "    oufuku = N // 2\n",
    "    print(oufuku)\n"
   ]
  },
  {
   "cell_type": "code",
   "execution_count": 18,
   "metadata": {
    "collapsed": false
   },
   "outputs": [
    {
     "name": "stdout",
     "output_type": "stream",
     "text": [
      "migiwa\n",
      "migiwapp\n"
     ]
    }
   ],
   "source": [
    "#ハンドルネーム \n",
    "#http://abc010.contest.atcoder.jp/tasks/abc010_1\n",
    "\n",
    "S = input()\n",
    "print(S + 'pp')"
   ]
  },
  {
   "cell_type": "code",
   "execution_count": 37,
   "metadata": {
    "collapsed": false
   },
   "outputs": [
    {
     "name": "stdout",
     "output_type": "stream",
     "text": [
      "今月は何月？12\n",
      "1\n"
     ]
    }
   ],
   "source": [
    "#来月は年月? \n",
    "#http://abc011.contest.atcoder.jp/tasks/abc011_1\n",
    "\n",
    "raigetu = 0\n",
    "N = int(input('今月は何月？'))\n",
    "\n",
    "if N == 12:\n",
    "    N += 1\n",
    "    raigetu += N \n",
    "    print(raigetu-12)\n",
    "\n",
    "else:\n",
    "    raigetu = int(N) + 1\n",
    "    \n",
    "    print(raigetu)"
   ]
  },
  {
   "cell_type": "code",
   "execution_count": 73,
   "metadata": {
    "collapsed": false
   },
   "outputs": [
    {
     "name": "stdout",
     "output_type": "stream",
     "text": [
      "B\n",
      "2\n"
     ]
    }
   ],
   "source": [
    "#A\n",
    "#http://abc013.contest.atcoder.jp/tasks/abc013_1\n",
    "#英大文字のアルファベット X が与えられる。X は　A, B, C, D, E のいずれかである。\n",
    "alphabets = ['A', 'B', 'C', 'D', 'E']\n",
    "x = input()\n",
    "jyunban = 0\n",
    "\n",
    "for i in alphabets:\n",
    "    jyunban += 1\n",
    "    if i == x:\n",
    "        print(jyunban)\n",
    "        break"
   ]
  },
  {
   "cell_type": "code",
   "execution_count": 82,
   "metadata": {
    "collapsed": false
   },
   "outputs": [
    {
     "name": "stdout",
     "output_type": "stream",
     "text": [
      "持っているお菓子の数は？7\n",
      "配る人数の数は？3\n",
      "2\n"
     ]
    }
   ],
   "source": [
    "#けんしょう先生のお菓子配り \n",
    "#http://abc014.contest.atcoder.jp/tasks/abc014_1\n",
    "\n",
    "a = int(input('持っているお菓子の数は？'))\n",
    "b = int(input('配る人数の数は？'))\n",
    "\n",
    "#a ÷ b = 最初に配れる数、あまり数\n",
    "#配る人数(b) - あまり数　= 買い足す数\n",
    "amari = a % b\n",
    "if amari == 0:\n",
    "    print(0)\n",
    "\n",
    "else:\n",
    "    print(b - amari)"
   ]
  },
  {
   "cell_type": "code",
   "execution_count": 9,
   "metadata": {
    "collapsed": false
   },
   "outputs": [
    {
     "name": "stdout",
     "output_type": "stream",
     "text": [
      "太郎の得点は30\n",
      "次郎の得点は40\n",
      "三郎の得点は20\n",
      "太郎の順位は2位\n"
     ]
    }
   ],
   "source": [
    "'''\n",
    "豆まき \n",
    "http://abc018.contest.atcoder.jp/tasks/abc018_1\n",
    "太郎君と次郎君と三郎君の 3 人の人が豆まきで対戦をした。得点が高いほうが上の順位である。\n",
    "それぞれの得点が与えられるので、それぞれの順位を答えよ。\n",
    "'''\n",
    "taro = int(input('太郎の得点は'))\n",
    "jiro = int(input('次郎の得点は'))\n",
    "saburo = int(input('三郎の得点は'))\n",
    "rank = 0\n",
    "\n",
    "if taro > jiro and taro > saburo:\n",
    "    rank += 1\n",
    "elif taro > jiro and taro < saburo:\n",
    "    rank += 2\n",
    "elif taro < jiro and taro > saburo:\n",
    "    rank += 2\n",
    "elif taro < jiro and taro < saburo:\n",
    "    rank += 3\n",
    "print('太郎の順位は'+str(rank)+'位')"
   ]
  },
  {
   "cell_type": "code",
   "execution_count": null,
   "metadata": {
    "collapsed": false
   },
   "outputs": [],
   "source": []
  },
  {
   "cell_type": "code",
   "execution_count": 4,
   "metadata": {
    "collapsed": false
   },
   "outputs": [
    {
     "name": "stdout",
     "output_type": "stream",
     "text": [
      "2\n",
      "chokudai\n"
     ]
    }
   ],
   "source": [
    "#クイズ \n",
    "#http://abc020.contest.atcoder.jp/tasks/abc020_a\n",
    "\n",
    "Q = int(input())\n",
    "\n",
    "if Q == 1:\n",
    "    print('ABC')\n",
    "elif Q == 2:\n",
    "    print('chokudai')"
   ]
  },
  {
   "cell_type": "code",
   "execution_count": 11,
   "metadata": {
    "collapsed": false
   },
   "outputs": [
    {
     "name": "stdout",
     "output_type": "stream",
     "text": [
      "テストの点数は100\n",
      "Perfect\n"
     ]
    }
   ],
   "source": [
    "'''\n",
    "テストの点数を入れるとその評価を出力してくれるプログラムを作成してください。\n",
    "\n",
    "プログラムの仕様は以下の通りです。\n",
    "\n",
    "テストの点数として 0 以上 100 以下の整数を受け取る。\n",
    "テストの点数が 59 点以下ならば Bad と出力。\n",
    "60 点以上 89 点以下ならば Good と出力。\n",
    "90 点以上 99 点以下ならば Great と出力。\n",
    "100 点ならば Perfect と出力。\n",
    "'''\n",
    "\n",
    "N = int(input('テストの点数は'))\n",
    "\n",
    "if N < 59:\n",
    "    print('Bad')\n",
    "elif N > 60 and N < 89:\n",
    "    print('Good')\n",
    "elif N > 90 and N < 99:\n",
    "    print('Great')\n",
    "elif N == 100:\n",
    "    print('Perfect')"
   ]
  },
  {
   "cell_type": "code",
   "execution_count": 13,
   "metadata": {
    "collapsed": false
   },
   "outputs": [
    {
     "name": "stdout",
     "output_type": "stream",
     "text": [
      "cat\n",
      "cats\n"
     ]
    }
   ],
   "source": [
    "#複数形\n",
    "#http://abc029.contest.atcoder.jp/tasks/abc029_a\n",
    "\n",
    "W = input()\n",
    "\n",
    "print(W+'s')"
   ]
  },
  {
   "cell_type": "code",
   "execution_count": null,
   "metadata": {
    "collapsed": true
   },
   "outputs": [],
   "source": [
    "#加算王 http://abc023.contest.atcoder.jp/tasks/abc023_a (難しいです)\n",
    "#暗証番号 http://abc033.contest.atcoder.jp/tasks/abc033_a (難しいです、加算王に似ています)"
   ]
  },
  {
   "cell_type": "code",
   "execution_count": null,
   "metadata": {
    "collapsed": true
   },
   "outputs": [],
   "source": [
    "#添字\n",
    "#http://abc041.contest.atcoder.jp/tasks/abc041_a"
   ]
  },
  {
   "cell_type": "code",
   "execution_count": null,
   "metadata": {
    "collapsed": true
   },
   "outputs": [],
   "source": [
    "#高橋くんとホテルイージー\n",
    "#http://abc044.contest.atcoder.jp/tasks/abc044_a"
   ]
  },
  {
   "cell_type": "code",
   "execution_count": null,
   "metadata": {
    "collapsed": true
   },
   "outputs": [],
   "source": [
    "#台形\n",
    "#http://abc045.contest.atcoder.jp/tasks/abc045_a"
   ]
  }
 ],
 "metadata": {
  "kernelspec": {
   "display_name": "Python 3",
   "language": "python",
   "name": "python3"
  },
  "language_info": {
   "codemirror_mode": {
    "name": "ipython",
    "version": 3
   },
   "file_extension": ".py",
   "mimetype": "text/x-python",
   "name": "python",
   "nbconvert_exporter": "python",
   "pygments_lexer": "ipython3",
   "version": "3.6.0"
  }
 },
 "nbformat": 4,
 "nbformat_minor": 2
}
