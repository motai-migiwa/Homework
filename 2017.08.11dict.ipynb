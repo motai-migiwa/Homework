{
 "cells": [
  {
   "cell_type": "code",
   "execution_count": 1,
   "metadata": {
    "collapsed": false
   },
   "outputs": [
    {
     "name": "stdout",
     "output_type": "stream",
     "text": [
      "{'name': 'Amanda Michelle Seyfried', 'height': '161', 'weight': '50', 'birth': '1985.12.3'}\n"
     ]
    }
   ],
   "source": [
    "helth_result = {'name':'Amanda Michelle Seyfried',\n",
    "                'height':'161',\n",
    "                'weight':'50',\n",
    "                'birth':'1985.12.3'}\n",
    "\n",
    "print(helth_result)"
   ]
  },
  {
   "cell_type": "code",
   "execution_count": 2,
   "metadata": {
    "collapsed": false
   },
   "outputs": [
    {
     "name": "stdout",
     "output_type": "stream",
     "text": [
      "Amanda Michelle Seyfried\n"
     ]
    }
   ],
   "source": [
    "print(helth_result['name'])"
   ]
  },
  {
   "cell_type": "code",
   "execution_count": 3,
   "metadata": {
    "collapsed": false
   },
   "outputs": [
    {
     "name": "stdout",
     "output_type": "stream",
     "text": [
      "1985.12.3\n"
     ]
    }
   ],
   "source": [
    "print(helth_result['birth'])"
   ]
  },
  {
   "cell_type": "code",
   "execution_count": 5,
   "metadata": {
    "collapsed": false
   },
   "outputs": [],
   "source": [
    "helth_result['country'] = 'USA'"
   ]
  },
  {
   "cell_type": "code",
   "execution_count": 6,
   "metadata": {
    "collapsed": false
   },
   "outputs": [
    {
     "name": "stdout",
     "output_type": "stream",
     "text": [
      "{'name': 'Amanda Michelle Seyfried', 'height': '161', 'weight': '50', 'birth': '1985.12.3', 'country': 'USA'}\n"
     ]
    }
   ],
   "source": [
    "print(helth_result)"
   ]
  },
  {
   "cell_type": "code",
   "execution_count": 7,
   "metadata": {
    "collapsed": true
   },
   "outputs": [],
   "source": [
    "helth_result['age'] = '31'"
   ]
  },
  {
   "cell_type": "code",
   "execution_count": 8,
   "metadata": {
    "collapsed": false
   },
   "outputs": [
    {
     "name": "stdout",
     "output_type": "stream",
     "text": [
      "{'name': 'Amanda Michelle Seyfried', 'height': '161', 'weight': '50', 'birth': '1985.12.3', 'country': 'USA', 'age': '31'}\n"
     ]
    }
   ],
   "source": [
    "print(helth_result)"
   ]
  },
  {
   "cell_type": "code",
   "execution_count": 14,
   "metadata": {
    "collapsed": false
   },
   "outputs": [
    {
     "name": "stdout",
     "output_type": "stream",
     "text": [
      "Amandaの身長は161cmです\n"
     ]
    }
   ],
   "source": [
    "print('Amandaの身長は' + str(helth_result['height']) + 'cmです')"
   ]
  },
  {
   "cell_type": "code",
   "execution_count": 15,
   "metadata": {
    "collapsed": false
   },
   "outputs": [
    {
     "name": "stdout",
     "output_type": "stream",
     "text": [
      "リストにAmandaの体重が含まれています\n"
     ]
    }
   ],
   "source": [
    "if 'weight' in helth_result:\n",
    "    print('リストにAmandaの体重が含まれています')"
   ]
  },
  {
   "cell_type": "code",
   "execution_count": 20,
   "metadata": {
    "collapsed": false
   },
   "outputs": [
    {
     "name": "stdout",
     "output_type": "stream",
     "text": [
      "Taylor:4\n",
      "Alicia:2\n",
      "Michael:2\n"
     ]
    }
   ],
   "source": [
    "list = ['Taylor','Alicia','Michael','Taylor','Michael','Taylor','Taylor','Alicia']\n",
    "count = {'Taylor':0,'Alicia':0,'Michael':0}\n",
    "\n",
    "for i in list:\n",
    "    count[i] += 1\n",
    "\n",
    "for k,v in count.items():\n",
    "    print(k + ':' + str(v))"
   ]
  },
  {
   "cell_type": "code",
   "execution_count": null,
   "metadata": {
    "collapsed": true
   },
   "outputs": [],
   "source": []
  }
 ],
 "metadata": {
  "kernelspec": {
   "display_name": "Python 3",
   "language": "python",
   "name": "python3"
  },
  "language_info": {
   "codemirror_mode": {
    "name": "ipython",
    "version": 3
   },
   "file_extension": ".py",
   "mimetype": "text/x-python",
   "name": "python",
   "nbconvert_exporter": "python",
   "pygments_lexer": "ipython3",
   "version": "3.6.0"
  }
 },
 "nbformat": 4,
 "nbformat_minor": 2
}
