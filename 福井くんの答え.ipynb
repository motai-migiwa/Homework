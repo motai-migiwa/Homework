{
 "cells": [
  {
   "cell_type": "code",
   "execution_count": 1,
   "metadata": {
    "collapsed": true
   },
   "outputs": [],
   "source": [
    "# 関数を定義する宿題\n",
    "\n",
    "# 1. xの2乗を返す関数square(x)を定義\n",
    "def square(x):\n",
    "    return x**2\n"
   ]
  },
  {
   "cell_type": "code",
   "execution_count": 2,
   "metadata": {
    "collapsed": true
   },
   "outputs": [],
   "source": [
    "# 2. リストLと二つの数l,rが与えられて、Lのl番目からr番目までの要素の合計を返す関数cumsum(L, l, r)を定義\n",
    "def cumsum(L, l, r):\n",
    "    sum = 0\n",
    "    R = r + 1\n",
    "    for i in range(l, R):\n",
    "        sum += L[i - 1]\n",
    "    return sum"
   ]
  },
  {
   "cell_type": "code",
   "execution_count": 3,
   "metadata": {
    "collapsed": true
   },
   "outputs": [],
   "source": [
    "# 3. `1,1,2,3,5,8,13,21`と一つ前と二つ前の数値を足した数からなる数列をフィボナッチ数列と言います。n番目のフィボナッチ数列の要素を返す関数fib(n)を定義\n",
    "def fib(n):\n",
    "    result = 0\n",
    "    fib_list = [1, 1]\n",
    "    list_num = 2\n",
    "    if n == 1 or n == 2:\n",
    "        result = 1\n",
    "        return  result\n",
    "    else:\n",
    "        while list_num <= n:\n",
    "            for i in range(3, n+1):\n",
    "                add_nmu = fib_list[i-2] + fib_list[i-3]\n",
    "                fib_list.append(add_nmu)\n",
    "            list_num += 1\n",
    "        result = fib_list[n-1]\n",
    "        return result"
   ]
  },
  {
   "cell_type": "code",
   "execution_count": 4,
   "metadata": {
    "collapsed": false
   },
   "outputs": [
    {
     "name": "stdout",
     "output_type": "stream",
     "text": [
      "[18, 66, 68, 78]\n"
     ]
    }
   ],
   "source": [
    "# 4. リストLを昇順(小さい順)にソートした結果を返す関数sorted(L)を定義\n",
    "# 参考文献　『なっとく！　アルゴリズム』\n",
    "\n",
    "def sorted2(L):\n",
    "    if len(L) < 2:\n",
    "        return L\n",
    "    else:\n",
    "        right = []\n",
    "        left = []\n",
    "        pivot = L[0]\n",
    "        for i in range(1,len(L)):\n",
    "            if L[i] > pivot:\n",
    "                right.append(L[i])\n",
    "            else:\n",
    "                left.append(L[i])\n",
    "\n",
    "        right = sorted2(right)\n",
    "        left = sorted2(left)\n",
    "        center = [pivot]\n",
    "        sorted_list = left + center + right\n",
    "        return sorted_list\n",
    "\n",
    "import random\n",
    "random_list = []\n",
    "\n",
    "for i in range(0,random.randint(1, 11) ):\n",
    "    random_num = random.randint(1, 100)\n",
    "    random_list.append(random_num)\n",
    "\n",
    "print(sorted2(random_list))"
   ]
  }
 ],
 "metadata": {
  "kernelspec": {
   "display_name": "Python 3",
   "language": "python",
   "name": "python3"
  },
  "language_info": {
   "codemirror_mode": {
    "name": "ipython",
    "version": 3
   },
   "file_extension": ".py",
   "mimetype": "text/x-python",
   "name": "python",
   "nbconvert_exporter": "python",
   "pygments_lexer": "ipython3",
   "version": "3.6.0"
  }
 },
 "nbformat": 4,
 "nbformat_minor": 2
}
