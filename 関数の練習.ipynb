{
 "cells": [
  {
   "cell_type": "code",
   "execution_count": 3,
   "metadata": {
    "collapsed": false
   },
   "outputs": [
    {
     "name": "stdout",
     "output_type": "stream",
     "text": [
      "178\n"
     ]
    }
   ],
   "source": [
    "'''\n",
    "問１\n",
    "選手6人の身長の平均が知りたい\n",
    "'''\n",
    "\n",
    "height = [170,182,175,175,186,185]\n",
    "weight = [56,62,58,60]\n",
    "\n",
    "\n",
    "total = 0\n",
    "for i in height:\n",
    "    total += i\n",
    "ninzuu = len(height)\n",
    "heikin = total // ninzuu\n",
    "print(heikin)\n",
    "\n",
    "#身長の平均の計算方法と、体重の計算方法は一緒なので、関数に直したら両方の結果が出せるね(^^)"
   ]
  },
  {
   "cell_type": "code",
   "execution_count": null,
   "metadata": {
    "collapsed": true
   },
   "outputs": [],
   "source": [
    "'''\n",
    "問２\n",
    "うるう年の条件分岐を関数に直してみましょう。(ヒント:ReturnとFalseを使うよ)\n",
    "'''\n",
    "\n",
    "year = int(input('西暦何年？'))\n",
    "\n",
    "\n",
    "# 'うるう年'\n",
    "if year % 400 == 0:\n",
    "\n",
    "\n",
    "#'うるう年じゃない'\n",
    "elif year % 100 == 0:\n",
    "\n",
    "#'うるう年'\n",
    "elif year % 4 == 0:\n",
    "\n",
    "#'うるう年じゃない'\n",
    "else:\n",
    "               \n",
    "\n",
    "print( str(year) + 'は' + leap_year(year) + 'です。')"
   ]
  },
  {
   "cell_type": "code",
   "execution_count": 5,
   "metadata": {
    "collapsed": false
   },
   "outputs": [
    {
     "name": "stdout",
     "output_type": "stream",
     "text": [
      "1\n",
      "2\n",
      "Fizz\n",
      "4\n",
      "Bazz\n",
      "Fizz\n",
      "7\n",
      "8\n",
      "Fizz\n",
      "Bazz\n",
      "11\n",
      "Fizz\n",
      "13\n",
      "14\n",
      "FizzBazz\n",
      "16\n",
      "17\n",
      "Fizz\n",
      "19\n",
      "Bazz\n"
     ]
    }
   ],
   "source": [
    "'''\n",
    "問２\n",
    "FizzBuzzゲームです。関数に直してみましょう。(ヒント:関数はprintでも返せます。)\n",
    "\n",
    "'''\n",
    "\n",
    "for i in range(1,21):\n",
    "        \n",
    "    if i % 15 == 0:\n",
    "        print ('FizzBazz')\n",
    "    \n",
    "    elif i % 5 == 0:\n",
    "        print ('Bazz')\n",
    "    \n",
    "    elif i % 3 == 0:\n",
    "        print ('Fizz')\n",
    "    \n",
    "    else:\n",
    "        print (i)"
   ]
  }
 ],
 "metadata": {
  "kernelspec": {
   "display_name": "Python 3",
   "language": "python",
   "name": "python3"
  },
  "language_info": {
   "codemirror_mode": {
    "name": "ipython",
    "version": 3
   },
   "file_extension": ".py",
   "mimetype": "text/x-python",
   "name": "python",
   "nbconvert_exporter": "python",
   "pygments_lexer": "ipython3",
   "version": "3.6.0"
  }
 },
 "nbformat": 4,
 "nbformat_minor": 2
}
