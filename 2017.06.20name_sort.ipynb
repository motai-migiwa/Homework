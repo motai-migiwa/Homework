{
 "cells": [
  {
   "cell_type": "code",
   "execution_count": 3,
   "metadata": {
    "collapsed": false
   },
   "outputs": [
    {
     "name": "stdout",
     "output_type": "stream",
     "text": [
      "['中村', '山下', '村上', '江口', '田中']\n"
     ]
    }
   ],
   "source": [
    "L = ['田中', '山下', '中村', '村上', '江口']\n",
    "sorted(L)\n",
    "print(sorted(L))"
   ]
  },
  {
   "cell_type": "code",
   "execution_count": 4,
   "metadata": {
    "collapsed": false
   },
   "outputs": [
    {
     "name": "stdout",
     "output_type": "stream",
     "text": [
      "['中村', '山下', '村上', '江口', '田中']\n"
     ]
    }
   ],
   "source": [
    "L = ['田中', '山下', '中村', '村上', '江口']\n",
    "sorted(L)\n",
    "print(sorted(L))"
   ]
  },
  {
   "cell_type": "code",
   "execution_count": 3,
   "metadata": {
    "collapsed": false
   },
   "outputs": [
    {
     "name": "stdout",
     "output_type": "stream",
     "text": [
      "[4, 4, 4, 4, 46]\n"
     ]
    }
   ],
   "source": [
    "age = [35, 69, 21, 12, 46]\n",
    "def selection_sort(age):\n",
    "    n = len(age)\n",
    "    for i in range(0,n-1):\n",
    "        min = i\n",
    "        for j in range(i+1,n):\n",
    "            if age[min] > age[j]:\n",
    "                min = j\n",
    "\n",
    "        tmp = L[min]\n",
    "        age[min] = L[i]\n",
    "        age[i] = tmp\n",
    "    return age\n",
    "print(selection_sort(age))"
   ]
  },
  {
   "cell_type": "code",
   "execution_count": 1,
   "metadata": {
    "collapsed": false
   },
   "outputs": [
    {
     "name": "stdout",
     "output_type": "stream",
     "text": [
      "[1, 2, 3, 4, 5]\n"
     ]
    }
   ],
   "source": [
    "age = [35, 69, 21, 12, 46]\n",
    "def selection_sort(age):\n",
    "    n = len(age)\n",
    "    for i in range(0,n-1):\n",
    "        min = i\n",
    "        for j in range(i+1,n):\n",
    "            if age[min] > age[j]:\n",
    "                min = j\n",
    "\n",
    "        tmp = age[min]\n",
    "        age[min] = age[i]\n",
    "        age[i] = tmp\n",
    "    return age\n",
    "print(selection_sort(age))"
   ]
  },
  {
   "cell_type": "code",
   "execution_count": 4,
   "metadata": {
    "collapsed": false
   },
   "outputs": [
    {
     "name": "stdout",
     "output_type": "stream",
     "text": [
      "[12, 21, 35, 46, 69]\n"
     ]
    }
   ],
   "source": [
    "def selection_sort(L):\n",
    "    name = {}\n",
    "    n = len(age)\n",
    "    for i in range(0,n-1):\n",
    "        min = i\n",
    "        for j in range(i+1,n):\n",
    "            if age[min] > age[j]:\n",
    "                min = j\n",
    "\n",
    "        tmp = age[min]\n",
    "        L[min] = age[i]\n",
    "        L[i] = tmp\n",
    "    return L\n",
    "print(selection_sort(L))"
   ]
  },
  {
   "cell_type": "code",
   "execution_count": 5,
   "metadata": {
    "collapsed": false
   },
   "outputs": [
    {
     "name": "stdout",
     "output_type": "stream",
     "text": [
      "[['村上', '中村', '田中', '江口', '山下'], [12, 21, 35, 46, 69]]\n"
     ]
    }
   ],
   "source": [
    "\"\"\"\n",
    "2.\n",
    "\n",
    "L = [ ['田中', '山下', '中村', '村上', '江口'], [35, 69, 21, 12, 46]]\n",
    "\n",
    "sorted(L)\n",
    "\n",
    "[ ['村上', '中村', '田中', '江口', '山下'], [12, 21, 35, 46, 69]]\n",
    "\n",
    "\n",
    "[ ['田中', '山下', '中村', '村上', '江口'],\n",
    "  [    35,    69,     21,     12,    46]]\n",
    "\n",
    "というふうに名前と年齢が一対一で対応したものです。\n",
    "\"\"\"\n",
    "def sorted(L):\n",
    "    dic={}\n",
    "    n=0                           #１巡目のときのｎの値\n",
    "    for i in L[1]:                #L[1]は年齢のリスト\n",
    "        dic[i]=L[0][n]            #L[0][n]→ nが０だった場合、田中\n",
    "        n+=1                      #forの繰り返し、nに１が足される\n",
    "        \n",
    "        \n",
    "        #辞書としてageとnameが対応するようにして\n",
    "        #アルゴリズムで入れ替えるようにして\n",
    "    \n",
    "    age=L[1]                       #０が名前のリスト、１が年齢のリスト\n",
    "    \n",
    "    for i in range(1,len(age)):    #アルゴリズム\n",
    "        j = i\n",
    "        while (j > 0) and (age[j-1] > age[j]) :\n",
    "            tmp = age[j-1]\n",
    "            age[j-1] = age[j]\n",
    "            age[j] = tmp\n",
    "            j -= 1                #アルゴリズム\n",
    "            \n",
    "        \n",
    "        #リストのageが小さい順に並ぶようにしてる\n",
    "    \n",
    "    n=0\n",
    "    for i in age:\n",
    "        L[0][n]=dic[i]            #リストに辞書の値を代入してる　L[0][n]→村上さんを入れてる\n",
    "        n+=1\n",
    "    return L\n",
    "\n",
    "print(sorted( [ ['田中', '山下', '中村', '村上', '江口'], [35, 69, 21, 12, 46] ] ) )\n",
    "\n",
    "    "
   ]
  },
  {
   "cell_type": "code",
   "execution_count": null,
   "metadata": {
    "collapsed": true
   },
   "outputs": [],
   "source": []
  }
 ],
 "metadata": {
  "kernelspec": {
   "display_name": "Python 3",
   "language": "python",
   "name": "python3"
  },
  "language_info": {
   "codemirror_mode": {
    "name": "ipython",
    "version": 3
   },
   "file_extension": ".py",
   "mimetype": "text/x-python",
   "name": "python",
   "nbconvert_exporter": "python",
   "pygments_lexer": "ipython3",
   "version": "3.6.0"
  }
 },
 "nbformat": 4,
 "nbformat_minor": 2
}
