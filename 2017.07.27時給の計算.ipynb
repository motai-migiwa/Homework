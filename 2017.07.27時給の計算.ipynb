{
 "cells": [
  {
   "cell_type": "code",
   "execution_count": 1,
   "metadata": {
    "collapsed": false
   },
   "outputs": [
    {
     "name": "stdout",
     "output_type": "stream",
     "text": [
      "時給はいくらですか？1200\n",
      "何時間働きましたか？5\n",
      "何日働きましたか？12\n",
      "\n",
      "時給1200円で、5時間12日働いたので...\n",
      "給料は72000円です。\n",
      "\n"
     ]
    }
   ],
   "source": [
    "#時給計算プログラム\n",
    "\n",
    "#時給の入力\n",
    "user = input('時給はいくらですか？')\n",
    "jikyu = int(user)\n",
    "\n",
    "#時間の入力\n",
    "user = input('何時間働きましたか？')\n",
    "try:\n",
    "    jikan = int(user)\n",
    "except:\n",
    "    jikan = float(user)\n",
    "\n",
    "#日にちの入力\n",
    "user = input('何日働きましたか？')\n",
    "hiniti = int(user)\n",
    "\n",
    "    \n",
    "#計算\n",
    "kyuryou = int((jikyu * jikan) * hiniti)\n",
    "\n",
    "#結果を表示\n",
    "fmt = \"\"\"\n",
    "時給{0}円で、{1}時間{2}日働いたので...\n",
    "給料は{3}円です。\n",
    "\"\"\"\n",
    "\n",
    "desc = fmt.format(jikyu,jikan,hiniti,kyuryou)\n",
    "print(desc)"
   ]
  },
  {
   "cell_type": "code",
   "execution_count": null,
   "metadata": {
    "collapsed": true
   },
   "outputs": [],
   "source": []
  },
  {
   "cell_type": "code",
   "execution_count": null,
   "metadata": {
    "collapsed": true
   },
   "outputs": [],
   "source": []
  }
 ],
 "metadata": {
  "kernelspec": {
   "display_name": "Python 3",
   "language": "python",
   "name": "python3"
  },
  "language_info": {
   "codemirror_mode": {
    "name": "ipython",
    "version": 3
   },
   "file_extension": ".py",
   "mimetype": "text/x-python",
   "name": "python",
   "nbconvert_exporter": "python",
   "pygments_lexer": "ipython3",
   "version": "3.6.0"
  }
 },
 "nbformat": 4,
 "nbformat_minor": 2
}
