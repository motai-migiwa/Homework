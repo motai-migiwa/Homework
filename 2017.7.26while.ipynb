{
 "cells": [
  {
   "cell_type": "code",
   "execution_count": 1,
   "metadata": {
    "collapsed": false
   },
   "outputs": [
    {
     "name": "stdout",
     "output_type": "stream",
     "text": [
      "2500 2550\n"
     ]
    }
   ],
   "source": [
    "#1,2,3,...,100のうちの奇数だけの合計と偶数だけの合計を求めてください\n",
    "\n",
    "num = 0\n",
    "kisuu = 0\n",
    "gusuu = 0\n",
    "\n",
    "while num < 100:\n",
    "    num += 1\n",
    "    if num % 2 == 1:\n",
    "        kisuu += num\n",
    "    elif num % 2 == 0:\n",
    "        gusuu += num\n",
    "print(kisuu,gusuu)        "
   ]
  },
  {
   "cell_type": "code",
   "execution_count": 8,
   "metadata": {
    "collapsed": false
   },
   "outputs": [
    {
     "name": "stdout",
     "output_type": "stream",
     "text": [
      "30\n",
      "1\n",
      "2\n",
      "Fizz\n",
      "4\n",
      "Buzz\n",
      "Fizz\n",
      "7\n",
      "8\n",
      "Fizz\n",
      "Buzz\n",
      "11\n",
      "Fizz\n",
      "13\n",
      "14\n",
      "FizzBuzz\n",
      "16\n",
      "17\n",
      "Fizz\n",
      "19\n",
      "Buzz\n",
      "Fizz\n",
      "22\n",
      "23\n",
      "Fizz\n",
      "Buzz\n",
      "26\n",
      "Fizz\n",
      "28\n",
      "29\n",
      "FizzBuzz\n"
     ]
    }
   ],
   "source": [
    "#整数Nが入力されます。1,2,...,Nを一行ずつ表示させてください。ただし3の倍数のときには数の代わりに'Fizz'、\n",
    "#5の倍数のときには数の代わりに'Buzz'、3の倍数かつ5の倍数のときには、'FizzBuzz'と表示してください\n",
    "\n",
    "N = input()\n",
    "\n",
    "num = 0\n",
    "san = 0\n",
    "go = 0\n",
    "jyugo = 0\n",
    "\n",
    "while num < int(N):\n",
    "    num += 1\n",
    "    if num % 15 == 0:\n",
    "        jyugo += num\n",
    "        print('FizzBuzz')\n",
    "        continue\n",
    "    if num % 5 == 0:\n",
    "        go += num\n",
    "        print('Buzz')\n",
    "        continue\n",
    "    if num % 3 == 0:\n",
    "        san += num\n",
    "        print('Fizz')\n",
    "        continue\n",
    "    else:\n",
    "        print(num)"
   ]
  },
  {
   "cell_type": "code",
   "execution_count": 3,
   "metadata": {
    "collapsed": false
   },
   "outputs": [
    {
     "data": {
      "text/plain": [
       "str"
      ]
     },
     "execution_count": 3,
     "metadata": {},
     "output_type": "execute_result"
    }
   ],
   "source": [
    "type(N)"
   ]
  },
  {
   "cell_type": "code",
   "execution_count": 11,
   "metadata": {
    "collapsed": false
   },
   "outputs": [
    {
     "name": "stdout",
     "output_type": "stream",
     "text": [
      "55\n"
     ]
    }
   ],
   "source": [
    "#1,2,3,...,10の平均を求めてください\n",
    "\n",
    "num = 0\n",
    "heikin = 0\n",
    "\n",
    "while num < 10:\n",
    "    num += 1\n",
    "    heikin += num\n",
    "print(heikin)"
   ]
  },
  {
   "cell_type": "code",
   "execution_count": null,
   "metadata": {
    "collapsed": true
   },
   "outputs": [],
   "source": [
    "#1,2,3,4,6,7,8,9,10を表示するプログラムを書いてください\n",
    "\n",
    "num = "
   ]
  }
 ],
 "metadata": {
  "kernelspec": {
   "display_name": "Python 3",
   "language": "python",
   "name": "python3"
  },
  "language_info": {
   "codemirror_mode": {
    "name": "ipython",
    "version": 3
   },
   "file_extension": ".py",
   "mimetype": "text/x-python",
   "name": "python",
   "nbconvert_exporter": "python",
   "pygments_lexer": "ipython3",
   "version": "3.6.0"
  }
 },
 "nbformat": 4,
 "nbformat_minor": 2
}
