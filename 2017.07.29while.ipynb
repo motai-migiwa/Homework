{
 "cells": [
  {
   "cell_type": "code",
   "execution_count": 48,
   "metadata": {
    "collapsed": false
   },
   "outputs": [
    {
     "name": "stdout",
     "output_type": "stream",
     "text": [
      "1\n",
      "2\n",
      "3\n",
      "4\n",
      "5\n",
      "6\n",
      "7\n",
      "8\n",
      "9\n",
      "10\n"
     ]
    }
   ],
   "source": [
    "#1,2,3,...,10を表示するプログラムを書いてください\n",
    "\n",
    "num = 0\n",
    "while num < 10:\n",
    "    num += 1\n",
    "    print(num)"
   ]
  },
  {
   "cell_type": "code",
   "execution_count": 39,
   "metadata": {
    "collapsed": false
   },
   "outputs": [
    {
     "name": "stdout",
     "output_type": "stream",
     "text": [
      "2\n",
      "4\n",
      "6\n",
      "8\n",
      "10\n"
     ]
    }
   ],
   "source": [
    "#2,4,...,8,10を表示するプログラムを書いてください\n",
    "\n",
    "num = 0\n",
    "while num < 10:\n",
    "    num += 1\n",
    "    if num % 2 == 0:\n",
    "        print(num)"
   ]
  },
  {
   "cell_type": "code",
   "execution_count": 50,
   "metadata": {
    "collapsed": false
   },
   "outputs": [
    {
     "name": "stdout",
     "output_type": "stream",
     "text": [
      "1\n",
      "4\n",
      "9\n",
      "16\n",
      "25\n",
      "36\n",
      "49\n",
      "64\n",
      "81\n",
      "100\n"
     ]
    }
   ],
   "source": [
    "#1,4,9,16,25,...,64,81,100を表示するプログラムを書いてください\n",
    "\n",
    "num = 0\n",
    "while num < 10:\n",
    "    num += 1\n",
    "    print(num**2)"
   ]
  },
  {
   "cell_type": "code",
   "execution_count": 2,
   "metadata": {
    "collapsed": false
   },
   "outputs": [
    {
     "name": "stdout",
     "output_type": "stream",
     "text": [
      "55\n"
     ]
    }
   ],
   "source": [
    "#1,2,3,...,10の合計を求めてください\n",
    "\n",
    "total = 0\n",
    "num = 0\n",
    "while num < 10:\n",
    "    num += 1\n",
    "    total += num\n",
    "print(total)"
   ]
  },
  {
   "cell_type": "code",
   "execution_count": 59,
   "metadata": {
    "collapsed": false
   },
   "outputs": [
    {
     "name": "stdout",
     "output_type": "stream",
     "text": [
      "1\n",
      "2\n",
      "3\n",
      "4\n",
      "6\n",
      "7\n",
      "8\n",
      "9\n",
      "10\n"
     ]
    }
   ],
   "source": [
    "#1,2,3,4,6,7,8,9,10を表示するプログラムを書いてください\n",
    "\n",
    "num = 0\n",
    "while num < 10:\n",
    "    num += 1\n",
    "    if num == 5:\n",
    "        continue\n",
    "    print(num)"
   ]
  },
  {
   "cell_type": "code",
   "execution_count": 64,
   "metadata": {
    "collapsed": false
   },
   "outputs": [
    {
     "name": "stdout",
     "output_type": "stream",
     "text": [
      "2500 2550\n"
     ]
    }
   ],
   "source": [
    "#1,2,3,...,100のうちの奇数だけの合計と偶数だけの合計を求めてください\n",
    "\n",
    "num = 0\n",
    "kisuu = 0\n",
    "guusu = 0\n",
    "while num < 100:\n",
    "    num += 1\n",
    "    if num % 2 == 1:\n",
    "        kisuu += num\n",
    "        \n",
    "    elif num % 2 == 0:\n",
    "        guusu  += num\n",
    "print(kisuu, guusu)"
   ]
  },
  {
   "cell_type": "code",
   "execution_count": 66,
   "metadata": {
    "collapsed": false
   },
   "outputs": [
    {
     "name": "stdout",
     "output_type": "stream",
     "text": [
      "5.5\n"
     ]
    }
   ],
   "source": [
    "#1,2,3,...,10の平均を求めてください\n",
    "\n",
    "total = 0\n",
    "num = 0\n",
    "while num < 10:\n",
    "    num += 1\n",
    "    total += num\n",
    "print(total / num)"
   ]
  },
  {
   "cell_type": "code",
   "execution_count": 69,
   "metadata": {
    "collapsed": false
   },
   "outputs": [
    {
     "name": "stdout",
     "output_type": "stream",
     "text": [
      "5\n",
      "1\n",
      "2\n",
      "3\n",
      "4\n",
      "5\n"
     ]
    }
   ],
   "source": [
    "#整数Nが入力されます。1,2,...,Nを表示するプログラムを書いてください\n",
    "\n",
    "n = input()\n",
    "\n",
    "num = 0\n",
    "while num < int(n):\n",
    "    num += 1\n",
    "    print(num)    "
   ]
  },
  {
   "cell_type": "code",
   "execution_count": 75,
   "metadata": {
    "collapsed": false
   },
   "outputs": [
    {
     "name": "stdout",
     "output_type": "stream",
     "text": [
      "4\n",
      "nuts1\n",
      "nuts2\n",
      "nuts3\n",
      "nuts4\n"
     ]
    }
   ],
   "source": [
    "'''\n",
    "整数N(購入するナッツの個数)が入力されます。続けて文字列nuts(購入するナッツの名前)と整数Price(対応するナッツの価格)がN行入力されます。\n",
    "購入するナッツとその価格をN行で表示し、続けて合計金額を表示してください\n",
    "'''\n",
    "\n",
    "n = input()\n",
    "nuts = 0\n",
    "price = 550\n",
    "\n",
    "while nuts < int(n):\n",
    "    nuts += 1\n",
    "    print('nuts'+ str(nuts))"
   ]
  },
  {
   "cell_type": "code",
   "execution_count": 85,
   "metadata": {
    "collapsed": false
   },
   "outputs": [
    {
     "name": "stdout",
     "output_type": "stream",
     "text": [
      "購入するナッツの個数を入力してください:4\n",
      "nuts550\n",
      "nuts550\n",
      "nuts550\n",
      "nuts550\n",
      "2200\n"
     ]
    }
   ],
   "source": [
    "'''\n",
    "整数N(購入するナッツの個数)が入力されます。続けて文字列nuts(購入するナッツの名前)と整数Price(対応するナッツの価格)がN行入力されます。\n",
    "購入するナッツとその価格をN行で表示し、続けて合計金額を表示してください\n",
    "'''\n",
    "\n",
    "n = input('購入するナッツの個数を入力してください:')\n",
    "nuts = 0\n",
    "price = 550\n",
    "total_price = 0\n",
    "\n",
    "while nuts < int(n):\n",
    "    nuts += 1\n",
    "    total_price += price\n",
    "    print('nuts'+ str(price))\n",
    "print(total_price)"
   ]
  },
  {
   "cell_type": "code",
   "execution_count": 6,
   "metadata": {
    "collapsed": false
   },
   "outputs": [
    {
     "name": "stdout",
     "output_type": "stream",
     "text": [
      "4\n"
     ]
    }
   ],
   "source": [
    "#２の累乗の数で100よりも大きいもののうち最も小さい値を求めてください(２の累乗とは2^0=1,2^1=2,2^2=4,2^3=8,...です)\n",
    "\n",
    "x=2\n",
    "ruijyou = x**2\n",
    "print(ruijyou)"
   ]
  },
  {
   "cell_type": "code",
   "execution_count": 33,
   "metadata": {
    "collapsed": false
   },
   "outputs": [
    {
     "name": "stdout",
     "output_type": "stream",
     "text": [
      "128\n"
     ]
    }
   ],
   "source": [
    "#２の累乗の数で100よりも大きいもののうち最も小さい値を求めてください(２の累乗とは2^0=1,2^1=2,2^2=4,2^3=8,...です)\n",
    "\n",
    "num = 0\n",
    "\n",
    "while num < 100 :\n",
    "    ruijyou = 2**num\n",
    "    num += 1\n",
    "    if ruijyou >100:\n",
    "        print(ruijyou)\n",
    "        break"
   ]
  },
  {
   "cell_type": "code",
   "execution_count": null,
   "metadata": {
    "collapsed": true
   },
   "outputs": [],
   "source": []
  }
 ],
 "metadata": {
  "kernelspec": {
   "display_name": "Python 3",
   "language": "python",
   "name": "python3"
  },
  "language_info": {
   "codemirror_mode": {
    "name": "ipython",
    "version": 3
   },
   "file_extension": ".py",
   "mimetype": "text/x-python",
   "name": "python",
   "nbconvert_exporter": "python",
   "pygments_lexer": "ipython3",
   "version": "3.6.0"
  }
 },
 "nbformat": 4,
 "nbformat_minor": 2
}
