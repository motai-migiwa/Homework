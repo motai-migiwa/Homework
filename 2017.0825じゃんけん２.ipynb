{
 "cells": [
  {
   "cell_type": "code",
   "execution_count": 13,
   "metadata": {
    "collapsed": false
   },
   "outputs": [
    {
     "name": "stdout",
     "output_type": "stream",
     "text": [
      "名前を入力してください\n",
      "出す手の番号を入力してください1\n",
      "ゲストはチョキを出しました\n",
      "コンピューターはチョキを出しました\n",
      "結果はあいこでした\n"
     ]
    }
   ],
   "source": [
    "import random\n",
    "\n",
    "def validate(hand):\n",
    "    if hand < 0 and hand < 2:\n",
    "        return False\n",
    "    else:\n",
    "        return True\n",
    "    \n",
    "def jyanken(hand,name='ゲスト'):\n",
    "    hands = ['グー','チョキ','パー']\n",
    "    print(name + 'は' + hands[hand] + 'を出しました')\n",
    "\n",
    "player_name = input('名前を入力してください')\n",
    "player_hand = int(input('出す手の番号を入力してください'))\n",
    "\n",
    "def result(player_hand):\n",
    "    computer_hand = random.randint(0,2)\n",
    "    jyanken(computer_hand,'コンピューター')\n",
    "    \n",
    "    #グーのとき\n",
    "    if player_hand == 0:\n",
    "        if computer_hand == 0:\n",
    "            return 'あいこ'\n",
    "        if computer_hand == 1:\n",
    "            return '勝ち'\n",
    "        else:\n",
    "            return '負け'\n",
    "        \n",
    "    #チョキのとき\n",
    "    if player_hand == 1:\n",
    "        if computer_hand == 0:\n",
    "            return '負け'\n",
    "        if computer_hand == 1:\n",
    "            return 'あいこ'\n",
    "        else:\n",
    "            return '勝ち'\n",
    "        \n",
    "    #パーのとき\n",
    "    if player_hand == 2:\n",
    "        if computer_hand == 0:\n",
    "            return '勝ち'\n",
    "        if computer_hand == 1:\n",
    "            return '負け'\n",
    "        else:\n",
    "            return 'あいこ'\n",
    "        \n",
    "if validate(player_hand):\n",
    "        \n",
    "    if player_name == '':\n",
    "        jyanken(player_hand)\n",
    "        \n",
    "    else:\n",
    "        jyanken(player_hand,player_name)\n",
    "    \n",
    "    print('結果は' + result(player_hand) + 'でした')\n",
    "    \n",
    "else:\n",
    "    ('正しい番号を入力してください')\n"
   ]
  },
  {
   "cell_type": "code",
   "execution_count": 11,
   "metadata": {
    "collapsed": false
   },
   "outputs": [
    {
     "name": "stdout",
     "output_type": "stream",
     "text": [
      "西暦何年？2018\n",
      "うるう年じゃない\n"
     ]
    }
   ],
   "source": [
    "year = int(input('西暦何年？'))\n",
    "\n",
    "def leap_year():\n",
    "    \n",
    "    if year % 400 == 0:\n",
    "        print('うるう年')\n",
    "        \n",
    "    elif year % 100 == 0:\n",
    "        print('うるう年じゃない')\n",
    "        \n",
    "    elif year % 4 == 0:\n",
    "        print('うるう年')\n",
    "        \n",
    "    else:\n",
    "        print('うるう年じゃない')\n",
    "        \n",
    "leap_year()"
   ]
  },
  {
   "cell_type": "code",
   "execution_count": 15,
   "metadata": {
    "collapsed": false
   },
   "outputs": [
    {
     "name": "stdout",
     "output_type": "stream",
     "text": [
      "1\n",
      "2\n",
      "Fizz\n",
      "4\n",
      "Buzz\n",
      "Fizz\n",
      "7\n",
      "8\n",
      "Fizz\n",
      "Buzz\n",
      "11\n",
      "Fizz\n",
      "13\n",
      "14\n",
      "FizzBuzz\n",
      "16\n",
      "17\n",
      "Fizz\n",
      "19\n",
      "Buzz\n",
      "Fizz\n",
      "22\n",
      "23\n",
      "Fizz\n",
      "Buzz\n",
      "26\n",
      "Fizz\n",
      "28\n",
      "29\n",
      "FizzBuzz\n"
     ]
    }
   ],
   "source": [
    "def game():\n",
    "    \n",
    "    for i in range(1,31):\n",
    "        \n",
    "        if i % 15 == 0:\n",
    "            print('FizzBuzz')\n",
    "        elif i % 5 == 0:\n",
    "            print('Buzz')\n",
    "        elif i % 3 == 0:\n",
    "            print('Fizz')\n",
    "        else:\n",
    "            print(i)\n",
    "            \n",
    "game()"
   ]
  },
  {
   "cell_type": "code",
   "execution_count": null,
   "metadata": {
    "collapsed": true
   },
   "outputs": [],
   "source": []
  }
 ],
 "metadata": {
  "kernelspec": {
   "display_name": "Python 3",
   "language": "python",
   "name": "python3"
  },
  "language_info": {
   "codemirror_mode": {
    "name": "ipython",
    "version": 3
   },
   "file_extension": ".py",
   "mimetype": "text/x-python",
   "name": "python",
   "nbconvert_exporter": "python",
   "pygments_lexer": "ipython3",
   "version": "3.6.0"
  }
 },
 "nbformat": 4,
 "nbformat_minor": 2
}
