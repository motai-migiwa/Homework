{
 "cells": [
  {
   "cell_type": "code",
   "execution_count": 7,
   "metadata": {
    "collapsed": false
   },
   "outputs": [
    {
     "name": "stdout",
     "output_type": "stream",
     "text": [
      "R&Bです\n",
      "popです\n",
      "R&Bです\n",
      "R&Bは2曲です。\n",
      "popは1曲です。\n"
     ]
    }
   ],
   "source": [
    "#L = {'曲名':'ジャンル'}\n",
    "L = {'Thats What I Like':'R&B','BURNITUP!':'pop','The Lasy Song':'R&B'}\n",
    "\n",
    "RB_count = 0\n",
    "pop_count = 0\n",
    "\n",
    "for i in L.keys():\n",
    "    if L[i] == 'R&B':\n",
    "        RB_count += 1\n",
    "        print('R&Bです')\n",
    "    elif L[i] == 'pop':\n",
    "        pop_count += 1\n",
    "        print('popです')\n",
    "\n",
    "        \n",
    "print('R&Bは{}曲です。\\npopは{}曲です。'.format(RB_count,pop_count))"
   ]
  },
  {
   "cell_type": "code",
   "execution_count": null,
   "metadata": {
    "collapsed": true
   },
   "outputs": [],
   "source": []
  }
 ],
 "metadata": {
  "kernelspec": {
   "display_name": "Python 3",
   "language": "python",
   "name": "python3"
  },
  "language_info": {
   "codemirror_mode": {
    "name": "ipython",
    "version": 3
   },
   "file_extension": ".py",
   "mimetype": "text/x-python",
   "name": "python",
   "nbconvert_exporter": "python",
   "pygments_lexer": "ipython3",
   "version": "3.6.0"
  }
 },
 "nbformat": 4,
 "nbformat_minor": 2
}
