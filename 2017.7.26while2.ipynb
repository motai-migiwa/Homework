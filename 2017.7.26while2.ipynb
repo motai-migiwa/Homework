{
 "cells": [
  {
   "cell_type": "code",
   "execution_count": 1,
   "metadata": {
    "collapsed": false
   },
   "outputs": [
    {
     "name": "stdout",
     "output_type": "stream",
     "text": [
      "1\n",
      "2\n",
      "3\n",
      "4\n",
      "5\n",
      "6\n",
      "7\n",
      "8\n",
      "9\n",
      "10\n"
     ]
    }
   ],
   "source": [
    "#1,2,3,...,10を表示するプログラムを書いてください\n",
    "\n",
    "num = 0\n",
    "while num < 10:\n",
    "    num += 1\n",
    "    print(num)"
   ]
  },
  {
   "cell_type": "code",
   "execution_count": 2,
   "metadata": {
    "collapsed": false
   },
   "outputs": [
    {
     "name": "stdout",
     "output_type": "stream",
     "text": [
      "2\n",
      "4\n",
      "6\n",
      "8\n",
      "10\n"
     ]
    }
   ],
   "source": [
    "#2,4,...,8,10を表示するプログラムを書いてください\n",
    "\n",
    "num = 0\n",
    "while num < 10:\n",
    "    num += 1\n",
    "    if num % 2 == 0:\n",
    "        print(num)"
   ]
  },
  {
   "cell_type": "code",
   "execution_count": 3,
   "metadata": {
    "collapsed": false
   },
   "outputs": [
    {
     "name": "stdout",
     "output_type": "stream",
     "text": [
      "1\n",
      "4\n",
      "9\n",
      "16\n",
      "25\n",
      "36\n",
      "49\n",
      "64\n",
      "81\n",
      "100\n"
     ]
    }
   ],
   "source": [
    "#1,4,9,16,25,...,64,81,100を表示するプログラムを書いてください\n",
    "\n",
    "num = 0\n",
    "\n",
    "while num < 10:\n",
    "    \n",
    "    num += 1\n",
    "    print(num**2)"
   ]
  },
  {
   "cell_type": "code",
   "execution_count": 7,
   "metadata": {
    "collapsed": false
   },
   "outputs": [
    {
     "name": "stdout",
     "output_type": "stream",
     "text": [
      "1\n",
      "2\n",
      "3\n",
      "4\n",
      "6\n",
      "7\n",
      "8\n",
      "9\n",
      "10\n"
     ]
    }
   ],
   "source": [
    "#1,2,3,4,6,7,8,9,10を表示するプログラムを書いてください\n",
    "\n",
    "num = 0\n",
    "while num < 10:\n",
    "    num += 1\n",
    "    if num == 5:\n",
    "        continue\n",
    "    print(num)"
   ]
  },
  {
   "cell_type": "code",
   "execution_count": 10,
   "metadata": {
    "collapsed": false
   },
   "outputs": [
    {
     "name": "stdout",
     "output_type": "stream",
     "text": [
      "55\n"
     ]
    }
   ],
   "source": [
    "#1,2,3,...,10の合計を求めてください\n",
    "\n",
    "num = 0\n",
    "total = 0\n",
    "\n",
    "while num < 10:\n",
    "    num += 1\n",
    "    total += num\n",
    "print(total)"
   ]
  },
  {
   "cell_type": "code",
   "execution_count": 14,
   "metadata": {
    "collapsed": false
   },
   "outputs": [
    {
     "name": "stdout",
     "output_type": "stream",
     "text": [
      "2500 2550\n"
     ]
    }
   ],
   "source": [
    "#1,2,3,...,100のうちの奇数だけの合計と偶数だけの合計を求めてください\n",
    "\n",
    "num = 0\n",
    "kisuu = 0\n",
    "gusuu = 0\n",
    "\n",
    "while num < 100:\n",
    "    num += 1\n",
    "    if num % 2 == 1:\n",
    "        kisuu += num\n",
    "    elif num % 2 == 0:\n",
    "        gusuu += num\n",
    "print(kisuu,gusuu)"
   ]
  },
  {
   "cell_type": "code",
   "execution_count": 16,
   "metadata": {
    "collapsed": false
   },
   "outputs": [
    {
     "name": "stdout",
     "output_type": "stream",
     "text": [
      "5.5\n"
     ]
    }
   ],
   "source": [
    "#1,2,3,...,10の平均を求めてください\n",
    "\n",
    "num = 0\n",
    "heikin = 0\n",
    "while num < 10:\n",
    "    num += 1\n",
    "    heikin += num\n",
    "print(heikin / num)"
   ]
  },
  {
   "cell_type": "code",
   "execution_count": 19,
   "metadata": {
    "collapsed": false
   },
   "outputs": [
    {
     "name": "stdout",
     "output_type": "stream",
     "text": [
      "4\n",
      "1\n",
      "2\n",
      "3\n",
      "4\n"
     ]
    }
   ],
   "source": [
    "#整数Nが入力されます。1,2,...,Nを表示するプログラムを書いてください\n",
    "\n",
    "N = input()\n",
    "num = 0 \n",
    "while num < int(N):\n",
    "    num += 1\n",
    "    print(num)"
   ]
  },
  {
   "cell_type": "code",
   "execution_count": 37,
   "metadata": {
    "collapsed": false
   },
   "outputs": [
    {
     "name": "stdout",
     "output_type": "stream",
     "text": [
      "アボカドを何個買いますか？：4\n",
      "avocado98\n",
      "avocado98\n",
      "avocado98\n",
      "avocado98\n",
      "980\n"
     ]
    }
   ],
   "source": [
    "#整数N(購入する果物の個数)が入力されます。続けて文字列Fruits(購入する果物の名前)と整数Price(対応する果物の価格)がN行入力されます。\n",
    "#購入する果物とその価格をN行で表示し、続けて合計金額を表示してください\n",
    "\n",
    "N = int(input('アボカドを何個買いますか？：'))\n",
    "avocado = 0\n",
    "price = 98\n",
    "total_price = 0\n",
    "\n",
    "while avocado < N:\n",
    "    avocado += 1\n",
    "    total_price += avocado\n",
    "    print('avocado' + str(price))\n",
    "print(total_price * price)\n",
    "    "
   ]
  },
  {
   "cell_type": "code",
   "execution_count": null,
   "metadata": {
    "collapsed": true
   },
   "outputs": [],
   "source": []
  }
 ],
 "metadata": {
  "kernelspec": {
   "display_name": "Python 3",
   "language": "python",
   "name": "python3"
  },
  "language_info": {
   "codemirror_mode": {
    "name": "ipython",
    "version": 3
   },
   "file_extension": ".py",
   "mimetype": "text/x-python",
   "name": "python",
   "nbconvert_exporter": "python",
   "pygments_lexer": "ipython3",
   "version": "3.6.0"
  }
 },
 "nbformat": 4,
 "nbformat_minor": 2
}
