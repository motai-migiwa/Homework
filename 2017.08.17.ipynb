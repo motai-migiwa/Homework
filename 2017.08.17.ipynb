{
 "cells": [
  {
   "cell_type": "code",
   "execution_count": null,
   "metadata": {
    "collapsed": true
   },
   "outputs": [],
   "source": [
    "#4.辞書playerの国をカウントして出力する\n",
    "player = {'長友':'japan','本田':'japan','香川':'japan','ネイマール':'Brasil','カカ':'Brasil','ロナウド':'portugal'}\n",
    "\n",
    ">>>3 2 1\n",
    "\n",
    "#4-1.fomatを使って以下の出力に変えてください\n",
    ">>>日本は3人です。ブラジルは2人です。ポルトガルは1人です。\n"
   ]
  },
  {
   "cell_type": "code",
   "execution_count": 5,
   "metadata": {
    "collapsed": false
   },
   "outputs": [
    {
     "name": "stdout",
     "output_type": "stream",
     "text": [
      "3 2 1\n",
      "日本は3人です。ブラジルは2人です。ポルトガルは1人です。\n"
     ]
    }
   ],
   "source": [
    "player = {'長友':'japan','本田':'japan','香川':'japan','ネイマール':'Brasil','カカ':'Brasil','ロナウド':'portugal'}\n",
    "\n",
    "\n",
    "japan = 0\n",
    "Brasil = 0\n",
    "portugal = 0\n",
    "\n",
    "for i in player:\n",
    "    \n",
    "    if player[i]=='japan':\n",
    "        japan += 1\n",
    "        \n",
    "    if player[i]=='Brasil':\n",
    "        Brasil += 1\n",
    "    \n",
    "    if player[i]=='portugal':\n",
    "        portugal += 1\n",
    "        \n",
    "print(japan,Brasil,portugal)\n",
    "\n",
    "print('日本は{}人です。ブラジルは{}人です。ポルトガルは{}人です。'.format(japan,Brasil,portugal))"
   ]
  },
  {
   "cell_type": "code",
   "execution_count": 10,
   "metadata": {
    "collapsed": false
   },
   "outputs": [
    {
     "name": "stdout",
     "output_type": "stream",
     "text": [
      "['長友', '本田', '香川', 'ネイマール', 'カカ', 'ロナウド']\n"
     ]
    }
   ],
   "source": [
    "L = [['長友','japan',170],['本田','japan',182],['香川','japan',175],['ネイマール','Brasil',175],\n",
    "              ['カカ','Brasil',186],['ロナウド','portugal',185]]\n",
    "#1.リストLの名前のリストを作る\n",
    "#>>> ['長友', '本田', '香川', 'ネイマール', 'カカ', 'ロナウド']\n",
    "\n",
    "name = []\n",
    "\n",
    "for i in range(len(L)):\n",
    "    name.append(L[i][0])\n",
    "print(name)"
   ]
  },
  {
   "cell_type": "code",
   "execution_count": null,
   "metadata": {
    "collapsed": true
   },
   "outputs": [],
   "source": []
  }
 ],
 "metadata": {
  "kernelspec": {
   "display_name": "Python 3",
   "language": "python",
   "name": "python3"
  },
  "language_info": {
   "codemirror_mode": {
    "name": "ipython",
    "version": 3
   },
   "file_extension": ".py",
   "mimetype": "text/x-python",
   "name": "python",
   "nbconvert_exporter": "python",
   "pygments_lexer": "ipython3",
   "version": "3.6.0"
  }
 },
 "nbformat": 4,
 "nbformat_minor": 2
}
