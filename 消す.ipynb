{
 "cells": [
  {
   "cell_type": "code",
   "execution_count": 3,
   "metadata": {
    "collapsed": false
   },
   "outputs": [
    {
     "name": "stdout",
     "output_type": "stream",
     "text": [
      "{'japan': 3, 'Brasil': 2, 'portugal': 1}\n"
     ]
    }
   ],
   "source": [
    "L = [['長友','japan',170],['本田','japan',182],['香川','japan',175],['ネイマール','Brasil',175],\n",
    "              ['カカ','Brasil',186],['ロナウド','portugal',185]]\n",
    "\n",
    "dic = {'japan':0,'Brasil':0,'portugal':0}\n",
    "\n",
    "def count(x,y,z):\n",
    "    for i in range(len(L)):\n",
    "        if L[i][1] == x:\n",
    "            dic[x] += 1\n",
    "        elif L[i][1] == y:\n",
    "            dic[y] += 1\n",
    "        else:\n",
    "            dic[z] += 1\n",
    "    return dic\n",
    "print(count('japan','Brasil','portugal'))"
   ]
  },
  {
   "cell_type": "code",
   "execution_count": null,
   "metadata": {
    "collapsed": true
   },
   "outputs": [],
   "source": []
  }
 ],
 "metadata": {
  "kernelspec": {
   "display_name": "Python 3",
   "language": "python",
   "name": "python3"
  },
  "language_info": {
   "codemirror_mode": {
    "name": "ipython",
    "version": 3
   },
   "file_extension": ".py",
   "mimetype": "text/x-python",
   "name": "python",
   "nbconvert_exporter": "python",
   "pygments_lexer": "ipython3",
   "version": "3.6.0"
  }
 },
 "nbformat": 4,
 "nbformat_minor": 2
}
