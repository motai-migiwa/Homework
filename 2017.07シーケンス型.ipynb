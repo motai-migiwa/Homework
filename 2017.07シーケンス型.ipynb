{
 "cells": [
  {
   "cell_type": "code",
   "execution_count": null,
   "metadata": {
    "collapsed": true
   },
   "outputs": [],
   "source": [
    "a = [3,2,1]\n",
    "b = [10,200,30]\n",
    "\n",
    "# 大きさ\n",
    " print \"len(a) :\" , len(a)\n",
    "\n",
    "#空か？\n",
    "if len(a) == 0: print\"empty\"\n",
    "else:           print\"not empty\""
   ]
  },
  {
   "cell_type": "code",
   "execution_count": null,
   "metadata": {
    "collapsed": true
   },
   "outputs": [],
   "source": [
    "# 末尾に追加\n",
    "a.append(4)\n",
    "print a\n",
    "\n",
    "# 挿入\n",
    "a.insert(2,100)\n",
    "print a\n",
    "\n",
    "# 末尾の要素を取り出す\n",
    "print a.pop()\n",
    "print a\n",
    "\n",
    "# 先頭の要素を取り出す\n",
    "print a.pop(0)\n",
    "print a\n",
    "\n",
    "# 別の配列を足す\n",
    "a.extend(b)\n",
    "print a\n",
    "\n",
    "# 特定の値を削除する\n",
    "a.remove(100)\n",
    "print a\n",
    "\n",
    "# 特定の位置にある要素を削除する\n",
    "del(a[2])\n",
    "print a"
   ]
  },
  {
   "cell_type": "code",
   "execution_count": null,
   "metadata": {
    "collapsed": true
   },
   "outputs": [],
   "source": [
    "# 特定の値の数をカウントする\n",
    "print a.count(3)\n",
    "print a.count(0)\n",
    "\n",
    "# 特定の要素を含んでいるか調べる\n",
    "print 3 in a\n",
    "print 4 in a"
   ]
  },
  {
   "cell_type": "code",
   "execution_count": null,
   "metadata": {
    "collapsed": true
   },
   "outputs": [],
   "source": [
    "# 先頭の要素\n",
    "print a[0]\n",
    "\n",
    "# 末尾の要素\n",
    "print a[-1]\n",
    "\n",
    "# 特定の区間の要素\n",
    "print a[1:3]  #1~2まで"
   ]
  },
  {
   "cell_type": "code",
   "execution_count": null,
   "metadata": {
    "collapsed": true
   },
   "outputs": [],
   "source": [
    "# sortedは要素自体を並び替えない\n",
    "print\"sorted(a) :\",sorted(a)\n",
    "print a\n",
    "\n",
    "# sortは配列自体を並び替える\n",
    "print a\n",
    "a.sort()\n",
    "print a\n",
    "\n",
    "# 要素を末尾から辿る\n",
    "for elem in reversed(a):\n",
    "    print elem\n",
    "\n",
    "# reversed は要素自体を操作しない\n",
    "for x in reversed(a):\n",
    "    print x\n",
    "print a\n",
    "\n",
    "# reversed は要素自体を逆順にする\n",
    "a.reverse()\n",
    "print a"
   ]
  },
  {
   "cell_type": "code",
   "execution_count": null,
   "metadata": {
    "collapsed": true
   },
   "outputs": [],
   "source": [
    "# 配列の要素を、特定の文字列でつなげる\n",
    "print ','.join(\"abc\")\n",
    "print ','.join(str(x) for x in a)\n",
    "\n",
    "# 要素を全てクリアする\n",
    "b = a\n",
    "a[:] = []\n",
    "print a\n",
    "print b"
   ]
  }
 ],
 "metadata": {
  "kernelspec": {
   "display_name": "Python 3",
   "language": "python",
   "name": "python3"
  },
  "language_info": {
   "codemirror_mode": {
    "name": "ipython",
    "version": 3
   },
   "file_extension": ".py",
   "mimetype": "text/x-python",
   "name": "python",
   "nbconvert_exporter": "python",
   "pygments_lexer": "ipython3",
   "version": "3.6.0"
  }
 },
 "nbformat": 4,
 "nbformat_minor": 2
}
