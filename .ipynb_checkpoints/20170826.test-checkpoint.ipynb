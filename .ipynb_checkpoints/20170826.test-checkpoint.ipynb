{
 "cells": [
  {
   "cell_type": "markdown",
   "metadata": {},
   "source": [
    "# 問題\n",
    "今日の夜ご飯を作るために買い物をしたい.  \n",
    "近くにA・B・Cの３つのスーパーがあるがなるべく安い買い物で済ませたい。  \n",
    "購入したいものは以下である。  \n",
    "* 玉ねぎ\n",
    "* じゃがいも\n",
    "* にんじん\n",
    "* 福神漬け  \n",
    "\n",
    "そして各お店のそれぞれの金額は以下である。  \n",
    "\n",
    "### お店A\n",
    "* 玉ねぎ：     80円\n",
    "* じゃがいも： 100円\n",
    "* にんじん：   75円\n",
    "* 福神漬け：  105円  \n",
    "\n",
    "### お店B\n",
    "* 玉ねぎ： 90円\n",
    "* じゃがいも： 95円\n",
    "* にんじん： 70円\n",
    "* 福神漬け： 110円  \n",
    "\n",
    "### お店C\n",
    "* 玉ねぎ： 100円\n",
    "* じゃがいも： 89円\n",
    "* にんじん： 73円\n",
    "* 福神漬け： 103円  \n",
    "\n",
    "以下の問題に回答せよ。"
   ]
  },
  {
   "cell_type": "markdown",
   "metadata": {},
   "source": [
    "## 問1\n",
    "お店Aで購入するものの金額リストを配列で作れ  \n",
    "配列変数: money_a"
   ]
  },
  {
   "cell_type": "code",
   "execution_count": null,
   "metadata": {
    "collapsed": true
   },
   "outputs": [],
   "source": []
  },
  {
   "cell_type": "markdown",
   "metadata": {},
   "source": [
    "## 問2\n",
    "お店Aで購入するものの中で一番安い商品を見つけるプログラムをfor文を使って作れ  \n",
    "この問題ではmin関数は使わないこと"
   ]
  },
  {
   "cell_type": "code",
   "execution_count": null,
   "metadata": {
    "collapsed": true
   },
   "outputs": [],
   "source": []
  },
  {
   "cell_type": "markdown",
   "metadata": {},
   "source": [
    "## 問3\n",
    "商品と金額が対応したリストを辞書型（ディクショナリ型）を使って作れ  \n",
    "辞書変数  \n",
    "* お店A： store_a\n",
    "* お店B： store_b\n",
    "* お店C： store_c"
   ]
  },
  {
   "cell_type": "code",
   "execution_count": null,
   "metadata": {
    "collapsed": true
   },
   "outputs": [],
   "source": []
  },
  {
   "cell_type": "markdown",
   "metadata": {},
   "source": [
    "## 問4\n",
    "一つの商品の金額をお店ごとに比較をしたい.  \n",
    "商品名を指定したら一番安いお店を示す関数を書け."
   ]
  },
  {
   "cell_type": "code",
   "execution_count": null,
   "metadata": {
    "collapsed": true
   },
   "outputs": [],
   "source": []
  },
  {
   "cell_type": "markdown",
   "metadata": {},
   "source": [
    "## 問5\n",
    "指定の商品を全て買うというなかで合計金額が一番安かったお店を示すプログラムを書け  \n",
    "また合計の計算はsum関数を使うのではなくfor文を使って書くこと"
   ]
  },
  {
   "cell_type": "code",
   "execution_count": null,
   "metadata": {
    "collapsed": true
   },
   "outputs": [],
   "source": []
  },
  {
   "cell_type": "markdown",
   "metadata": {},
   "source": [
    "# 問題"
   ]
  },
  {
   "cell_type": "markdown",
   "metadata": {},
   "source": [
    "## 問1\n",
    "\n",
    "[[‘Alice’, 43, 59], [‘Bob’, 59, 02], [‘Cat’, 49, 29]]のような配列が与えられます。[[‘Alice’, ‘Bob’, ‘Cat’], [43, 59, 49], [59, 02, 29]]のように行と列を入れ替えるプログラムを書いてください"
   ]
  },
  {
   "cell_type": "code",
   "execution_count": null,
   "metadata": {
    "collapsed": true
   },
   "outputs": [],
   "source": []
  },
  {
   "cell_type": "markdown",
   "metadata": {},
   "source": [
    "## 問2\n",
    "\n",
    "[[‘A’, ‘B’, ‘C’, ‘D’, ‘E’, ‘F’, ‘G’], [4, 29, 3, 495, 23,4,5]]のような配列が与えられます。\n",
    "###  1\n",
    "\n",
    "逆順に並べ替えてください(reverseを使わずに)\n",
    "### 2\n",
    "\n",
    "数字が小さい順に並び替えてください(sortやsortedを使わずに)\n"
   ]
  },
  {
   "cell_type": "code",
   "execution_count": null,
   "metadata": {
    "collapsed": true
   },
   "outputs": [],
   "source": []
  },
  {
   "cell_type": "markdown",
   "metadata": {},
   "source": [
    "## 問3\n",
    "\n",
    "じゃんけんをするプログラムを書いてください。プレイヤーの手は’グー’、’チョキ’、’パー’のいずれかが入力されるとします。プレイヤーが必ず負けるような手を表示してください"
   ]
  },
  {
   "cell_type": "code",
   "execution_count": null,
   "metadata": {
    "collapsed": true
   },
   "outputs": [],
   "source": []
  },
  {
   "cell_type": "markdown",
   "metadata": {},
   "source": [
    "## 問4\n",
    "\n",
    "正の整数Nが入力されます。1..Nの番号が振られた人がいて、1,2..Nの順番に時計回りに丸く円をつくっています。そこで次のようなゲームをしたいと思います。時計回りに１人１つ数字を言っていきます。まずは1。次に1,2と数字の上限を一回ごとに増やしていきます。今までで１番大きな数字を言った人は１人ずつ抜けています。最後に抜ける人は何番目の人ですか\n"
   ]
  },
  {
   "cell_type": "code",
   "execution_count": null,
   "metadata": {
    "collapsed": true
   },
   "outputs": [],
   "source": []
  }
 ],
 "metadata": {
  "anaconda-cloud": {},
  "kernelspec": {
   "display_name": "Python 3",
   "language": "python",
   "name": "python3"
  },
  "language_info": {
   "codemirror_mode": {
    "name": "ipython",
    "version": 3
   },
   "file_extension": ".py",
   "mimetype": "text/x-python",
   "name": "python",
   "nbconvert_exporter": "python",
   "pygments_lexer": "ipython3",
   "version": "3.6.0"
  },
  "latex_envs": {
   "bibliofile": "biblio.bib",
   "cite_by": "apalike",
   "current_citInitial": 1,
   "eqLabelWithNumbers": true,
   "eqNumInitial": 0
  },
  "toc": {
   "nav_menu": {
    "height": "310px",
    "width": "253px"
   },
   "navigate_menu": true,
   "number_sections": true,
   "sideBar": true,
   "threshold": 4,
   "toc_cell": false,
   "toc_section_display": "block",
   "toc_window_display": false
  }
 },
 "nbformat": 4,
 "nbformat_minor": 2
}
