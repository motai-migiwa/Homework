{
 "cells": [
  {
   "cell_type": "code",
   "execution_count": 11,
   "metadata": {
    "collapsed": false
   },
   "outputs": [
    {
     "name": "stdout",
     "output_type": "stream",
     "text": [
      "['長友', '本田', '香川', 'ネイマール', 'カカ', 'ロナウド']\n"
     ]
    }
   ],
   "source": [
    "\n",
    "L = [['長友','japan',170],['本田','japan',182],['香川','japan',175],['ネイマール','Brasil',175],\n",
    "              ['カカ','Brasil',186],['ロナウド','portugal',185]]\n",
    "\n",
    "'''\n",
    "#1.リストLの名前のリストを作る\n",
    ">>> ['長友', '本田', '香川', 'ネイマール', 'カカ', 'ロナウド']\n",
    "'''\n",
    "\n",
    "list = []\n",
    "\n",
    "for i in L:# iに入ってるのはLの中にあるリスト　L[0],L[1],L[2],L[3]\n",
    "    if i[0]:\n",
    "        list.append(i[0])\n",
    "print(list)\n",
    "\n"
   ]
  },
  {
   "cell_type": "code",
   "execution_count": 8,
   "metadata": {
    "collapsed": false
   },
   "outputs": [
    {
     "name": "stdout",
     "output_type": "stream",
     "text": [
      "['長友', 'japan', 170] \n",
      "\n",
      "['本田', 'japan', 182] \n",
      "\n",
      "['香川', 'japan', 175] \n",
      "\n",
      "['ネイマール', 'Brasil', 175] \n",
      "\n",
      "['カカ', 'Brasil', 186] \n",
      "\n",
      "['ロナウド', 'portugal', 185] \n",
      "\n"
     ]
    }
   ],
   "source": [
    "for i in L:\n",
    "    print(i,'\\n')"
   ]
  },
  {
   "cell_type": "code",
   "execution_count": 7,
   "metadata": {
    "collapsed": false
   },
   "outputs": [
    {
     "data": {
      "text/plain": [
       "['長友', 'japan', 170]"
      ]
     },
     "execution_count": 7,
     "metadata": {},
     "output_type": "execute_result"
    }
   ],
   "source": [
    "L[1][0]\n",
    "L[['長友', 'japan', 170]]"
   ]
  },
  {
   "cell_type": "code",
   "execution_count": 21,
   "metadata": {
    "collapsed": false
   },
   "outputs": [
    {
     "name": "stdout",
     "output_type": "stream",
     "text": [
      "178\n"
     ]
    }
   ],
   "source": [
    "height = [170,182,175,175,186,185]\n",
    "\n",
    "total = 0\n",
    "heikin = 0\n",
    "\n",
    "for i in height:\n",
    "    total += i\n",
    "    #print(total)\n",
    "    heikin = total // len(height)\n",
    "    \n",
    "print(heikin)"
   ]
  },
  {
   "cell_type": "code",
   "execution_count": 25,
   "metadata": {
    "collapsed": false
   },
   "outputs": [
    {
     "data": {
      "text/plain": [
       "['長友', '本田', '香川', 'ネイマール', 'カカ', 'ロナウド']"
      ]
     },
     "execution_count": 25,
     "metadata": {},
     "output_type": "execute_result"
    }
   ],
   "source": [
    "L = [['長友','japan',170],['本田','japan',182],['香川','japan',175],['ネイマール','Brasil',175],\n",
    "              ['カカ','Brasil',186],['ロナウド','portugal',185]]\n",
    "\n",
    "def player(x):\n",
    "    \n",
    "    lists = []\n",
    "    for i in L:\n",
    "        if i[x]:\n",
    "            lists.append(i[x])\n",
    "    return lists\n",
    "            \n",
    "player(0)"
   ]
  },
  {
   "cell_type": "code",
   "execution_count": null,
   "metadata": {
    "collapsed": true
   },
   "outputs": [],
   "source": []
  }
 ],
 "metadata": {
  "kernelspec": {
   "display_name": "Python 3",
   "language": "python",
   "name": "python3"
  },
  "language_info": {
   "codemirror_mode": {
    "name": "ipython",
    "version": 3
   },
   "file_extension": ".py",
   "mimetype": "text/x-python",
   "name": "python",
   "nbconvert_exporter": "python",
   "pygments_lexer": "ipython3",
   "version": "3.6.0"
  }
 },
 "nbformat": 4,
 "nbformat_minor": 2
}
