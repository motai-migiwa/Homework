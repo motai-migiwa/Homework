{
 "cells": [
  {
   "cell_type": "code",
   "execution_count": 1,
   "metadata": {
    "collapsed": false
   },
   "outputs": [
    {
     "name": "stdout",
     "output_type": "stream",
     "text": [
      "miggyはパーを出しました\n",
      "レナちゃんはグーを出しました\n"
     ]
    }
   ],
   "source": [
    "def print_hand(name,hand):\n",
    "    print(name + 'は' + hand + 'を出しました')\n",
    "print_hand('miggy','パー')\n",
    "print_hand('レナちゃん','グー')"
   ]
  },
  {
   "cell_type": "code",
   "execution_count": 2,
   "metadata": {
    "collapsed": false
   },
   "outputs": [
    {
     "name": "stdout",
     "output_type": "stream",
     "text": [
      "ゲストはグーを出しました\n"
     ]
    }
   ],
   "source": [
    "def print_hand(hand,name='ゲスト'):\n",
    "    print(name + 'は' + hand + 'を出しました')\n",
    "print_hand('グー')"
   ]
  },
  {
   "cell_type": "code",
   "execution_count": null,
   "metadata": {
    "collapsed": false
   },
   "outputs": [],
   "source": [
    "def print_hand(hand,name='ゲスト'):\n",
    "    print(name + 'は' + hand + 'を出しました')\n",
    "player_name = input('名前を入力してください:')\n",
    "\n",
    "if player_name == '':\n",
    "    print_hand('グー')\n",
    "else:\n",
    "    print_hand('グー',player_name)"
   ]
  },
  {
   "cell_type": "code",
   "execution_count": null,
   "metadata": {
    "collapsed": true
   },
   "outputs": [],
   "source": []
  }
 ],
 "metadata": {
  "kernelspec": {
   "display_name": "Python 3",
   "language": "python",
   "name": "python3"
  },
  "language_info": {
   "codemirror_mode": {
    "name": "ipython",
    "version": 3
   },
   "file_extension": ".py",
   "mimetype": "text/x-python",
   "name": "python",
   "nbconvert_exporter": "python",
   "pygments_lexer": "ipython3",
   "version": "3.6.0"
  }
 },
 "nbformat": 4,
 "nbformat_minor": 2
}
