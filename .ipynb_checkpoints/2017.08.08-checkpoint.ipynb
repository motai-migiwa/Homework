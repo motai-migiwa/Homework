{
 "cells": [
  {
   "cell_type": "code",
   "execution_count": null,
   "metadata": {
    "collapsed": true
   },
   "outputs": [],
   "source": []
  },
  {
   "cell_type": "code",
   "execution_count": 9,
   "metadata": {
    "collapsed": false
   },
   "outputs": [
    {
     "name": "stdout",
     "output_type": "stream",
     "text": [
      "59\n"
     ]
    }
   ],
   "source": [
    "#選手4人の身長の平均が知りたい\n",
    "height = [170,182,175,175,]\n",
    "weight = [56,62,58,60]\n",
    "\n",
    "def ave(x):\n",
    "    total = 0\n",
    "    for i in x:\n",
    "        total += i\n",
    "        heikin = total // len(x)\n",
    "    return heikin\n",
    "print(ave(weight))"
   ]
  },
  {
   "cell_type": "code",
   "execution_count": 20,
   "metadata": {
    "collapsed": false
   },
   "outputs": [
    {
     "name": "stdout",
     "output_type": "stream",
     "text": [
      "['japan', 'japan', 'japan', 'Brasil', 'Brasil', 'portugal']\n"
     ]
    }
   ],
   "source": [
    "L = [['長友','japan',170],['本田','japan',182],['香川','japan',175],['ネイマール','Brasil',175],\n",
    "              ['カカ','Brasil',186],['ロナウド','portugal',185]]\n",
    "\n",
    "def player_list(x):\n",
    "    lists = []\n",
    "    for i in range(len(L)):\n",
    "        lists.append(L[i][x])\n",
    "    return lists\n",
    "print(player_list(1))"
   ]
  },
  {
   "cell_type": "code",
   "execution_count": 44,
   "metadata": {
    "collapsed": false
   },
   "outputs": [
    {
     "name": "stdout",
     "output_type": "stream",
     "text": [
      "{'japan': 3, 'Brasil': 2, 'portugal': 1}\n"
     ]
    }
   ],
   "source": [
    "#リストLの選手の出身国を辞書型でカウントする\n",
    "\n",
    "L = [['長友','japan',170],['本田','japan',182],['香川','japan',175],['ネイマール','Brasil',175],\n",
    "              ['カカ','Brasil',186],['ロナウド','portugal',185]]\n",
    "\n",
    "dic = {'japan':0,'Brasil':0,'portugal':0}\n",
    "\n",
    "def count(x,y,z):\n",
    "    for i in range(len(L)):\n",
    "        if L[i][1] == x:\n",
    "            dic[x] += 1\n",
    "        elif L[i][1] == y:\n",
    "            dic[y] += 1\n",
    "        else:\n",
    "            dic[z] += 1\n",
    "    return dic\n",
    "        \n",
    "'''\n",
    "x = 'japan'\n",
    "y = 'Brasil'\n",
    "z = 'portugal'\n",
    "'''\n",
    "print(count('japan','Brasil','portugal'))"
   ]
  },
  {
   "cell_type": "code",
   "execution_count": null,
   "metadata": {
    "collapsed": true
   },
   "outputs": [],
   "source": []
  }
 ],
 "metadata": {
  "kernelspec": {
   "display_name": "Python 3",
   "language": "python",
   "name": "python3"
  },
  "language_info": {
   "codemirror_mode": {
    "name": "ipython",
    "version": 3
   },
   "file_extension": ".py",
   "mimetype": "text/x-python",
   "name": "python",
   "nbconvert_exporter": "python",
   "pygments_lexer": "ipython3",
   "version": "3.6.0"
  }
 },
 "nbformat": 4,
 "nbformat_minor": 2
}
