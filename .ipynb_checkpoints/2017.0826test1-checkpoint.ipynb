{
 "cells": [
  {
   "cell_type": "code",
   "execution_count": 14,
   "metadata": {
    "collapsed": false
   },
   "outputs": [
    {
     "data": {
      "text/plain": [
       "[75, 100, 80, 105]"
      ]
     },
     "execution_count": 14,
     "metadata": {},
     "output_type": "execute_result"
    }
   ],
   "source": [
    "'''\n",
    "（問１）\n",
    "お店A\n",
    "玉ねぎ： 80円\n",
    "じゃがいも： 100円\n",
    "にんじん： 75円\n",
    "福神漬け： 105円\n",
    "'''\n",
    "\n",
    "money_a = [75,100,80,105]\n",
    "\n",
    "money_a"
   ]
  },
  {
   "cell_type": "code",
   "execution_count": 17,
   "metadata": {
    "collapsed": false
   },
   "outputs": [
    {
     "name": "stdout",
     "output_type": "stream",
     "text": [
      "75\n"
     ]
    }
   ],
   "source": [
    "#（問２）お店Aで購入するものの中で一番安い商品を見つける＝一番安い商品の(名前と)値段だけをprintするプログラムをfor文を使って作れ\n",
    "\n",
    "#最初にfor文で比較するため、max関数で大きい値をitiban_yasui変数に代入する。\n",
    "itiban_yasui = max(money_a)\n",
    "\n",
    "for i in money_a:\n",
    "    # iで回したときitiban_yasuiの数字よりiの数字が小さかったら、\n",
    "    if itiban_yasui > i:\n",
    "        itiban_yasui = i\n",
    "    #変数itiban_yasuiに代入される数字がiに変わるので\n",
    "print(itiban_yasui)\n",
    "    #printされるのは小さい数字に変わる。"
   ]
  },
  {
   "cell_type": "code",
   "execution_count": 16,
   "metadata": {
    "collapsed": false
   },
   "outputs": [
    {
     "name": "stdout",
     "output_type": "stream",
     "text": [
      "{'玉ねぎ': 80, 'じゃがいも': 100, 'にんじん': 75, '福神漬け': 105}\n",
      "{'玉ねぎ': 90, 'じゃがいも': 95, 'にんじん': 70, '福神漬け': 110}\n",
      "{'玉ねぎ': 100, 'じゃがいも': 89, 'にんじん': 73, '福神漬け': 103}\n"
     ]
    }
   ],
   "source": [
    "#(問３)商品と金額が対応したリストを辞書型（ディクショナリ型）を使って作れ\n",
    "\n",
    "store_a = {'玉ねぎ':80,'じゃがいも':100,'にんじん':75,'福神漬け':105}\n",
    "store_b = {'玉ねぎ': 90,'じゃがいも':95,'にんじん':70,'福神漬け':110}\n",
    "store_c = {'玉ねぎ':100,'じゃがいも':89,'にんじん':73,'福神漬け':103}\n",
    "\n",
    "print(store_a)\n",
    "print(store_b)\n",
    "print(store_c)"
   ]
  },
  {
   "cell_type": "code",
   "execution_count": 17,
   "metadata": {
    "collapsed": false
   },
   "outputs": [
    {
     "name": "stdout",
     "output_type": "stream",
     "text": [
      "store_a\n"
     ]
    }
   ],
   "source": [
    "#(問４)一つの商品の金額をお店ごとに比較をしたい.商品名を指定したら一番安いお店を示す関数を書け\n",
    "\n",
    "def price(x):\n",
    "    \n",
    "    a = store_a[x]\n",
    "    b = store_b[x]\n",
    "    c = store_c[x]\n",
    "\n",
    "    if a < b and a < c:\n",
    "        print('store_a')\n",
    "        \n",
    "    elif b < a and b < c:\n",
    "        print('store_b')\n",
    "        \n",
    "    else:\n",
    "        print('store_c')\n",
    "    \n",
    "price('玉ねぎ')"
   ]
  },
  {
   "cell_type": "code",
   "execution_count": 18,
   "metadata": {
    "collapsed": false
   },
   "outputs": [
    {
     "name": "stdout",
     "output_type": "stream",
     "text": [
      "store_a\n"
     ]
    }
   ],
   "source": [
    "#(問４)一つの商品の金額をお店ごとに比較をしたい.商品名を指定したら一番安いお店を示す関数を書け\n",
    "\n",
    "def function(x):\n",
    "    \n",
    "    a = store_a[x]\n",
    "    b = store_b[x]\n",
    "    c = store_c[x]\n",
    "    \n",
    "    #変数lowest_priceに(a,b,c)の中で一番小さい数を返してくれるmin関数を代入する\n",
    "    lowest_price = min(a, b, c)\n",
    "    \n",
    "    if lowest_price == a:\n",
    "        print('store_a')\n",
    "    if lowest_price == b:\n",
    "        print('store_b')\n",
    "    if lowest_price == c:\n",
    "        print('store_c')\n",
    "\n",
    "function('玉ねぎ')"
   ]
  },
  {
   "cell_type": "code",
   "execution_count": 21,
   "metadata": {
    "collapsed": false
   },
   "outputs": [
    {
     "name": "stdout",
     "output_type": "stream",
     "text": [
      "360\n",
      "365\n",
      "365\n",
      "全部買って一番安いのはA店です。\n"
     ]
    }
   ],
   "source": [
    "'''\n",
    "(問５)\n",
    "指定の商品を全て買うというなかで合計金額が一番安かったお店を示すプログラムを書け\n",
    "また合計の計算はsum関数を使うのではなくfor文を使って書くこと\n",
    "'''\n",
    "a_total = 0\n",
    "b_total = 0\n",
    "c_total = 0\n",
    "\n",
    "for i in store_a:\n",
    "    a_total += store_a[i]\n",
    "print(a_total)\n",
    "\n",
    "for i in store_b:\n",
    "    b_total += store_b[i]\n",
    "print(b_total)\n",
    "\n",
    "for i in store_c:\n",
    "    c_total += store_c[i]\n",
    "print(c_total)\n",
    "\n",
    "lowest_total = min(a_total,b_total,c_total)\n",
    "\n",
    "\n",
    "ans = 0\n",
    "if lowest_total == a_total:\n",
    "    ans = 'A'\n",
    "\n",
    "\n",
    "print('全部買って一番安いのは{}店です。'.format(ans))"
   ]
  },
  {
   "cell_type": "code",
   "execution_count": null,
   "metadata": {
    "collapsed": true
   },
   "outputs": [],
   "source": []
  }
 ],
 "metadata": {
  "kernelspec": {
   "display_name": "Python 3",
   "language": "python",
   "name": "python3"
  },
  "language_info": {
   "codemirror_mode": {
    "name": "ipython",
    "version": 3
   },
   "file_extension": ".py",
   "mimetype": "text/x-python",
   "name": "python",
   "nbconvert_exporter": "python",
   "pygments_lexer": "ipython3",
   "version": "3.6.0"
  }
 },
 "nbformat": 4,
 "nbformat_minor": 2
}
