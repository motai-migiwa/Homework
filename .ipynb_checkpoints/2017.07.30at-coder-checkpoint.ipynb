{
 "cells": [
  {
   "cell_type": "code",
   "execution_count": 3,
   "metadata": {
    "collapsed": false
   },
   "outputs": [
    {
     "name": "stdout",
     "output_type": "stream",
     "text": [
      "0 0\n",
      "0\n"
     ]
    }
   ],
   "source": [
    "#ある時刻の積雪深 H1 と その 1 時間前の積雪深 H2 が与えられます。この時、この 1 時間の積雪深差 H1 − H2 の値を計算して出力してください。\n",
    "\n",
    "#時刻の積雪深＝H1\n",
    "#1時間前の積雪深＝H2\n",
    "\n",
    "H1,H2 = input().split(' ')\n",
    "\n",
    "snow = int(H1) - int(H2)\n",
    "\n",
    "print(snow)"
   ]
  },
  {
   "cell_type": "code",
   "execution_count": null,
   "metadata": {
    "collapsed": true
   },
   "outputs": [],
   "source": [
    "'''\n",
    "気象情報は、世界中に様々な形で流れています。そのひとつの地上実況気象通報式 (SYNOP) では、\n",
    "視程 (肉眼で物体がはっきりと確認できる最大の距離) を、次の規則に従って、VVという値 (通報式) に変換して報じます。\n",
    "0.1km 未満： VVの値は 00 とする。\n",
    "0.1km 以上 5km 以下：距離 (km) を 10 倍した値とする。1 桁の場合は上位に 0 を付す。\n",
    "例えば、2,000m =2.0km ならば、VVは 20 である。同じく、200mの場合VVは 02 である。\n",
    "6km 以上 30km 以下：距離 (km) に 50 を足した値とする。\n",
    "例えば、15,000m =15km ならば、VVは 65 である。\n",
    "\n",
    "35km 以上 70km 以下：距離 (km) から 30 を引いて 5 で割った後、80 を足した値とする。\n",
    "例えば、40,000m =40km ならば、VVは 82 である。\n",
    "70km より大きい：VVの値は 89 とする。\n",
    "いま、あなたに視程の距離をメートルで与えるので、上記のルールに従って計算されるVVを出力するプログラムを作成してください。\n",
    "\n",
    "なお、VVは必ず（上位の 0 を含めて）2桁の整数であり、上記のルールに従って計算した時に整数にならないような入力や、\n",
    "上記の範囲に入らない入力 (例：5km より大きく 6km 未満) などはありません。\n",
    "'''\n",
    "\n",
    "#1km = 1000m"
   ]
  },
  {
   "cell_type": "code",
   "execution_count": 14,
   "metadata": {
    "collapsed": false
   },
   "outputs": [
    {
     "name": "stdout",
     "output_type": "stream",
     "text": [
      "10000\n",
      "20000\n"
     ]
    }
   ],
   "source": [
    "#高橋君は N 円借金をしました。\n",
    "#倍返しでおもてなしするのが流行だと小耳に挟んだ高橋君は、2*N 円返済します。\n",
    "#高橋君が返済する金額 2*N 円を出力してください。\n",
    "\n",
    "N = input()\n",
    "money = 2*int(N)\n",
    "print(money)"
   ]
  },
  {
   "cell_type": "code",
   "execution_count": 22,
   "metadata": {
    "collapsed": false
   },
   "outputs": [
    {
     "name": "stdout",
     "output_type": "stream",
     "text": [
      "4 7\n",
      "1\n"
     ]
    }
   ],
   "source": [
    "'''\n",
    "高橋君はたこ焼き屋をはじめることにしました。\n",
    "たこ焼きを１つ作るのに必要な小麦粉の量xグラムと、\n",
    "高橋くんが今持っている小麦粉の量yグラムが与えられるので高橋くんが最大でいくつたこ焼きを作れるか出力して下さい。\n",
    "'''\n",
    "\n",
    "x,y = input().split(' ')\n",
    "\n",
    "flour = int(y)//int(x)\n",
    "\n",
    "print(flour)"
   ]
  },
  {
   "cell_type": "code",
   "execution_count": 10,
   "metadata": {
    "collapsed": false
   },
   "outputs": [
    {
     "name": "stdout",
     "output_type": "stream",
     "text": [
      "60\n",
      "yes\n"
     ]
    }
   ],
   "source": [
    "#数字 N が与えられます。 N に 3 が含まれる、もしくは 3 で割り切れる場合はYES、それ以外は NO と出力してください。\n",
    "\n",
    "N = input()\n",
    "\n",
    "if int(N) % 3 == 0:\n",
    "    print('yes')\n",
    "    \n",
    "else:\n",
    "    print('no')"
   ]
  },
  {
   "cell_type": "code",
   "execution_count": 20,
   "metadata": {
    "collapsed": false
   },
   "outputs": [
    {
     "name": "stdout",
     "output_type": "stream",
     "text": [
      "8\n",
      "7\n"
     ]
    }
   ],
   "source": [
    "#植木算\n",
    "#隣り合う木の間の数を 1 行に出力せよ。\n",
    "\n",
    "N = input()\n",
    "tree = int(N) - 1\n",
    "print(tree)"
   ]
  },
  {
   "cell_type": "code",
   "execution_count": 22,
   "metadata": {
    "collapsed": false
   },
   "outputs": [
    {
     "name": "stdout",
     "output_type": "stream",
     "text": [
      "4\n",
      "3\n"
     ]
    }
   ],
   "source": [
    "N = input()\n",
    "print(int(N)-1)"
   ]
  },
  {
   "cell_type": "code",
   "execution_count": 26,
   "metadata": {
    "collapsed": false
   },
   "outputs": [
    {
     "data": {
      "text/plain": [
       "'\\n家とトラックの間を 1 往復するときに最大でそれぞれの手にダンボールを 1 個ずつ、合計で 2 個のダンボールを\\nいちどに持って運ぶことができます。\\nダンボールをすべて運びきるために必要な最低の往復回数を 1 行に出力せよ。\\n'"
      ]
     },
     "execution_count": 26,
     "metadata": {},
     "output_type": "execute_result"
    }
   ],
   "source": [
    "'''\n",
    "家とトラックの間を 1 往復するときに最大でそれぞれの手にダンボールを 1 個ずつ、合計で 2 個のダンボールを\n",
    "いちどに持って運ぶことができます。\n",
    "ダンボールをすべて運びきるために必要な最低の往復回数を 1 行に出力せよ。\n",
    "'''\n",
    "\n"
   ]
  },
  {
   "cell_type": "code",
   "execution_count": null,
   "metadata": {
    "collapsed": true
   },
   "outputs": [],
   "source": [
    "#数字 N が与えられます。 N に 3 が含まれる、もしくは 3 で割り切れる場合はYES、それ以外は NO と出力してください。"
   ]
  }
 ],
 "metadata": {
  "kernelspec": {
   "display_name": "Python 3",
   "language": "python",
   "name": "python3"
  },
  "language_info": {
   "codemirror_mode": {
    "name": "ipython",
    "version": 3
   },
   "file_extension": ".py",
   "mimetype": "text/x-python",
   "name": "python",
   "nbconvert_exporter": "python",
   "pygments_lexer": "ipython3",
   "version": "3.6.0"
  }
 },
 "nbformat": 4,
 "nbformat_minor": 2
}
