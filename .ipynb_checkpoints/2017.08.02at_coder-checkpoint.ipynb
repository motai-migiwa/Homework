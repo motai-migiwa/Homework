{
 "cells": [
  {
   "cell_type": "code",
   "execution_count": 49,
   "metadata": {
    "collapsed": false
   },
   "outputs": [
    {
     "name": "stdout",
     "output_type": "stream",
     "text": [
      "3\n",
      "1\n"
     ]
    }
   ],
   "source": [
    "#引っ越し作業\n",
    "#http://abc009.contest.atcoder.jp/tasks/abc009_1\n",
    "\n",
    "N = int(input())\n",
    "oufuku = 0\n",
    "\n",
    "if N // 2 == 1:\n",
    "    oufuku += 1\n",
    "    print(oufuku)\n",
    "\n",
    "else:\n",
    "    oufuku = N // 2\n",
    "    print(oufuku)\n"
   ]
  },
  {
   "cell_type": "code",
   "execution_count": 18,
   "metadata": {
    "collapsed": false
   },
   "outputs": [
    {
     "name": "stdout",
     "output_type": "stream",
     "text": [
      "migiwa\n",
      "migiwapp\n"
     ]
    }
   ],
   "source": [
    "#ハンドルネーム \n",
    "#http://abc010.contest.atcoder.jp/tasks/abc010_1\n",
    "\n",
    "S = input()\n",
    "print(S + 'pp')"
   ]
  },
  {
   "cell_type": "code",
   "execution_count": 37,
   "metadata": {
    "collapsed": false
   },
   "outputs": [
    {
     "name": "stdout",
     "output_type": "stream",
     "text": [
      "今月は何月？12\n",
      "1\n"
     ]
    }
   ],
   "source": [
    "#来月は年月? \n",
    "#http://abc011.contest.atcoder.jp/tasks/abc011_1\n",
    "\n",
    "raigetu = 0\n",
    "N = int(input('今月は何月？'))\n",
    "\n",
    "if N == 12:\n",
    "    N += 1\n",
    "    raigetu += N \n",
    "    print(raigetu-12)\n",
    "\n",
    "else:\n",
    "    raigetu = int(N) + 1\n",
    "    \n",
    "    print(raigetu)"
   ]
  },
  {
   "cell_type": "code",
   "execution_count": 73,
   "metadata": {
    "collapsed": false
   },
   "outputs": [
    {
     "name": "stdout",
     "output_type": "stream",
     "text": [
      "B\n",
      "2\n"
     ]
    }
   ],
   "source": [
    "#A\n",
    "#http://abc013.contest.atcoder.jp/tasks/abc013_1\n",
    "#英大文字のアルファベット X が与えられる。X は　A, B, C, D, E のいずれかである。\n",
    "alphabets = ['A', 'B', 'C', 'D', 'E']\n",
    "x = input()\n",
    "jyunban = 0\n",
    "\n",
    "for i in alphabets:\n",
    "    jyunban += 1\n",
    "    if i == x:\n",
    "        print(jyunban)\n",
    "        break"
   ]
  },
  {
   "cell_type": "code",
   "execution_count": 82,
   "metadata": {
    "collapsed": false
   },
   "outputs": [
    {
     "name": "stdout",
     "output_type": "stream",
     "text": [
      "持っているお菓子の数は？7\n",
      "配る人数の数は？3\n",
      "2\n"
     ]
    }
   ],
   "source": [
    "#けんしょう先生のお菓子配り \n",
    "#http://abc014.contest.atcoder.jp/tasks/abc014_1\n",
    "\n",
    "a = int(input('持っているお菓子の数は？'))\n",
    "b = int(input('配る人数の数は？'))\n",
    "\n",
    "#a ÷ b = 最初に配れる数、あまり数\n",
    "#配る人数(b) - あまり数　= 買い足す数\n",
    "amari = a % b\n",
    "if amari == 0:\n",
    "    print(0)\n",
    "\n",
    "else:\n",
    "    print(b - amari)"
   ]
  },
  {
   "cell_type": "code",
   "execution_count": null,
   "metadata": {
    "collapsed": true
   },
   "outputs": [],
   "source": []
  }
 ],
 "metadata": {
  "kernelspec": {
   "display_name": "Python 3",
   "language": "python",
   "name": "python3"
  },
  "language_info": {
   "codemirror_mode": {
    "name": "ipython",
    "version": 3
   },
   "file_extension": ".py",
   "mimetype": "text/x-python",
   "name": "python",
   "nbconvert_exporter": "python",
   "pygments_lexer": "ipython3",
   "version": "3.6.0"
  }
 },
 "nbformat": 4,
 "nbformat_minor": 2
}
