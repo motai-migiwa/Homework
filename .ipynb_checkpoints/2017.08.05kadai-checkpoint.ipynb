{
 "cells": [
  {
   "cell_type": "code",
   "execution_count": null,
   "metadata": {
    "collapsed": true
   },
   "outputs": [],
   "source": [
    "'''\n",
    "### 必須課題\n",
    "\n",
    "1. usersリストに辞書型を追加し、ユーザを登録する\n",
    "ex) \n",
    "``` =python\n",
    "[ \n",
    "  { \n",
    "    \"id\": \"user1\",\n",
    "    \"password\": \"password\"\n",
    "  },\n",
    "  {\n",
    "    \"id\": \"hoge\",\n",
    "    \"password\": \"fuga\"\n",
    "  }\n",
    "]\n",
    "```\n",
    "\n",
    "2. ユーザがログインできるかどうかを判断する関数を作成する\n",
    "3. ユーザのログイン部分をキーボードから入力させ、それを無限ループさせる\n",
    "\n",
    "### 追加課題\n",
    "\n",
    "4. ユーザログイン以外にもユーザ登録機能をつける\n",
    "'''"
   ]
  },
  {
   "cell_type": "code",
   "execution_count": null,
   "metadata": {
    "collapsed": false
   },
   "outputs": [
    {
     "name": "stdout",
     "output_type": "stream",
     "text": [
      "1.ユーザーを追加, 2.ログイン1\n",
      "idを入力してください1987\n",
      "passwordを入力してくださいmiggy\n",
      "1.ユーザーを追加, 2.ログイン2\n",
      "idを入力してください1987\n",
      "passwordを入力してくださいmiggy\n",
      "True\n"
     ]
    }
   ],
   "source": [
    "users = [ \n",
    "  {\"id\": \"user1\",\"password\": \"password\"},\n",
    "  {\"id\": \"hoge\",\"password\": \"fuga\"}\n",
    "]\n",
    "\n",
    "\n",
    "\n",
    "def login(id,password):\n",
    "    \n",
    "    for i in users:\n",
    "        if i['id'] == id:\n",
    "            if i['password'] == password:\n",
    "                return True\n",
    "    return False\n",
    "\n",
    "'''\n",
    "id = input('idを入力してください:')\n",
    "password = input('passwordを入力してください:')\n",
    "\n",
    "print(login(id,password))\n",
    "'''\n",
    "\n",
    "def signup(username,password):\n",
    "    user = {'id':username,'password':password}\n",
    "    users.append(user)\n",
    "\n",
    "while True:\n",
    "    i = input('1.ユーザーを追加, 2.ログイン')\n",
    "    if i == '1':   #inputの中身は文字列として扱われるからクォーテーション付ける\n",
    "        id = input('idを入力してください')\n",
    "        p = input('passwordを入力してください')\n",
    "        signup(id,p)   #作った関数に渡される　signup(username,password)\n",
    "    if i == '2':\n",
    "        id = input('idを入力してください')\n",
    "        p = input('passwordを入力してください')\n",
    "        print(login(id,p))\n"
   ]
  },
  {
   "cell_type": "code",
   "execution_count": null,
   "metadata": {
    "collapsed": true
   },
   "outputs": [],
   "source": [
    "id = input('idを入力してください:')\n",
    "password = input('passwordを入力してください:')\n",
    "\n",
    "print(login(id,password))"
   ]
  },
  {
   "cell_type": "code",
   "execution_count": null,
   "metadata": {
    "collapsed": true
   },
   "outputs": [],
   "source": [
    "#選手6人の身長の平均が知りたい\n",
    "#関数を作って体重の平均も出す\n",
    "height = [170,182,175,175]\n",
    "weight = []\n",
    "\n",
    "def average"
   ]
  },
  {
   "cell_type": "code",
   "execution_count": 9,
   "metadata": {
    "collapsed": false
   },
   "outputs": [
    {
     "name": "stdout",
     "output_type": "stream",
     "text": [
      "aaa2\n"
     ]
    }
   ],
   "source": [
    "j = input('aaa')"
   ]
  },
  {
   "cell_type": "code",
   "execution_count": 10,
   "metadata": {
    "collapsed": false
   },
   "outputs": [
    {
     "data": {
      "text/plain": [
       "'2'"
      ]
     },
     "execution_count": 10,
     "metadata": {},
     "output_type": "execute_result"
    }
   ],
   "source": [
    "j"
   ]
  },
  {
   "cell_type": "code",
   "execution_count": 11,
   "metadata": {
    "collapsed": false
   },
   "outputs": [
    {
     "ename": "SyntaxError",
     "evalue": "can't assign to literal (<ipython-input-11-d38f3005e5d8>, line 1)",
     "output_type": "error",
     "traceback": [
      "\u001b[0;36m  File \u001b[0;32m\"<ipython-input-11-d38f3005e5d8>\"\u001b[0;36m, line \u001b[0;32m1\u001b[0m\n\u001b[0;31m    1 = '1'\u001b[0m\n\u001b[0m           ^\u001b[0m\n\u001b[0;31mSyntaxError\u001b[0m\u001b[0;31m:\u001b[0m can't assign to literal\n"
     ]
    }
   ],
   "source": []
  },
  {
   "cell_type": "code",
   "execution_count": null,
   "metadata": {
    "collapsed": true
   },
   "outputs": [],
   "source": []
  }
 ],
 "metadata": {
  "kernelspec": {
   "display_name": "Python 3",
   "language": "python",
   "name": "python3"
  },
  "language_info": {
   "codemirror_mode": {
    "name": "ipython",
    "version": 3
   },
   "file_extension": ".py",
   "mimetype": "text/x-python",
   "name": "python",
   "nbconvert_exporter": "python",
   "pygments_lexer": "ipython3",
   "version": "3.6.0"
  }
 },
 "nbformat": 4,
 "nbformat_minor": 2
}
