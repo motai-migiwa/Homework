{
 "cells": [
  {
   "cell_type": "code",
   "execution_count": null,
   "metadata": {
    "collapsed": true
   },
   "outputs": [],
   "source": [
    "'''\n",
    "(問３)\n",
    "じゃんけんをするプログラムを書いてください。プレイヤーの手は’グー’、’チョキ’、’パー’のいずれかが入力されるとします。\n",
    "プレイヤーが必ず負けるような手を表示してください\n",
    "'''\n",
    "\n",
    "def validate(hand):\n",
    "    if hand < 0 and hand < 2:\n",
    "        return False\n",
    "    else:\n",
    "        return True\n",
    "\n",
    "player_hand = int(input('じゃんけんの出す手を入力してください 0:グー、1:チョキ、2:パー :'))    \n",
    "    \n",
    "def jyanken(hand):\n",
    "    hands = ['グー','チョキ','パー']\n",
    "    print('ゲストの出す手は' + hands[hand] + 'です。')\n",
    "\n",
    "jyanken(player_hand)\n",
    "    \n",
    "#グーだった時\n",
    "if player_hand == 0:\n",
    "    print('コンピューターは' + hands[2] + 'です。')\n",
    "    print('ゲストの負けです。')\n",
    "\n",
    "#チョキだった時\n",
    "elif player_hand == 1:\n",
    "    print('コンピューターは' + hands[0] + 'です。')\n",
    "    print('ゲストの負けです。')\n",
    "\n",
    "else:\n",
    "    print('コンピューターは' + hands[1] + 'です。')\n",
    "    print('ゲストの負けです。')"
   ]
  }
 ],
 "metadata": {
  "kernelspec": {
   "display_name": "Python 3",
   "language": "python",
   "name": "python3"
  },
  "language_info": {
   "codemirror_mode": {
    "name": "ipython",
    "version": 3
   },
   "file_extension": ".py",
   "mimetype": "text/x-python",
   "name": "python",
   "nbconvert_exporter": "python",
   "pygments_lexer": "ipython3",
   "version": "3.6.0"
  }
 },
 "nbformat": 4,
 "nbformat_minor": 2
}
