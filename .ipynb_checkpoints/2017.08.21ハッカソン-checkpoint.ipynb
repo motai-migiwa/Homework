{
 "cells": [
  {
   "cell_type": "code",
   "execution_count": 3,
   "metadata": {
    "collapsed": false
   },
   "outputs": [
    {
     "name": "stdout",
     "output_type": "stream",
     "text": [
      "56\n",
      "lucky\n"
     ]
    }
   ],
   "source": [
    "N = int(input())\n",
    "if N % 7 == 0:\n",
    "    print('lucky')\n",
    "else:\n",
    "    print('unlucky')"
   ]
  },
  {
   "cell_type": "code",
   "execution_count": 11,
   "metadata": {
    "collapsed": false
   },
   "outputs": [
    {
     "name": "stdout",
     "output_type": "stream",
     "text": [
      "3 17\n",
      "ng\n"
     ]
    }
   ],
   "source": [
    "n,m = input().split(' ')\n",
    "if int(m) % int(n) == 0:\n",
    "    print('ok')\n",
    "else:\n",
    "    print('ng')"
   ]
  },
  {
   "cell_type": "code",
   "execution_count": null,
   "metadata": {
    "collapsed": false
   },
   "outputs": [],
   "source": [
    "M,N = input().split(' ')\n",
    "p = int(M) - int(N)\n",
    "\n",
    "if p < 0:\n",
    "    print(0)\n",
    "    \n",
    "elif p <= 10:\n",
    "    print(p)\n",
    "    \n",
    "#クォーテーションは文字列で＋じゃないの？"
   ]
  },
  {
   "cell_type": "code",
   "execution_count": 14,
   "metadata": {
    "collapsed": false
   },
   "outputs": [
    {
     "name": "stdout",
     "output_type": "stream",
     "text": [
      "4\n",
      "****\n"
     ]
    }
   ],
   "source": [
    "x = int(input())\n",
    "a = ('*') * x\n",
    "print(a)"
   ]
  },
  {
   "cell_type": "code",
   "execution_count": null,
   "metadata": {
    "collapsed": true
   },
   "outputs": [],
   "source": []
  }
 ],
 "metadata": {
  "kernelspec": {
   "display_name": "Python 3",
   "language": "python",
   "name": "python3"
  },
  "language_info": {
   "codemirror_mode": {
    "name": "ipython",
    "version": 3
   },
   "file_extension": ".py",
   "mimetype": "text/x-python",
   "name": "python",
   "nbconvert_exporter": "python",
   "pygments_lexer": "ipython3",
   "version": "3.6.0"
  }
 },
 "nbformat": 4,
 "nbformat_minor": 2
}
