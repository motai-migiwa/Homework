{
 "cells": [
  {
   "cell_type": "code",
   "execution_count": 6,
   "metadata": {
    "collapsed": false
   },
   "outputs": [
    {
     "name": "stdout",
     "output_type": "stream",
     "text": [
      "[['Alice', 'Bob', 'Cat'], [43, 59, 49], [59, 2, 29]]\n"
     ]
    }
   ],
   "source": [
    "'''\n",
    "(問１)\n",
    "行と列を入れ替えるプログラムを書いてください\n",
    "\n",
    "出力結果[[‘Alice’, ‘Bob’, ‘Cat’], [43, 59, 49], [59, 02, 29]]\n",
    "'''\n",
    "\n",
    "#はばのさんの言ってたやり方\n",
    "L = [['Alice', 43, 59], ['Bob', 59, 2], ['Cat', 49, 29]]\n",
    "\n",
    "name = []\n",
    "num1 = []\n",
    "num2 = []\n",
    "\n",
    "for i in L:\n",
    "    name.append(i[0])\n",
    "    num1.append(i[1])\n",
    "    num2.append(i[2])\n",
    "    \n",
    "res = [name, num1, num2]\n",
    "print(res)"
   ]
  },
  {
   "cell_type": "code",
   "execution_count": 7,
   "metadata": {
    "collapsed": false
   },
   "outputs": [
    {
     "name": "stdout",
     "output_type": "stream",
     "text": [
      "[['Alice', 'Bob', 'Cat'], [43, 59, 49], [59, 2, 29]]\n"
     ]
    }
   ],
   "source": [
    "#勝俣さんの言ってたやり方\n",
    "res2 = []\n",
    "\n",
    "for i in range(len(L)):\n",
    "    tmp = []\n",
    "    for j in range(len(L[0])):\n",
    "        tmp.append(L[j][i])\n",
    "    res2.append(tmp)\n",
    "    \n",
    "print(res2)"
   ]
  },
  {
   "cell_type": "code",
   "execution_count": 5,
   "metadata": {
    "collapsed": false
   },
   "outputs": [],
   "source": [
    "'''\n",
    "(問２)\n",
    "逆順に並べ替えてください(reverseを使わずに)\n",
    "出力結果　[['G','F','E','D','C','B','A'], [5,4,23,495,3,29,4]]\n",
    "'''\n",
    "L=[['A', 'B', 'C', 'D', 'E', 'F', 'G'], [4, 29, 3, 495, 23,4,5]]\n",
    "\n",
    "alphabet = []\n",
    "suuji = []\n"
   ]
  },
  {
   "cell_type": "code",
   "execution_count": 20,
   "metadata": {
    "collapsed": false
   },
   "outputs": [
    {
     "name": "stdout",
     "output_type": "stream",
     "text": [
      "[['G', 'F', 'E', 'D', 'C', 'B', 'A'], [5, 4, 23, 495, 3, 29, 4]]\n"
     ]
    }
   ],
   "source": [
    "for i in range(1,8):\n",
    "    alphabet.append(L[0][-i])\n",
    "    suuji.append(L[1][-i])\n",
    "    \n",
    "y = [alphabet,suuji]\n",
    "\n",
    "print(y)\n",
    "    "
   ]
  },
  {
   "cell_type": "code",
   "execution_count": 8,
   "metadata": {
    "collapsed": false
   },
   "outputs": [
    {
     "name": "stdout",
     "output_type": "stream",
     "text": [
      "[3]\n"
     ]
    }
   ],
   "source": [
    "#数字が小さい順に並び替えてください(sortやsortedを使わずに)\n",
    "\n",
    "result = []\n",
    "L = [4, 29, 3, 495, 23,4,5]\n",
    "\n",
    "v = min(L)\n",
    "result.append(v)\n",
    "L.pop(2)\n",
    "\n",
    "v = min(L)\n",
    "result.append(v)\n",
    "L.pop(0)\n",
    "\n"
   ]
  },
  {
   "cell_type": "code",
   "execution_count": null,
   "metadata": {
    "collapsed": true
   },
   "outputs": [],
   "source": []
  }
 ],
 "metadata": {
  "kernelspec": {
   "display_name": "Python 3",
   "language": "python",
   "name": "python3"
  },
  "language_info": {
   "codemirror_mode": {
    "name": "ipython",
    "version": 3
   },
   "file_extension": ".py",
   "mimetype": "text/x-python",
   "name": "python",
   "nbconvert_exporter": "python",
   "pygments_lexer": "ipython3",
   "version": "3.6.0"
  }
 },
 "nbformat": 4,
 "nbformat_minor": 2
}
