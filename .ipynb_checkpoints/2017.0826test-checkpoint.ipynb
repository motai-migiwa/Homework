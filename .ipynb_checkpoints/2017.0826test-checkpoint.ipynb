{
 "cells": [
  {
   "cell_type": "code",
   "execution_count": 2,
   "metadata": {
    "collapsed": false
   },
   "outputs": [
    {
     "data": {
      "text/plain": [
       "[80, 100, 75, 105]"
      ]
     },
     "execution_count": 2,
     "metadata": {},
     "output_type": "execute_result"
    }
   ],
   "source": [
    "'''\n",
    "（問１）\n",
    "お店A\n",
    "玉ねぎ： 80円\n",
    "じゃがいも： 100円\n",
    "にんじん： 75円\n",
    "福神漬け： 105円\n",
    "'''\n",
    "\n",
    "money_a = [80,100,75,105]\n",
    "\n",
    "money_a"
   ]
  },
  {
   "cell_type": "code",
   "execution_count": 3,
   "metadata": {
    "collapsed": false
   },
   "outputs": [
    {
     "name": "stdout",
     "output_type": "stream",
     "text": [
      "80\n",
      "100\n",
      "75\n",
      "105\n"
     ]
    }
   ],
   "source": [
    "#（問２）お店Aで購入するものの中で一番安い商品を見つけるプログラムをfor文を使って作れ\n",
    "\n",
    "for i in money_a:\n",
    "    print(i)"
   ]
  },
  {
   "cell_type": "code",
   "execution_count": 12,
   "metadata": {
    "collapsed": false
   },
   "outputs": [
    {
     "name": "stdout",
     "output_type": "stream",
     "text": [
      "{'玉ねぎ': '80', 'じゃがいも': '100', 'にんじん': '75', '福神漬け': '105'}\n",
      "{'玉ねぎ': '90', 'じゃがいも': '95', 'にんじん': '70', '福神漬け': '110'}\n",
      "{'玉ねぎ': '100', 'じゃがいも': '89', 'にんじん': '73', '福神漬け': '103'}\n"
     ]
    }
   ],
   "source": [
    "#(問３)商品と金額が対応したリストを辞書型（ディクショナリ型）を使って作れ\n",
    "\n",
    "store_a = {'玉ねぎ':'80','じゃがいも':'100','にんじん':'75','福神漬け':'105'}\n",
    "store_b = {'玉ねぎ': '90','じゃがいも':'95','にんじん':'70','福神漬け':'110'}\n",
    "store_c = {'玉ねぎ':'100','じゃがいも':'89','にんじん':'73','福神漬け':'103'}\n",
    "\n",
    "print(store_a)\n",
    "print(store_b)\n",
    "print(store_c)"
   ]
  },
  {
   "cell_type": "code",
   "execution_count": null,
   "metadata": {
    "collapsed": true
   },
   "outputs": [],
   "source": [
    "#一つの商品の金額をお店ごとに比較をしたい.商品名を指定したら一番安いお店を示す関数を書け.\n",
    "\n",
    "for i in store_a:\n",
    "    if store_a == '玉ねぎ':\n",
    "        print(i)\n",
    "        "
   ]
  },
  {
   "cell_type": "code",
   "execution_count": null,
   "metadata": {
    "collapsed": false
   },
   "outputs": [],
   "source": [
    "#(問３)じゃんけんをするプログラムを書いてください。プレイヤーの手は’グー’、’チョキ’、’パー’のいずれかが入力されるとします。プレイヤーが必ず負けるような手を表示してください\n",
    "\n",
    "\n",
    "def validate(hand):\n",
    "    if hand < 0 and hand < 2:\n",
    "        return False\n",
    "    else:\n",
    "        return True\n",
    "\n",
    "player_hand = int(input('じゃんけんの出す手を入力してください 0:グー、1:チョキ、2:パー :'))    \n",
    "    \n",
    "def jyanken(hand):\n",
    "    hands = ['グー','チョキ','パー']\n",
    "    print('ゲストの出す手は' + hands[hand] + 'です。')\n",
    "\n",
    "jyanken(player_hand)\n",
    "\n",
    "#グーだった時\n",
    "if player_hand == 0:\n",
    "    print('コンピューターは' + hands[2] + 'です。'\n",
    "    print('ゲストの負けです。')\n",
    "\n",
    "#チョキだった時\n",
    "elif player_hand == 1:\n",
    "    print('コンピューターは' + hands[0] + 'です。')\n",
    "    print('ゲストの負けです。')\n",
    "\n",
    "else:\n",
    "    print('コンピューターは' + hands[1] + 'です。')\n",
    "    print('ゲストの負けです。')\n"
   ]
  },
  {
   "cell_type": "code",
   "execution_count": null,
   "metadata": {
    "collapsed": true
   },
   "outputs": [],
   "source": []
  }
 ],
 "metadata": {
  "kernelspec": {
   "display_name": "Python 3",
   "language": "python",
   "name": "python3"
  },
  "language_info": {
   "codemirror_mode": {
    "name": "ipython",
    "version": 3
   },
   "file_extension": ".py",
   "mimetype": "text/x-python",
   "name": "python",
   "nbconvert_exporter": "python",
   "pygments_lexer": "ipython3",
   "version": "3.6.0"
  }
 },
 "nbformat": 4,
 "nbformat_minor": 2
}
