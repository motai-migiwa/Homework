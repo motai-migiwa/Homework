{
 "cells": [
  {
   "cell_type": "markdown",
   "metadata": {},
   "source": [
    "# Python基本問題集 vol.1"
   ]
  },
  {
   "cell_type": "markdown",
   "metadata": {},
   "source": [
    "### 問1. 1から50までの和を計算して表示しなさい\n",
    "解けた場合は様々な方法で解いて見よう(最大で４通りくらいあります)"
   ]
  },
  {
   "cell_type": "code",
   "execution_count": 13,
   "metadata": {
    "collapsed": false
   },
   "outputs": [
    {
     "name": "stdout",
     "output_type": "stream",
     "text": [
      "1275\n"
     ]
    }
   ],
   "source": [
    "total = 0\n",
    "\n",
    "for i in range(1,51):\n",
    "    total += i \n",
    "print(total)"
   ]
  },
  {
   "cell_type": "code",
   "execution_count": 19,
   "metadata": {
    "collapsed": false
   },
   "outputs": [
    {
     "name": "stdout",
     "output_type": "stream",
     "text": [
      "1275\n"
     ]
    }
   ],
   "source": [
    "num = 0\n",
    "total = 0\n",
    "\n",
    "while num < 50:\n",
    "    num += 1\n",
    "    total += num\n",
    "print(total)"
   ]
  },
  {
   "cell_type": "markdown",
   "metadata": {},
   "source": [
    "### 問2. 2つの自然数の最大公約数を求める関数を作りなさい\n",
    "ユークリッドの互除法を利用してみよう"
   ]
  },
  {
   "cell_type": "code",
   "execution_count": 1,
   "metadata": {
    "collapsed": false
   },
   "outputs": [
    {
     "data": {
      "text/plain": [
       "4"
      ]
     },
     "execution_count": 1,
     "metadata": {},
     "output_type": "execute_result"
    }
   ],
   "source": [
    "#再帰関数\n",
    "'''\n",
    "func(124,28)\n",
    "amari = 124 % 28 = 12 \n",
    "if 12 != 0:\n",
    "    func(28,12)\n",
    "    \n",
    "func(28,12)\n",
    "amari = 28 % 12 = 4 \n",
    "if 4 != 0:\n",
    "    func(12,4)\n",
    "    \n",
    "func(12,4)\n",
    "amari = 12 % 4 = 0\n",
    "if 0 != 0:\n",
    "\n",
    "else:\n",
    "    return 4\n",
    "'''\n",
    "\n",
    "def func(x,y):\n",
    "    amari = x % y \n",
    "    if amari != 0:\n",
    "        return func(y,amari)\n",
    "    \n",
    "    else:\n",
    "        return y\n",
    "func(124,28)"
   ]
  },
  {
   "cell_type": "code",
   "execution_count": 20,
   "metadata": {
    "collapsed": false
   },
   "outputs": [
    {
     "data": {
      "text/plain": [
       "12"
      ]
     },
     "execution_count": 20,
     "metadata": {},
     "output_type": "execute_result"
    }
   ],
   "source": [
    "def func(x,y):\n",
    "    while y:\n",
    "        x,y = y,x%y\n",
    "        return y\n",
    "func(124,28)"
   ]
  },
  {
   "cell_type": "markdown",
   "metadata": {},
   "source": [
    "### 問3. 2つの自然数の最小公倍数を求める関数を作りなさい\n",
    "最大公約数を使って解いてみよう"
   ]
  },
  {
   "cell_type": "raw",
   "metadata": {
    "collapsed": true
   },
   "source": [
    "最小公倍数の略 = lcm\n",
    "最大公約数の略 = gcd\n",
    "\n",
    "18の倍数 1,2,3,4,6,8,12,24\n",
    "24の倍数 1,2,3,6,9,18\n",
    "\n",
    "最小公倍数は72\n",
    "最大公約数は6"
   ]
  },
  {
   "cell_type": "markdown",
   "metadata": {},
   "source": [
    "### 問4. 10000以下の素数を全て表示させなさい"
   ]
  },
  {
   "cell_type": "raw",
   "metadata": {
    "collapsed": true
   },
   "source": [
    "素数は\n",
    "\n",
    "2の約数は1,2→素数\n",
    "4の約数は1,2,4→素数じゃない\n",
    "\n",
    "1以外の正の整数のうち、約数がその数と1以外しかない数を素数という"
   ]
  }
 ],
 "metadata": {
  "kernelspec": {
   "display_name": "Python 3",
   "language": "python",
   "name": "python3"
  },
  "language_info": {
   "codemirror_mode": {
    "name": "ipython",
    "version": 3
   },
   "file_extension": ".py",
   "mimetype": "text/x-python",
   "name": "python",
   "nbconvert_exporter": "python",
   "pygments_lexer": "ipython3",
   "version": "3.6.0"
  }
 },
 "nbformat": 4,
 "nbformat_minor": 2
}
