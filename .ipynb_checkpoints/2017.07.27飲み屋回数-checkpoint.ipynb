{
 "cells": [
  {
   "cell_type": "code",
   "execution_count": 1,
   "metadata": {
    "collapsed": false
   },
   "outputs": [
    {
     "name": "stdout",
     "output_type": "stream",
     "text": [
      "26\n"
     ]
    }
   ],
   "source": [
    "#今月の飲み屋訪問回数\n",
    "\n",
    "sake = [['バー','恵比寿',5],['バー','大塚',2],['自宅','大塚',5],['バー','銀座',3],['友達の家','小手指',3],['居酒屋','池袋',8],]\n",
    "\n",
    "total = 0\n",
    "for i in range(len(sake)):\n",
    "    total += sake[i][2]\n",
    "print('今月飲みに行った回数は'+str(total)+'回')"
   ]
  },
  {
   "cell_type": "code",
   "execution_count": null,
   "metadata": {
    "collapsed": false
   },
   "outputs": [],
   "source": [
    "sake = [['バー','恵比寿',5],['バー','大塚',2],['自宅','大塚',5],['バー','銀座',3],['かずの家','小手指',3],['居酒屋','池袋',8],]\n",
    "\n",
    "key = input('お店の種類、または飲みに行った最寄り駅を入力')\n",
    "\n",
    "stores = []\n",
    "stations = []\n",
    "\n",
    "for i in range(len(sake)):\n",
    "    if not sake[i][1] in stores:\n",
    "        stores.append(sake[i][1])\n",
    "    if not sake[i][0] in stations:\n",
    "        stations.append(sake[i][0])\n",
    "        \n",
    "print(stores)\n",
    "print(stations)"
   ]
  },
  {
   "cell_type": "code",
   "execution_count": 2,
   "metadata": {
    "collapsed": false
   },
   "outputs": [
    {
     "name": "stdout",
     "output_type": "stream",
     "text": [
      "お店の名前バー\n",
      "['恵比寿', '大塚', '銀座', '小手指', '池袋']\n",
      "['バー', 'バー', '自宅', 'バー', 'かずきの家', '居酒屋']\n"
     ]
    }
   ],
   "source": [
    "sake = [['バー','恵比寿',5],['バー','大塚',2],['自宅','大塚',5],['バー','銀座',3],['かずきの家','小手指',3],['居酒屋','池袋',8],]\n",
    "\n",
    "key = input('お店の名前')\n",
    "\n",
    "stores = []\n",
    "stations = []\n",
    "\n",
    "for i in range(len(sake)):\n",
    "    if not sake[i][1] in stores:\n",
    "        stores.append(sake[i][1])\n",
    "    if not sake[i][1] in stations:\n",
    "        stations.append(sake[i][0])\n",
    "print(stores)\n",
    "print(stations)"
   ]
  },
  {
   "cell_type": "code",
   "execution_count": null,
   "metadata": {
    "collapsed": true
   },
   "outputs": [],
   "source": []
  },
  {
   "cell_type": "code",
   "execution_count": null,
   "metadata": {
    "collapsed": true
   },
   "outputs": [],
   "source": []
  }
 ],
 "metadata": {
  "kernelspec": {
   "display_name": "Python 3",
   "language": "python",
   "name": "python3"
  },
  "language_info": {
   "codemirror_mode": {
    "name": "ipython",
    "version": 3
   },
   "file_extension": ".py",
   "mimetype": "text/x-python",
   "name": "python",
   "nbconvert_exporter": "python",
   "pygments_lexer": "ipython3",
   "version": "3.6.0"
  }
 },
 "nbformat": 4,
 "nbformat_minor": 2
}
