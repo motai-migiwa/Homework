{
 "cells": [
  {
   "cell_type": "code",
   "execution_count": null,
   "metadata": {
    "collapsed": true
   },
   "outputs": [],
   "source": [
    "#うるう年の条件分岐を関数に直してみましょう。(ヒント:ReturnとFalseを使うよ)\n",
    "\n",
    "year = int(input('西暦何年？'))\n",
    "\n",
    "\n",
    "# 'うるう年'\n",
    "if year % 400 == 0:\n",
    "\n",
    "\n",
    "#'うるう年じゃない'\n",
    "elif year % 100 == 0:\n",
    "\n",
    "#'うるう年'\n",
    "elif year % 4 == 0:\n",
    "\n",
    "#'うるう年じゃない'\n",
    "else:\n",
    "               \n",
    "\n",
    "print( str(year) + 'は' + leap_year(year) + 'です。')"
   ]
  },
  {
   "cell_type": "code",
   "execution_count": null,
   "metadata": {
    "collapsed": true
   },
   "outputs": [],
   "source": [
    "#FizzBuzzゲームです。関数に直してみましょう。(ヒント:関数はprintでも返せます。)\n",
    "\n",
    "\n",
    "for i in range(1,21):\n",
    "        \n",
    "    if i % 15 == 0:\n",
    "        print ('FizzBazz')\n",
    "    \n",
    "    elif i % 5 == 0:\n",
    "        print ('Bazz')\n",
    "    \n",
    "    elif i % 3 == 0:\n",
    "        print ('Fizz')\n",
    "    \n",
    "    else:\n",
    "        print (i)"
   ]
  }
 ],
 "metadata": {
  "kernelspec": {
   "display_name": "Python 3",
   "language": "python",
   "name": "python3"
  },
  "language_info": {
   "codemirror_mode": {
    "name": "ipython",
    "version": 3
   },
   "file_extension": ".py",
   "mimetype": "text/x-python",
   "name": "python",
   "nbconvert_exporter": "python",
   "pygments_lexer": "ipython3",
   "version": "3.6.0"
  }
 },
 "nbformat": 4,
 "nbformat_minor": 2
}
