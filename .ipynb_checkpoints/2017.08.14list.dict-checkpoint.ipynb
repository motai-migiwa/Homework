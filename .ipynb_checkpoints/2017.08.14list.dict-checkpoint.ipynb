{
 "cells": [
  {
   "cell_type": "code",
   "execution_count": null,
   "metadata": {
    "collapsed": true
   },
   "outputs": [],
   "source": [
    "#(復習問題)選手6人の身長の平均が知りたい\n",
    "height = [170,182,175,175,186,185]\n",
    "\n",
    "\n",
    "L = [['長友','japan',170],['本田','japan',182],['香川','japan',175],['ネイマール','Brasil',175],\n",
    "              ['カカ','Brasil',186],['ロナウド','portugal',185]]\n",
    "#1.リストLの名前のリストを作る\n",
    ">>> ['長友', '本田', '香川', 'ネイマール', 'カカ', 'ロナウド']\n",
    "\n",
    "#2.リストLの国のリストを作る(重複不可)\n",
    ">>>['japan', 'Brasil', 'portugal']\n",
    "\n",
    "#3.リストLの身長だけのリストを作り、平均を出す\n",
    ">>>[170, 182, 175, 175, 186, 185]\n",
    ">>>178\n",
    "\n",
    "#4.辞書playerの国をカウントして出力する\n",
    "player = {'長友':'japan','本田':'japan','香川':'japan','ネイマール':'Brasil','カカ':'Brasil','ロナウド':'portugal'}\n",
    "\n",
    ">>>3 2 1\n",
    "\n",
    "#4-1.fomatを使って以下の出力に変えてください\n",
    ">>>日本は3人です。ブラジルは2人です。ポルトガルは1人です。\n",
    "\n",
    "#5.リストLの選手の出身国を辞書型にしてカウントする\n",
    "L = [['長友','japan',170],['本田','japan',182],['香川','japan',175],['ネイマール','Brasil',175],\n",
    "              ['カカ','Brasil',186],['ロナウド','portugal',185]]\n",
    "dic = {'japan':0, 'Brasil':0, 'porutugal':0}\n",
    "\n",
    ">>>{'japan': 3, 'Brasil': 2, 'porutugal': 1}\n",
    "\n"
   ]
  },
  {
   "cell_type": "code",
   "execution_count": 9,
   "metadata": {
    "collapsed": false
   },
   "outputs": [
    {
     "name": "stdout",
     "output_type": "stream",
     "text": [
      "178\n",
      "54\n"
     ]
    }
   ],
   "source": [
    "#(復習問題)選手6人の身長の平均が知りたい\n",
    "height = [170,182,175,175,186,185]\n",
    "weight = [60,65,54,39]\n",
    "def average(x):\n",
    "    total = 0\n",
    "    for i in x:\n",
    "        total += i\n",
    "        heikin = total // len(x)\n",
    "    return heikin\n",
    "print(average(height))\n",
    "print(average(weight))"
   ]
  },
  {
   "cell_type": "code",
   "execution_count": null,
   "metadata": {
    "collapsed": true
   },
   "outputs": [],
   "source": [
    "リスト[]複数の値を持つことが出来る\n",
    "\n",
    "append(x)値をリストの末尾に追加\n",
    "extend(L)異なるリストLを末尾に追加\n",
    "insert(i,x)インデックスiの位置に値xを挿入する\n",
    "remove(x)リスト中にある値xを削除する(最初に見つかった要素のみ)\n",
    "pop()リストの末尾にある要素を取り出し、リストから削除する\n",
    "clear()リストの全要素を削除\n",
    "index(x)リストから値xを探し出してその位置(インデックス)を返す\n",
    "count(x)リスト中にxが何回出現するか回数を返す\n",
    "sort(key,reverse)リストを昇順に並び替える\n",
    "copy()リストの複製を返す"
   ]
  },
  {
   "cell_type": "code",
   "execution_count": 12,
   "metadata": {
    "collapsed": false
   },
   "outputs": [
    {
     "name": "stdout",
     "output_type": "stream",
     "text": [
      "0\n",
      "1\n",
      "1\n",
      "2\n",
      "3\n",
      "2\n"
     ]
    }
   ],
   "source": [
    "list1 = [0,1,1,2,3,2]\n",
    "\n",
    "for i in list1:\n",
    "    print(i)"
   ]
  },
  {
   "cell_type": "code",
   "execution_count": null,
   "metadata": {
    "collapsed": true
   },
   "outputs": [],
   "source": [
    "タプル()要素を変更できない"
   ]
  },
  {
   "cell_type": "code",
   "execution_count": 13,
   "metadata": {
    "collapsed": false
   },
   "outputs": [
    {
     "name": "stdout",
     "output_type": "stream",
     "text": [
      "0\n",
      "2\n",
      "3\n",
      "4\n",
      "2\n",
      "2\n"
     ]
    }
   ],
   "source": [
    "list2 = (0,2,3,4,2,2)\n",
    "\n",
    "for i in list2:\n",
    "    print(i)"
   ]
  },
  {
   "cell_type": "code",
   "execution_count": null,
   "metadata": {
    "collapsed": true
   },
   "outputs": [],
   "source": [
    "集合型{}要素を重複できないリスト"
   ]
  },
  {
   "cell_type": "code",
   "execution_count": 14,
   "metadata": {
    "collapsed": false
   },
   "outputs": [
    {
     "name": "stdout",
     "output_type": "stream",
     "text": [
      "0\n",
      "2\n",
      "3\n"
     ]
    }
   ],
   "source": [
    "list3 = {0,2,3,2,3,2}\n",
    "\n",
    "for i in list:\n",
    "    print(i)"
   ]
  },
  {
   "cell_type": "code",
   "execution_count": 36,
   "metadata": {
    "collapsed": false
   },
   "outputs": [
    {
     "ename": "IndentationError",
     "evalue": "unexpected indent (<ipython-input-36-40b4ea53b2ea>, line 19)",
     "output_type": "error",
     "traceback": [
      "\u001b[0;36m  File \u001b[0;32m\"<ipython-input-36-40b4ea53b2ea>\"\u001b[0;36m, line \u001b[0;32m19\u001b[0m\n\u001b[0;31m    for i in kara:\u001b[0m\n\u001b[0m    ^\u001b[0m\n\u001b[0;31mIndentationError\u001b[0m\u001b[0;31m:\u001b[0m unexpected indent\n"
     ]
    }
   ],
   "source": [
    "#名前のリストを作る\n",
    "\n",
    "L = [['長友','japan',170],['本田','japan',182],['香川','japan',175],['ネイマール','Brasil',175],\n",
    "              ['カカ','Brasil',186],['ロナウド','portugal',185]]\n",
    "\n",
    "\n",
    "def name_list(x):\n",
    "    name = []\n",
    "    for i in range(len(x)):\n",
    "        name.append(x[i][2])\n",
    "    return name\n",
    "print(name_list(L))\n"
   ]
  },
  {
   "cell_type": "code",
   "execution_count": null,
   "metadata": {
    "collapsed": true
   },
   "outputs": [],
   "source": []
  }
 ],
 "metadata": {
  "kernelspec": {
   "display_name": "Python 3",
   "language": "python",
   "name": "python3"
  },
  "language_info": {
   "codemirror_mode": {
    "name": "ipython",
    "version": 3
   },
   "file_extension": ".py",
   "mimetype": "text/x-python",
   "name": "python",
   "nbconvert_exporter": "python",
   "pygments_lexer": "ipython3",
   "version": "3.6.0"
  }
 },
 "nbformat": 4,
 "nbformat_minor": 2
}
