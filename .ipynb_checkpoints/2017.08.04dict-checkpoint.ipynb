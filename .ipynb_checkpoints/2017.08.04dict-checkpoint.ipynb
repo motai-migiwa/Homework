{
 "cells": [
  {
   "cell_type": "code",
   "execution_count": 32,
   "metadata": {
    "collapsed": false
   },
   "outputs": [
    {
     "name": "stdout",
     "output_type": "stream",
     "text": [
      "1073\n",
      "178\n"
     ]
    }
   ],
   "source": [
    "#選手6人の身長の平均が知りたい\n",
    "height = [170,182,175,175,186,185]\n",
    "\n",
    "total = 0\n",
    "for i in height:\n",
    "    total += i\n",
    "    #heikin / len(height)\n",
    "print(total)\n",
    "ninzuu = len(height)\n",
    "heikin2 = total // ninzuu\n",
    "print(heikin2)"
   ]
  },
  {
   "cell_type": "code",
   "execution_count": 38,
   "metadata": {
    "collapsed": false
   },
   "outputs": [
    {
     "name": "stdout",
     "output_type": "stream",
     "text": [
      "['長友', '本田', '香川', 'ネイマール', 'カカ', 'ロナウド']\n"
     ]
    }
   ],
   "source": [
    "#名前のリストを作る\n",
    "\n",
    "L = [['長友','japan',170],['本田','japan',182],['香川','japan',175],['ネイマール','Brasil',175],\n",
    "              ['カカ','Brasil',186],['ロナウド','portugal',185]]\n",
    "\n",
    "player = []          \n",
    "#japan = []\n",
    "#height = []\n",
    "\n",
    "for i in range(len(L)):\n",
    "    player.append(L[i][0])\n",
    "print(player)\n",
    "        "
   ]
  },
  {
   "cell_type": "code",
   "execution_count": 42,
   "metadata": {
    "collapsed": false
   },
   "outputs": [
    {
     "name": "stdout",
     "output_type": "stream",
     "text": [
      "['japan', 'Brasil', 'portugal']\n"
     ]
    }
   ],
   "source": [
    "#国のリストを作る(重複不可)\n",
    "\n",
    "L = [['長友','japan',170],['本田','japan',182],['香川','japan',175],['ネイマール','Brasil',175],\n",
    "              ['カカ','Brasil',186],['ロナウド','portugal',185]]\n",
    "\n",
    "#player = []          \n",
    "country = []\n",
    "#height = []\n",
    "\n",
    "for i in range(len(L)):\n",
    "    if not L[i][1] in country:\n",
    "        country.append(L[i][1])\n",
    "print(country)\n",
    "        "
   ]
  },
  {
   "cell_type": "code",
   "execution_count": 33,
   "metadata": {
    "collapsed": false
   },
   "outputs": [
    {
     "name": "stdout",
     "output_type": "stream",
     "text": [
      "[170, 182, 175, 175, 186, 185]\n",
      "178\n"
     ]
    }
   ],
   "source": [
    "#Lの身長だけのリストを作り、平均を出す\n",
    "\n",
    "L = [['長友','japan',170],['本田','japan',182],['香川','japan',175],['ネイマール','Brasil',175],\n",
    "              ['カカ','Brasil',186],['ロナウド','portugal',185]]\n",
    "\n",
    "#player = []          \n",
    "#japan = []\n",
    "height = []\n",
    "\n",
    "for i in range(len(L)):\n",
    "    height.append(L[i][2])\n",
    "print(height)\n",
    "\n",
    "\n",
    "total = 0\n",
    "for j in height:\n",
    "     total += j\n",
    "               \n",
    "ninnzu = len(height)\n",
    "heikin = total // ninnzu\n",
    "print(heikin)"
   ]
  },
  {
   "cell_type": "code",
   "execution_count": 75,
   "metadata": {
    "collapsed": false
   },
   "outputs": [
    {
     "name": "stdout",
     "output_type": "stream",
     "text": [
      "3 2 1\n",
      "日本は3人です。ブラジルは2人です。ポルトガルは1人です。\n"
     ]
    }
   ],
   "source": [
    "#辞書playerの国をカウントして出力する\n",
    "\n",
    "player = {'長友':'japan','本田':'japan','香川':'japan','ネイマール':'Brasil','カカ':'Brasil','ロナウド':'portugal'}\n",
    "\n",
    "japan = 0\n",
    "Brasil = 0\n",
    "portugal = 0\n",
    "\n",
    "for i in player.keys():\n",
    "    if player[i] == 'japan':\n",
    "        japan += 1\n",
    "        \n",
    "    elif player[i] == 'Brasil':\n",
    "        Brasil += 1\n",
    "        \n",
    "    else:\n",
    "        portugal += 1\n",
    "        \n",
    "#print(japan,Brasil,portugal)\n",
    "print('日本は{}人です。ブラジルは{}人です。ポルトガルは{}人です。'.format(japan,Brasil,portugal))"
   ]
  },
  {
   "cell_type": "code",
   "execution_count": 58,
   "metadata": {
    "collapsed": false
   },
   "outputs": [
    {
     "name": "stdout",
     "output_type": "stream",
     "text": [
      "{'japan': 3, 'Brasil': 2, 'porutugal': 1}\n"
     ]
    }
   ],
   "source": [
    "#リストLの選手の出身国を辞書型でカウントする\n",
    "\n",
    "L = [['長友','japan',170],['本田','japan',182],['香川','japan',175],['ネイマール','Brasil',175],\n",
    "              ['カカ','Brasil',186],['ロナウド','portugal',185]]\n",
    "\n",
    "\n",
    "dic = {\n",
    "    'japan':0, \n",
    "    'Brasil':0, \n",
    "    'porutugal':0}\n",
    "\n",
    "for i in range(len(L)):\n",
    "    if L[i][1] == 'japan':\n",
    "        dic['japan'] += 1\n",
    "    elif L[i][1] == 'Brasil':\n",
    "        dic['Brasil'] += 1\n",
    "    else:\n",
    "        dic['porutugal'] += 1\n",
    "print(dic)"
   ]
  },
  {
   "cell_type": "code",
   "execution_count": null,
   "metadata": {
    "collapsed": true
   },
   "outputs": [],
   "source": [
    "#国ごとに名前と身長をリスト化\n",
    "#dic = {'country'[name:height],[name:height],'country'[name:height],'country'[name:height]}\n",
    "\n",
    "L = [['長友','japan',170],['本田','japan',182],['香川','japan',175],['ネイマール','Brasil',175],\n",
    "              ['カカ','Brasil',186],['ロナウド','portugal',185]]\n"
   ]
  }
 ],
 "metadata": {
  "kernelspec": {
   "display_name": "Python 3",
   "language": "python",
   "name": "python3"
  },
  "language_info": {
   "codemirror_mode": {
    "name": "ipython",
    "version": 3
   },
   "file_extension": ".py",
   "mimetype": "text/x-python",
   "name": "python",
   "nbconvert_exporter": "python",
   "pygments_lexer": "ipython3",
   "version": "3.6.0"
  }
 },
 "nbformat": 4,
 "nbformat_minor": 2
}
