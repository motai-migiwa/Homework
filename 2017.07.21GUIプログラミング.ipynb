{
 "cells": [
  {
   "cell_type": "code",
   "execution_count": 1,
   "metadata": {
    "collapsed": false
   },
   "outputs": [],
   "source": [
    "#tkinterを取り込む\n",
    "from tkinter import *\n",
    "import tkinter.messagebox as mb\n",
    "\n",
    "#ボタンが押された時の動作を関数として定義\n",
    "def say_hello():\n",
    "    mb.showinfo('挨拶','おはようございます') #[OK]ボタンだけがあるダイアログ\n",
    "\n",
    "#メインウィンドウを作成\n",
    "root = Tk()\n",
    "root.title('挨拶') #メインウィンドウのタイトルを設定\n",
    "\n",
    "#ラベルを作成\n",
    "desc_label = Label(text='以下のボタンを押してください')\n",
    "desc_label.pack()\n",
    "\n",
    "#挨拶ボタンを作成\n",
    "hello_button = Button(          #Button()メソッド\n",
    "        text = '挨拶',\n",
    "        width = 10 , height = 3, #文字数でボタンのサイズを指定\n",
    "        command = say_hello     #ボタンをクリックした時の動作\n",
    ")\n",
    "hello_button.pack()\n",
    "\n",
    "#メインループを開始\n",
    "root.mainloop()　#イベントループ、「マウスのクリック」や「キーボードの入力」"
   ]
  },
  {
   "cell_type": "code",
   "execution_count": null,
   "metadata": {
    "collapsed": true
   },
   "outputs": [],
   "source": []
  }
 ],
 "metadata": {
  "kernelspec": {
   "display_name": "Python 3",
   "language": "python",
   "name": "python3"
  },
  "language_info": {
   "codemirror_mode": {
    "name": "ipython",
    "version": 3
   },
   "file_extension": ".py",
   "mimetype": "text/x-python",
   "name": "python",
   "nbconvert_exporter": "python",
   "pygments_lexer": "ipython3",
   "version": "3.6.0"
  }
 },
 "nbformat": 4,
 "nbformat_minor": 2
}
