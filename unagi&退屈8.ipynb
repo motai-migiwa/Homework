{
 "cells": [
  {
   "cell_type": "code",
   "execution_count": 5,
   "metadata": {
    "collapsed": false
   },
   "outputs": [
    {
     "name": "stdout",
     "output_type": "stream",
     "text": [
      "購入するうなぎの個数を入力してください：4\n",
      "unagi990\n",
      "unagi990\n",
      "unagi990\n",
      "unagi990\n",
      "3960\n"
     ]
    }
   ],
   "source": [
    "unagi = 0\n",
    "price = 990\n",
    "total_price = 0\n",
    "\n",
    "N = input('購入するうなぎの個数を入力してください：')\n",
    "\n",
    "while unagi <int(N):\n",
    "    unagi += 1\n",
    "    total_price += price\n",
    "    print('unagi'+ str(price))\n",
    "print(total_price)"
   ]
  },
  {
   "cell_type": "code",
   "execution_count": 65,
   "metadata": {
    "collapsed": true
   },
   "outputs": [],
   "source": [
    "import os"
   ]
  },
  {
   "cell_type": "code",
   "execution_count": 66,
   "metadata": {
    "collapsed": false
   },
   "outputs": [
    {
     "data": {
      "text/plain": [
       "'/Users/motaimigiwa/python'"
      ]
     },
     "execution_count": 66,
     "metadata": {},
     "output_type": "execute_result"
    }
   ],
   "source": [
    "os.getcwd()"
   ]
  },
  {
   "cell_type": "code",
   "execution_count": 67,
   "metadata": {
    "collapsed": true
   },
   "outputs": [],
   "source": [
    "unagi = os.getcwd()"
   ]
  },
  {
   "cell_type": "code",
   "execution_count": 68,
   "metadata": {
    "collapsed": true
   },
   "outputs": [],
   "source": [
    "os.chdir('/Users/motaimigiwa/python')"
   ]
  },
  {
   "cell_type": "code",
   "execution_count": 69,
   "metadata": {
    "collapsed": false
   },
   "outputs": [
    {
     "data": {
      "text/plain": [
       "'/Users/motaimigiwa/python'"
      ]
     },
     "execution_count": 69,
     "metadata": {},
     "output_type": "execute_result"
    }
   ],
   "source": [
    "os.getcwd()"
   ]
  },
  {
   "cell_type": "markdown",
   "metadata": {},
   "source": [
    "# 8-2"
   ]
  },
  {
   "cell_type": "code",
   "execution_count": 70,
   "metadata": {
    "collapsed": false
   },
   "outputs": [
    {
     "data": {
      "text/plain": [
       "'/Users/motaimigiwa/python'"
      ]
     },
     "execution_count": 70,
     "metadata": {},
     "output_type": "execute_result"
    }
   ],
   "source": [
    "#相対パスを絶対パスに変換できる\n",
    "os.path.abspath(unagi)"
   ]
  },
  {
   "cell_type": "code",
   "execution_count": 71,
   "metadata": {
    "collapsed": false
   },
   "outputs": [
    {
     "name": "stdout",
     "output_type": "stream",
     "text": [
      "True\n",
      "False\n"
     ]
    }
   ],
   "source": [
    "#絶対パスか相対パスか調べる\n",
    "print(os.path.isabs('/unagi'))\n",
    "print(os.path.isabs('../../unagi'))"
   ]
  },
  {
   "cell_type": "code",
   "execution_count": 72,
   "metadata": {
    "collapsed": false
   },
   "outputs": [
    {
     "data": {
      "text/plain": [
       "'../../../../python/unagi'"
      ]
     },
     "execution_count": 72,
     "metadata": {},
     "output_type": "execute_result"
    }
   ],
   "source": [
    "#引数startから見た 絶対パスpathへの相対パスを返す\n",
    "#引数startを省略した場合はカレントディレクトリからの相対パスを返す\n",
    "\n",
    "os.path.relpath('python/unagi','a/b/c/d/')"
   ]
  },
  {
   "cell_type": "code",
   "execution_count": 73,
   "metadata": {
    "collapsed": false
   },
   "outputs": [
    {
     "data": {
      "text/plain": [
       "'../python/unagi'"
      ]
     },
     "execution_count": 73,
     "metadata": {},
     "output_type": "execute_result"
    }
   ],
   "source": [
    "os.path.relpath('python/unagi','start')"
   ]
  },
  {
   "cell_type": "code",
   "execution_count": 74,
   "metadata": {
    "collapsed": false
   },
   "outputs": [
    {
     "name": "stdout",
     "output_type": "stream",
     "text": [
      "unagi\n",
      "/python/Homework\n",
      "('/python/Homework', 'unagi')\n"
     ]
    }
   ],
   "source": [
    "#引数pathの最後の区切りまでを返す\n",
    "print(os.path.basename(\"/python/unagi\"))\n",
    "\n",
    "#引数pathの最後の区切りより前を返す\n",
    "print(os.path.dirname('/python/Homework/unagi'))\n",
    "\n",
    "#dirname()とbasename()のタプルを返す\n",
    "print(os.path.split('/python/Homework/unagi'))"
   ]
  },
  {
   "cell_type": "code",
   "execution_count": 75,
   "metadata": {
    "collapsed": false
   },
   "outputs": [
    {
     "data": {
      "text/plain": [
       "'unagi'"
      ]
     },
     "execution_count": 75,
     "metadata": {},
     "output_type": "execute_result"
    }
   ],
   "source": [
    "path = '/Users/motaimigiwa/Homework/python/unagi'\n",
    "os.path.basename(path)"
   ]
  },
  {
   "cell_type": "code",
   "execution_count": 76,
   "metadata": {
    "collapsed": false
   },
   "outputs": [
    {
     "data": {
      "text/plain": [
       "'/Users/motaimigiwa/python'"
      ]
     },
     "execution_count": 76,
     "metadata": {},
     "output_type": "execute_result"
    }
   ],
   "source": [
    "os.getcwd()"
   ]
  },
  {
   "cell_type": "code",
   "execution_count": 77,
   "metadata": {
    "collapsed": false
   },
   "outputs": [
    {
     "data": {
      "text/plain": [
       "850"
      ]
     },
     "execution_count": 77,
     "metadata": {},
     "output_type": "execute_result"
    }
   ],
   "source": [
    "#ファイルのサイズをバイト単位で返す\n",
    "os.path.getsize(unagi)"
   ]
  },
  {
   "cell_type": "code",
   "execution_count": 78,
   "metadata": {
    "collapsed": false
   },
   "outputs": [
    {
     "data": {
      "text/plain": [
       "['.DS_Store',\n",
       " '.ipynb_checkpoints',\n",
       " '0907リストまとめとタプル.ipynb',\n",
       " '0907辞書まとめ.ipynb',\n",
       " '2017.0909.ipynb',\n",
       " '7:29㈯授業スケ.txt',\n",
       " '__pycache__',\n",
       " 'cgi-bin',\n",
       " 'Homework',\n",
       " 'kadai',\n",
       " 'line bot',\n",
       " 'Line bot 必要なものの登録とインストールの手順＆サーバーへのアップッロード.txt',\n",
       " 'line bot手順.txt',\n",
       " 'PyQ',\n",
       " 'python入門書',\n",
       " 'python概要.pages',\n",
       " 'taikutsu_08.ipynb',\n",
       " 'til',\n",
       " 'unagi.txt.rtf',\n",
       " 'よく使うGitのコマンド.txt',\n",
       " 'ターミナル.pages',\n",
       " '勝又さん',\n",
       " '問題']"
      ]
     },
     "execution_count": 78,
     "metadata": {},
     "output_type": "execute_result"
    }
   ],
   "source": [
    "#ファイル名とフォルダ名のリストを返す\n",
    "os.listdir('/Users/motaimigiwa/python')"
   ]
  },
  {
   "cell_type": "code",
   "execution_count": 79,
   "metadata": {
    "collapsed": false
   },
   "outputs": [
    {
     "name": "stdout",
     "output_type": "stream",
     "text": [
      "526776\n"
     ]
    }
   ],
   "source": [
    "total_size = 0\n",
    "for filename in os.listdir('/Users/motaimigiwa/python'):\n",
    "    total_size = total_size + os.path.getsize(os.path.join('/Users/motaimigiwa/python',filename))\n",
    "    \n",
    "print(total_size)    "
   ]
  },
  {
   "cell_type": "raw",
   "metadata": {},
   "source": [
    "'/Users/motaimigiwa/python'フォルダ内の各ファイルをループして、変数total_sizeの値に各ファイルのサイズを\n",
    "足していく。os.path.getsize()の戻り値をtotal_sizeに足し合わせる。すべてのファイルをループしたら、\n",
    "'/Users/motaimigiwa/python'フォルダ内の合計サイズとしてtotal_sizeを表示する。"
   ]
  },
  {
   "cell_type": "code",
   "execution_count": 80,
   "metadata": {
    "collapsed": false
   },
   "outputs": [
    {
     "data": {
      "text/plain": [
       "True"
      ]
     },
     "execution_count": 80,
     "metadata": {},
     "output_type": "execute_result"
    }
   ],
   "source": [
    "#引数に指定した先が存在し、ファイルやフォルダであればTrue\n",
    "#そうでなければFalse\n",
    "\n",
    "os.path.exists('/Users/motaimigiwa')"
   ]
  },
  {
   "cell_type": "code",
   "execution_count": 81,
   "metadata": {
    "collapsed": false
   },
   "outputs": [
    {
     "data": {
      "text/plain": [
       "False"
      ]
     },
     "execution_count": 81,
     "metadata": {},
     "output_type": "execute_result"
    }
   ],
   "source": [
    "os.path.exists('/motaimigiwa/python')"
   ]
  },
  {
   "cell_type": "code",
   "execution_count": 82,
   "metadata": {
    "collapsed": false
   },
   "outputs": [
    {
     "data": {
      "text/plain": [
       "True"
      ]
     },
     "execution_count": 82,
     "metadata": {},
     "output_type": "execute_result"
    }
   ],
   "source": [
    "#引数に指定した先が存在し、それがフォルダであればTrue\n",
    "#そうでなければFalse\n",
    "\n",
    "os.path.isdir('/Users/motaimigiwa')"
   ]
  },
  {
   "cell_type": "code",
   "execution_count": 83,
   "metadata": {
    "collapsed": false
   },
   "outputs": [
    {
     "data": {
      "text/plain": [
       "False"
      ]
     },
     "execution_count": 83,
     "metadata": {},
     "output_type": "execute_result"
    }
   ],
   "source": [
    "os.path.isdir('/python/Homework/unagi')"
   ]
  },
  {
   "cell_type": "code",
   "execution_count": 84,
   "metadata": {
    "collapsed": true
   },
   "outputs": [],
   "source": [
    "#引数に指定した先が存在し、それがファイルであればTrue\n",
    "#そうでなければFalse"
   ]
  },
  {
   "cell_type": "code",
   "execution_count": 85,
   "metadata": {
    "collapsed": false
   },
   "outputs": [
    {
     "data": {
      "text/plain": [
       "False"
      ]
     },
     "execution_count": 85,
     "metadata": {},
     "output_type": "execute_result"
    }
   ],
   "source": [
    "os.path.isfile('Untitled1.ipynb')"
   ]
  },
  {
   "cell_type": "code",
   "execution_count": 86,
   "metadata": {
    "collapsed": false
   },
   "outputs": [
    {
     "data": {
      "text/plain": [
       "False"
      ]
     },
     "execution_count": 86,
     "metadata": {},
     "output_type": "execute_result"
    }
   ],
   "source": [
    "os.path.isfile('/Users/motaimigiwa')"
   ]
  },
  {
   "cell_type": "markdown",
   "metadata": {},
   "source": [
    "#### os.path.exists()を使ってDVDやフラッシュメモリーが接続されているかどうかを判定することもできる。"
   ]
  },
  {
   "cell_type": "markdown",
   "metadata": {},
   "source": [
    "## 8-3"
   ]
  },
  {
   "cell_type": "raw",
   "metadata": {},
   "source": [
    "プレーンテキスト、.txt、.py\n",
    "バイナリファイル、スプレッドシート、PDF、画像"
   ]
  },
  {
   "cell_type": "raw",
   "metadata": {},
   "source": [
    "１．open()関数を呼び出し、Fileオブジェクトを取得\n",
    "２．Fileオブジェクトのread()やwrite()メソッドを呼び出して読み書きする\n",
    "３．Fileオブジェクトのclose()オブジェクトを呼び出してファイルを閉じる"
   ]
  },
  {
   "cell_type": "code",
   "execution_count": 88,
   "metadata": {
    "collapsed": false
   },
   "outputs": [
    {
     "ename": "AttributeError",
     "evalue": "'str' object has no attribute 'txt'",
     "output_type": "error",
     "traceback": [
      "\u001b[0;31m---------------------------------------------------------------------------\u001b[0m",
      "\u001b[0;31mAttributeError\u001b[0m                            Traceback (most recent call last)",
      "\u001b[0;32m<ipython-input-88-8cd561f60caf>\u001b[0m in \u001b[0;36m<module>\u001b[0;34m()\u001b[0m\n\u001b[0;32m----> 1\u001b[0;31m \u001b[0mos\u001b[0m\u001b[0;34m.\u001b[0m\u001b[0mgetcwd\u001b[0m\u001b[0;34m(\u001b[0m\u001b[0munagi\u001b[0m\u001b[0;34m.\u001b[0m\u001b[0mtxt\u001b[0m\u001b[0;34m)\u001b[0m\u001b[0;34m\u001b[0m\u001b[0m\n\u001b[0m",
      "\u001b[0;31mAttributeError\u001b[0m: 'str' object has no attribute 'txt'"
     ]
    }
   ],
   "source": [
    "os.getcwd(unagi.txt)"
   ]
  },
  {
   "cell_type": "code",
   "execution_count": 90,
   "metadata": {
    "collapsed": false
   },
   "outputs": [],
   "source": [
    "unagi_file = open('/Users/motaimigiwa/python/Homework/unagi.txt')"
   ]
  },
  {
   "cell_type": "code",
   "execution_count": null,
   "metadata": {
    "collapsed": true
   },
   "outputs": [],
   "source": [
    "#open()の第２引数に'r'を渡して明示的に読み込みモードを指定することもできる。\n",
    "\n",
    "unagi_file = open('/Users/motaimigiwa/python/Homework/unagi.txt','r')"
   ]
  },
  {
   "cell_type": "code",
   "execution_count": 91,
   "metadata": {
    "collapsed": false
   },
   "outputs": [
    {
     "data": {
      "text/plain": [
       "'I like unagi!\\n'"
      ]
     },
     "execution_count": 91,
     "metadata": {},
     "output_type": "execute_result"
    }
   ],
   "source": [
    "#.read()メソッド、ファイルに格納された文字列を返す\n",
    "\n",
    "unagi_content = unagi_file.read()\n",
    "unagi_content"
   ]
  },
  {
   "cell_type": "code",
   "execution_count": 96,
   "metadata": {
    "collapsed": false
   },
   "outputs": [],
   "source": [
    "unagi_file = open('/Users/motaimigiwa/python/Homework/unagi2.txt')"
   ]
  },
  {
   "cell_type": "code",
   "execution_count": 97,
   "metadata": {
    "collapsed": false
   },
   "outputs": [
    {
     "data": {
      "text/plain": [
       "['Freshwater fish\\n', 'unajyuu\\n', 'hitumabussi\\n', 'kimosui\\n']"
      ]
     },
     "execution_count": 97,
     "metadata": {},
     "output_type": "execute_result"
    }
   ],
   "source": [
    "#.readlines()メソッド、１行ずつの文字列のリストとしてファイルを読み込むことができる\n",
    "\n",
    "unagi_file.readlines()"
   ]
  },
  {
   "cell_type": "code",
   "execution_count": 98,
   "metadata": {
    "collapsed": false
   },
   "outputs": [
    {
     "data": {
      "text/plain": [
       "14"
      ]
     },
     "execution_count": 98,
     "metadata": {},
     "output_type": "execute_result"
    }
   ],
   "source": [
    "bacon_file = open('bacon.txt','w') #①\n",
    "bacon_file.write('I like bacon!\\n')#②"
   ]
  },
  {
   "cell_type": "code",
   "execution_count": 99,
   "metadata": {
    "collapsed": false
   },
   "outputs": [
    {
     "data": {
      "text/plain": [
       "25"
      ]
     },
     "execution_count": 99,
     "metadata": {},
     "output_type": "execute_result"
    }
   ],
   "source": [
    "bacon_file.close()\n",
    "bacon_file = open('bacon.txt','a')\n",
    "bacon_file.write('Bacon is not a vegetable.')"
   ]
  },
  {
   "cell_type": "code",
   "execution_count": 100,
   "metadata": {
    "collapsed": false
   },
   "outputs": [
    {
     "name": "stdout",
     "output_type": "stream",
     "text": [
      "I like bacon!\n",
      "Bacon is not a vegetable.\n"
     ]
    }
   ],
   "source": [
    "bacon_file.close()\n",
    "bacon_file = open('bacon.txt')\n",
    "content = bacon_file.read() #③\n",
    "bacon_file.close()\n",
    "print(content)"
   ]
  },
  {
   "cell_type": "raw",
   "metadata": {},
   "source": [
    "①open('bacon.txt','w')書き込みモードで開く、ファイルは新たに作成される\n",
    "②.writeメソッドで書き込み'I like bacon!\\n'、write()メソッドは書き込まれた文字数（改行を含む）を返す\n",
    "③read()を呼び出してファイルの内容をcontentに読み込んでファイルを閉じる"
   ]
  },
  {
   "cell_type": "code",
   "execution_count": 108,
   "metadata": {
    "collapsed": false
   },
   "outputs": [
    {
     "name": "stdout",
     "output_type": "stream",
     "text": [
      "<class 'shelve.DbfilenameShelf'>\n",
      "['tama', 'mimi', 'popo']\n",
      "['cats']\n",
      "[['tama', 'mimi', 'popo']]\n"
     ]
    }
   ],
   "source": [
    "# shelveモジュールを用いて変数を保存\n",
    "\n",
    "import shelve\n",
    "\n",
    "shelf_file = shelve.open('mydate')#①\n",
    "cats = ['tama','mimi','popo']\n",
    "shelf_file['cats'] = cats#②\n",
    "shelf_file.close()#③"
   ]
  },
  {
   "cell_type": "code",
   "execution_count": null,
   "metadata": {
    "collapsed": true
   },
   "outputs": [],
   "source": [
    "①戻り値のシェルフオブジェクトを変数に格納\n",
    "②shelf_file['cats'] = catsというキーに対応した値としてリストcatsの内容を保存\n",
    "③値を保存したらclose()を開く"
   ]
  },
  {
   "cell_type": "code",
   "execution_count": 109,
   "metadata": {
    "collapsed": false
   },
   "outputs": [
    {
     "name": "stdout",
     "output_type": "stream",
     "text": [
      "<class 'shelve.DbfilenameShelf'>\n",
      "['tama', 'mimi', 'popo']\n"
     ]
    }
   ],
   "source": [
    "shelf_file = shelve.open('mydate')\n",
    "print(type(shelf_file))\n",
    "print(shelf_file['cats'])\n",
    "shelf_file.close()"
   ]
  },
  {
   "cell_type": "code",
   "execution_count": 110,
   "metadata": {
    "collapsed": false
   },
   "outputs": [
    {
     "name": "stdout",
     "output_type": "stream",
     "text": [
      "['cats']\n",
      "[['tama', 'mimi', 'popo']]\n"
     ]
    }
   ],
   "source": [
    "shelf_file = shelve.open('mydate')\n",
    "print(list(shelf_file.keys()))\n",
    "print(list(shelf_file.values()))\n",
    "shelf_file.close()"
   ]
  },
  {
   "cell_type": "code",
   "execution_count": 112,
   "metadata": {
    "collapsed": false
   },
   "outputs": [
    {
     "data": {
      "text/plain": [
       "\"[{'color': 'white', 'name': 'mimi'}, {'color': 'black', 'name': 'tama'}]\""
      ]
     },
     "execution_count": 112,
     "metadata": {},
     "output_type": "execute_result"
    }
   ],
   "source": [
    "import pprint\n",
    "cats = [{'name':'mimi','color':'white'},{'name':'tama','color':'black'}]\n",
    "pprint.pformat(cats)"
   ]
  },
  {
   "cell_type": "code",
   "execution_count": 113,
   "metadata": {
    "collapsed": false
   },
   "outputs": [
    {
     "data": {
      "text/plain": [
       "80"
      ]
     },
     "execution_count": 113,
     "metadata": {},
     "output_type": "execute_result"
    }
   ],
   "source": [
    "file_obj = open('myCats.py','w')\n",
    "file_obj.write('cats = ' + pprint.pformat(cats) + '\\n')"
   ]
  },
  {
   "cell_type": "code",
   "execution_count": 114,
   "metadata": {
    "collapsed": true
   },
   "outputs": [],
   "source": [
    "file_obj.close()"
   ]
  },
  {
   "cell_type": "code",
   "execution_count": 115,
   "metadata": {
    "collapsed": false
   },
   "outputs": [
    {
     "data": {
      "text/plain": [
       "[{'color': 'white', 'name': 'mimi'}, {'color': 'black', 'name': 'tama'}]"
      ]
     },
     "execution_count": 115,
     "metadata": {},
     "output_type": "execute_result"
    }
   ],
   "source": [
    "import myCats\n",
    "myCats.cats"
   ]
  },
  {
   "cell_type": "code",
   "execution_count": 116,
   "metadata": {
    "collapsed": false
   },
   "outputs": [
    {
     "data": {
      "text/plain": [
       "{'color': 'white', 'name': 'mimi'}"
      ]
     },
     "execution_count": 116,
     "metadata": {},
     "output_type": "execute_result"
    }
   ],
   "source": [
    "myCats.cats[0]"
   ]
  },
  {
   "cell_type": "code",
   "execution_count": 117,
   "metadata": {
    "collapsed": false
   },
   "outputs": [
    {
     "data": {
      "text/plain": [
       "'mimi'"
      ]
     },
     "execution_count": 117,
     "metadata": {},
     "output_type": "execute_result"
    }
   ],
   "source": [
    "myCats.cats[0]['name']"
   ]
  },
  {
   "cell_type": "markdown",
   "metadata": {},
   "source": [
    "## 8.6 プロジェクト: ランダムな問題集ファイルを作成する\n",
    "プログラムの仕様\n",
    "* 35通りの問題集を作成する\n",
    "* 問題集は都道府県を網羅する４７問の４択問題とし、問題の順番はランダムとする。\n",
    "* 核問題の選択肢は、正解１つと、ランダムな誤答3つがあり、順番はランダムとする\n",
    "* 問題集は３５このテキストファイルに書き出す\n",
    "* 解答集も35個のテキストファイルに書き出す"
   ]
  },
  {
   "cell_type": "code",
   "execution_count": 122,
   "metadata": {
    "collapsed": true
   },
   "outputs": [],
   "source": [
    "#! python3\n",
    "# randomQuizGenerator.py ランダム順に問題と答えを並べ問題集と解答集を作る\n",
    "\n",
    "\n",
    "import random"
   ]
  },
  {
   "cell_type": "code",
   "execution_count": 123,
   "metadata": {
    "collapsed": true
   },
   "outputs": [],
   "source": [
    "capitals = {\n",
    "\t'北海道': '札幌',\n",
    "\t'青森県': '青森',\n",
    "\t'岩手県': '盛岡',\n",
    "\t'宮城県': '仙台',\n",
    "\t'秋田県': '秋田',\n",
    "\t'山形県': '山形',\n",
    "\t'福島県': '福島',\n",
    "\t'茨城県': '水戸',\n",
    "\t'栃木県': '宇都宮',\n",
    "\t'群馬県': '前橋',\n",
    "\t'埼玉県': 'さいたま',\n",
    "\t'千葉県': '千葉',\n",
    "\t'東京都': '東京',\n",
    "\t'神奈川県': '横浜',\n",
    "\t'新潟県': '新潟',\n",
    "\t'富山県': '富山',\n",
    "\t'石川県': '金沢',\n",
    "\t'福井県': '福井',\n",
    "\t'山梨県': '甲府',\n",
    "\t'長野県': '長野',\n",
    "\t'岐阜県': '岐阜',\n",
    "\t'静岡県': '静岡',\n",
    "\t'愛知県': '名古屋',\n",
    "\t'三重県': '津',\n",
    "\t'滋賀県': '大津',\n",
    "\t'京都府': '京都',\n",
    "\t'大阪府': '大阪',\n",
    "\t'兵庫県': '神戸',\n",
    "\t'奈良県': '奈良',\n",
    "\t'和歌山県': '和歌山',\n",
    "\t'鳥取県': '鳥取',\n",
    "\t'島根県': '松江',\n",
    "\t'岡山県': '岡山',\n",
    "\t'広島県': '広島',\n",
    "\t'山口県': '山口',\n",
    "\t'徳島県': '徳島',\n",
    "\t'香川県': '高松',\n",
    "\t'愛媛県': '松山',\n",
    "\t'高知県': '高知',\n",
    "\t'福岡県': '福岡',\n",
    "\t'佐賀県': '佐賀',\n",
    "\t'長崎県': '長崎',\n",
    "\t'熊本県': '熊本',\n",
    "\t'大分県': '大分',\n",
    "\t'宮崎県': '宮崎',\n",
    "\t'鹿児島県': '鹿児島',\n",
    "\t'沖縄県': '那覇'\n",
    "}"
   ]
  },
  {
   "cell_type": "code",
   "execution_count": 138,
   "metadata": {
    "collapsed": false
   },
   "outputs": [],
   "source": [
    "#35個の問題集を作る\n",
    "for i in range(35):\n",
    "    \n",
    "    #問題集と解答集のファイルを作る\n",
    "    quiz_file = open('capitalsquiz{}.txt'.format(i + 1),'w') #①\n",
    "    answer_key_file = open('capitalsquiz_answer{}.txt'.format(i + 1),'w') #②\n",
    "\n",
    "    #問題集のヘッダーを書く\n",
    "    quiz_file.write('名前:\\n\\n日付:\\n\\n学期:\\n\\n') #③\n",
    "    quiz_file.write((' '*20) + '都道府県庁所在地クイズ (問題番号 {})'.format(quiz_num + 1))\n",
    "    quiz_file.write('\\n\\n')\n",
    "    \n",
    "    #都道府県の順番をシャッフルする\n",
    "    prefectures = list(capitals.keys())\n",
    "    random.shuffle(prefectures)\n",
    "    \n",
    "    #47都道府県をループして、それぞれ問題を作成する\n",
    "    for j in range(len(prefectures)):\n",
    "        #正解と誤答を取得する\n",
    "        correct_answer = capitals[prefectures[j]] #⑤\n",
    "        wrong_answers = list(capitals.values()) #⑥\n",
    "        del wrong_answers[wrong_answers.index(correct_answer)] #⑦\n",
    "        wrong_answers = random.sample(wrong_answers,3) #⑧\n",
    "        answer_options = wrong_answers + [correct_answer] #⑨\n",
    "        random.shuffle(answer_options) #⑩\n",
    "        \n",
    "    #問題文と解答選択肢を問題ファイルに書く\n",
    "    quiz_file.write('{}.{}の都道府県所在地は?\\n'.format(j + 1, prefectures[j]))\n",
    "    \n",
    "    for k in range(4): #⑪\n",
    "        quiz_file.write('{}.{}\\n'.format('ABCD'[k],answer_options[k])) #⑫\n",
    "        \n",
    "    quiz_file.write('\\n')\n",
    "    \n",
    "    #答えの選択肢をファイルに書く\n",
    "    answer_key_file.write('{}.{}\\n'.format(j + 1,'ABCD'[answer_options.index(correct_answer)]))#⑬\n",
    "        \n",
    "quiz_file.close()\n",
    "answer_key_file.close()"
   ]
  },
  {
   "cell_type": "raw",
   "metadata": {},
   "source": [
    "①②書き込みモードのファイルが作られた\n",
    "③write()メソッドで生徒が記入する問題集のヘッダーを作成\n",
    "④random.shuffle()関数でランダムに並び替えた都道府県リストを作成\n",
    "\n",
    "⑤シャッフルされた都道府県リストをprefectures[0]からprefectures[46]まで繰り返し、\n",
    "各都道府県ごとに都道府県県庁所在地をcorrect_answerに保存。正解は辞書capitalsの値として記載されてる。\n",
    "\n",
    "⑥辞書capitalsの全てを複製、⑦で正解を削除、\n",
    "⑧でランダムに３つ選ぶ.sample(wrong_answers,3)第１引数に選択元のリストを指定し、第２引数に選択数を指定。\n",
    "⑨で３つの誤答と正解をまとめて選択肢リストとする。\n",
    "⑩でシャッフルする\n",
    "\n",
    "⑪のforループで、answer_optionsリストの選択肢を0~3まで順番に表示\n",
    "⑫の'ABCD'[k]という式は、'ABCD'を文字列とみなし、順番に'A'~'D'という値になる。\n",
    "\n",
    "⑬でanswer_options.index(correct_answer)は、正解の選択記号A~Dになる。"
   ]
  }
 ],
 "metadata": {
  "kernelspec": {
   "display_name": "Python 3",
   "language": "python",
   "name": "python3"
  },
  "language_info": {
   "codemirror_mode": {
    "name": "ipython",
    "version": 3
   },
   "file_extension": ".py",
   "mimetype": "text/x-python",
   "name": "python",
   "nbconvert_exporter": "python",
   "pygments_lexer": "ipython3",
   "version": "3.6.0"
  }
 },
 "nbformat": 4,
 "nbformat_minor": 2
}
