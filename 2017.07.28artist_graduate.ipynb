{
 "cells": [
  {
   "cell_type": "code",
   "execution_count": 33,
   "metadata": {
    "collapsed": false
   },
   "outputs": [
    {
     "name": "stdout",
     "output_type": "stream",
     "text": [
      "Canada:2\n",
      "U.S.A:7\n",
      "UK:3\n"
     ]
    }
   ],
   "source": [
    "graduate = {}\n",
    "\n",
    "with open('artists.txt',encoding='utf-8')as f:\n",
    "    for row in f:\n",
    "        kuni = row.rstrip().split(',')       \n",
    "        name = kuni[0]\n",
    "        country = kuni[1]\n",
    "\n",
    "        if country in graduate.keys(): #もしgraduate.keyのなかにcountryがあったら+=1する\n",
    "            graduate[country] += 1\n",
    "        else:\n",
    "            graduate[country] = 1      #無かったら初期値１が作られる\n",
    "\n",
    "#print(graduate)\n",
    "for kuni_name,count in graduate.items():\n",
    "    print(kuni_name + ':' + str(count))\n",
    "    "
   ]
  },
  {
   "cell_type": "code",
   "execution_count": 4,
   "metadata": {
    "collapsed": false
   },
   "outputs": [
    {
     "data": {
      "text/plain": [
       "'/Users/motaimigiwa/python/til'"
      ]
     },
     "execution_count": 4,
     "metadata": {},
     "output_type": "execute_result"
    }
   ],
   "source": [
    "import os\n",
    "os.getcwd()"
   ]
  },
  {
   "cell_type": "code",
   "execution_count": 9,
   "metadata": {
    "collapsed": false
   },
   "outputs": [
    {
     "ename": "NameError",
     "evalue": "name 'value' is not defined",
     "output_type": "error",
     "traceback": [
      "\u001b[0;31m---------------------------------------------------------------------------\u001b[0m",
      "\u001b[0;31mNameError\u001b[0m                                 Traceback (most recent call last)",
      "\u001b[0;32m<ipython-input-9-672dc88de5d8>\u001b[0m in \u001b[0;36m<module>\u001b[0;34m()\u001b[0m\n\u001b[1;32m      1\u001b[0m \u001b[0;34m{\u001b[0m\u001b[0;34m}\u001b[0m\u001b[0;34m\u001b[0m\u001b[0m\n\u001b[0;32m----> 2\u001b[0;31m \u001b[0mkey\u001b[0m\u001b[0;34m:\u001b[0m\u001b[0mvalue\u001b[0m\u001b[0;34m\u001b[0m\u001b[0m\n\u001b[0m",
      "\u001b[0;31mNameError\u001b[0m: name 'value' is not defined"
     ]
    }
   ],
   "source": [
    "{}\n",
    "key:value"
   ]
  },
  {
   "cell_type": "code",
   "execution_count": 7,
   "metadata": {
    "collapsed": false
   },
   "outputs": [
    {
     "data": {
      "text/plain": [
       "dict_items([('Canada', 2), ('U.S.A', 7), ('UK', 3)])"
      ]
     },
     "execution_count": 7,
     "metadata": {},
     "output_type": "execute_result"
    }
   ],
   "source": [
    "graduate.items()"
   ]
  },
  {
   "cell_type": "code",
   "execution_count": 10,
   "metadata": {
    "collapsed": false
   },
   "outputs": [
    {
     "data": {
      "text/plain": [
       "dict_keys(['Canada', 'U.S.A', 'UK'])"
      ]
     },
     "execution_count": 10,
     "metadata": {},
     "output_type": "execute_result"
    }
   ],
   "source": [
    "graduate.keys()"
   ]
  },
  {
   "cell_type": "code",
   "execution_count": 13,
   "metadata": {
    "collapsed": false
   },
   "outputs": [
    {
     "ename": "AttributeError",
     "evalue": "'dict' object has no attribute 'rstrip'",
     "output_type": "error",
     "traceback": [
      "\u001b[0;31m---------------------------------------------------------------------------\u001b[0m",
      "\u001b[0;31mAttributeError\u001b[0m                            Traceback (most recent call last)",
      "\u001b[0;32m<ipython-input-13-9046ae5faa09>\u001b[0m in \u001b[0;36m<module>\u001b[0;34m()\u001b[0m\n\u001b[0;32m----> 1\u001b[0;31m \u001b[0mgraduate\u001b[0m\u001b[0;34m.\u001b[0m\u001b[0mrstrip\u001b[0m\u001b[0;34m(\u001b[0m\u001b[0;34m)\u001b[0m\u001b[0;34m\u001b[0m\u001b[0m\n\u001b[0m",
      "\u001b[0;31mAttributeError\u001b[0m: 'dict' object has no attribute 'rstrip'"
     ]
    }
   ],
   "source": [
    "graduate.rstrip()"
   ]
  },
  {
   "cell_type": "code",
   "execution_count": 24,
   "metadata": {
    "collapsed": false
   },
   "outputs": [
    {
     "name": "stdout",
     "output_type": "stream",
     "text": [
      "<_io.TextIOWrapper name='player.txt' mode='r' encoding='utf-8'>\n"
     ]
    }
   ],
   "source": [
    "with open('player.txt',encoding='utf-8')as f:\n",
    "    for row in f"
   ]
  },
  {
   "cell_type": "code",
   "execution_count": null,
   "metadata": {
    "collapsed": true
   },
   "outputs": [],
   "source": [
    "graduate = {}\n",
    "\n",
    "with open('artists.txt',encoding='utf-8')as f:\n",
    "    for row in f:\n",
    "        kuni = row.rstrip().split(',')       \n",
    "        #name = kuni[0]\n",
    "        country = kuni[1]\n",
    "\n",
    "        if country in graduate.keys(): #もしgraduate.keyのなかにcountryがあったら+=1する\n",
    "            graduate[country] += 1\n",
    "        else:\n",
    "            graduate[country] = 1      #無かったら初期値１が作られる\n",
    "\n",
    "#print(graduate)\n",
    "for kuni_name,count in graduate.items():\n",
    "    print(kuni_name + ':' + str(count))\n",
    "    "
   ]
  },
  {
   "cell_type": "code",
   "execution_count": 27,
   "metadata": {
    "collapsed": false
   },
   "outputs": [
    {
     "name": "stdout",
     "output_type": "stream",
     "text": [
      "1\n",
      "2\n",
      "3\n",
      "4\n",
      "5\n",
      "6\n",
      "7\n",
      "8\n",
      "9\n",
      "10\n"
     ]
    }
   ],
   "source": [
    "#1,2,3,...,10を表示するプログラムを書いてください\n",
    "\n",
    "num = 0\n",
    "while num < 10:\n",
    "    num += 1\n",
    "    print(num)"
   ]
  },
  {
   "cell_type": "code",
   "execution_count": 35,
   "metadata": {
    "collapsed": false
   },
   "outputs": [
    {
     "name": "stdout",
     "output_type": "stream",
     "text": [
      "Canada:2\n",
      "U.S.A:7\n",
      "UK:3\n"
     ]
    }
   ],
   "source": [
    "graduate = {}\n",
    "\n",
    "with open('artists.txt',encoding='utf-8')as f:\n",
    "    for row in f:\n",
    "        kuni = row.rstrip().split(',')       \n",
    "        name = kuni[0]\n",
    "        \n",
    "\n",
    "        if kuni[1] in graduate.keys(): #もしgraduate.keyのなかにcountryがあったら+=1する\n",
    "            graduate[kuni[1]] += 1\n",
    "        else:\n",
    "            graduate[kuni[1]] = 1      #無かったら初期値１が作られる\n",
    "\n",
    "#print(graduate)\n",
    "for kuni_name,count in graduate.items():\n",
    "    print(kuni_name + ':' + str(count))\n",
    "    "
   ]
  },
  {
   "cell_type": "code",
   "execution_count": null,
   "metadata": {
    "collapsed": true
   },
   "outputs": [],
   "source": []
  }
 ],
 "metadata": {
  "kernelspec": {
   "display_name": "Python 3",
   "language": "python",
   "name": "python3"
  },
  "language_info": {
   "codemirror_mode": {
    "name": "ipython",
    "version": 3
   },
   "file_extension": ".py",
   "mimetype": "text/x-python",
   "name": "python",
   "nbconvert_exporter": "python",
   "pygments_lexer": "ipython3",
   "version": "3.6.0"
  }
 },
 "nbformat": 4,
 "nbformat_minor": 2
}
