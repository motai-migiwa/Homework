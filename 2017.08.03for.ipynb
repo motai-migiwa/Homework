{
 "cells": [
  {
   "cell_type": "code",
   "execution_count": 5,
   "metadata": {
    "collapsed": false
   },
   "outputs": [
    {
     "name": "stdout",
     "output_type": "stream",
     "text": [
      "R&Bは2曲です。popは1曲です。\n"
     ]
    }
   ],
   "source": [
    "L = {'Marry You':'R&B','BURNITUP!':'pop','The Lasy Song':'R&B'}\n",
    "\n",
    "RB_count = 0\n",
    "pop_count = 0\n",
    "\n",
    "for i in L.keys():\n",
    "    if L[i] == 'R&B':\n",
    "        RB_count += 1\n",
    "    elif L[i] == 'pop':\n",
    "        pop_count += 1\n",
    "print('R&Bは{}曲です。popは{}曲です。'.format(RB_count,pop_count))"
   ]
  },
  {
   "cell_type": "code",
   "execution_count": 6,
   "metadata": {
    "collapsed": false
   },
   "outputs": [
    {
     "name": "stdout",
     "output_type": "stream",
     "text": [
      "Marry You R&B\n",
      "BURNITUP! pop\n",
      "The Lasy Song R&B\n"
     ]
    }
   ],
   "source": [
    "L = {'Marry You':'R&B','BURNITUP!':'pop','The Lasy Song':'R&B'}\n",
    "\n",
    "for title,name in L.items():\n",
    "    print(title,name)"
   ]
  },
  {
   "cell_type": "code",
   "execution_count": 12,
   "metadata": {
    "collapsed": false
   },
   "outputs": [
    {
     "name": "stdout",
     "output_type": "stream",
     "text": [
      "53\n"
     ]
    }
   ],
   "source": [
    "#2.リストLと二つの数l,rが与えられて、Lのl番目からr番目までの要素の合計を返す関数cumsum(L, l, r)を定義してください\n",
    "\n",
    "def cumsum(L,l,r):\n",
    "    total = 0\n",
    "    for i in range(l-1,r):\n",
    "        total += L[i]\n",
    "        return total\n",
    "print(cumsum([24,53,44,62,71],2,4))"
   ]
  },
  {
   "cell_type": "code",
   "execution_count": null,
   "metadata": {
    "collapsed": true
   },
   "outputs": [],
   "source": []
  }
 ],
 "metadata": {
  "kernelspec": {
   "display_name": "Python 3",
   "language": "python",
   "name": "python3"
  },
  "language_info": {
   "codemirror_mode": {
    "name": "ipython",
    "version": 3
   },
   "file_extension": ".py",
   "mimetype": "text/x-python",
   "name": "python",
   "nbconvert_exporter": "python",
   "pygments_lexer": "ipython3",
   "version": "3.6.0"
  }
 },
 "nbformat": 4,
 "nbformat_minor": 2
}
