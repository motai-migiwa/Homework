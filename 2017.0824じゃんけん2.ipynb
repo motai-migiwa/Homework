{
 "cells": [
  {
   "cell_type": "code",
   "execution_count": 3,
   "metadata": {
    "collapsed": false
   },
   "outputs": [
    {
     "name": "stdout",
     "output_type": "stream",
     "text": [
      "名前を入力してください\n",
      "出す手の番号を入力してください0グー,1チョキ,2パー :１\n",
      "ゲストはチョキを出しました\n",
      "コンピューターはチョキを出しました\n",
      "結果はあいこでした\n"
     ]
    }
   ],
   "source": [
    "#validate検証\n",
    "#出す手の番号を入力してください0グー,1チョキ,2パー :\n",
    "#result結果\n",
    "\n",
    "import random\n",
    "\n",
    "def validate(hand):\n",
    "    if hand < 0 and hand > 2:\n",
    "        return False\n",
    "    else:\n",
    "        return True\n",
    "\n",
    "def jyanken(hand,name='ゲスト'):\n",
    "    hands = ['グー','チョキ','パー']\n",
    "    print(name + 'は' + hands[hand] + 'を出しました')\n",
    "    \n",
    "    \n",
    "player_name = input('名前を入力してください')\n",
    "player_hand = int(input('出す手の番号を入力してください0グー,1チョキ,2パー :'))\n",
    "    \n",
    "def result(player_hand):\n",
    "    computer_hand = random.randint(0,2)\n",
    "    jyanken(computer_hand,name='コンピューター')\n",
    "    \n",
    "    #computer_handが'グー'(0)だった時\n",
    "    if computer_hand == 0:\n",
    "        if player_hand == 0:\n",
    "            return'あいこ'\n",
    "        elif player_hand == 1:\n",
    "            return'負け'\n",
    "        else:\n",
    "            return'勝ち'\n",
    "    \n",
    "    #computer_handが'チョキ'(1)だった時\n",
    "    elif computer_hand == 1:\n",
    "        if player_hand == 0:\n",
    "            return'勝ち'\n",
    "        elif player_hand == 1:\n",
    "            return'あいこ'\n",
    "        else:\n",
    "            return'負け'\n",
    "    \n",
    "    #computer_handが'パー'(2)だった時\n",
    "    else:\n",
    "        if player_hand == 0:\n",
    "            return'負け'\n",
    "        elif player_hand == 1:\n",
    "            return'勝ち'\n",
    "        else:\n",
    "            return'あいこ'\n",
    "        \n",
    "if validate(player_hand):\n",
    "    if player_name == '':\n",
    "        jyanken(player_hand)\n",
    "\n",
    "    else:\n",
    "        jyanken(player_hand,player_name)\n",
    "        \n",
    "    \n",
    "    print('結果は' + result(player_hand) + 'でした')\n",
    "\n",
    "else:\n",
    "    ('正しい番号を入力してください')"
   ]
  },
  {
   "cell_type": "code",
   "execution_count": null,
   "metadata": {
    "collapsed": true
   },
   "outputs": [],
   "source": [
    "# ifの後ろはFalseかTrueが入れば比較演算子を使わなくて良い"
   ]
  },
  {
   "cell_type": "code",
   "execution_count": null,
   "metadata": {
    "collapsed": true
   },
   "outputs": [],
   "source": [
    "#関数(def)の中の、returnは実行結果、printはただの表示\n",
    "#一回returnを通ったらそこで関数終わり"
   ]
  }
 ],
 "metadata": {
  "kernelspec": {
   "display_name": "Python 3",
   "language": "python",
   "name": "python3"
  },
  "language_info": {
   "codemirror_mode": {
    "name": "ipython",
    "version": 3
   },
   "file_extension": ".py",
   "mimetype": "text/x-python",
   "name": "python",
   "nbconvert_exporter": "python",
   "pygments_lexer": "ipython3",
   "version": "3.6.0"
  }
 },
 "nbformat": 4,
 "nbformat_minor": 2
}
