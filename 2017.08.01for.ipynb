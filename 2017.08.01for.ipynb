{
 "cells": [
  {
   "cell_type": "code",
   "execution_count": 5,
   "metadata": {
    "collapsed": false
   },
   "outputs": [
    {
     "name": "stdout",
     "output_type": "stream",
     "text": [
      "230\n"
     ]
    }
   ],
   "source": [
    "x = [24,36,99,61,34,23,98]\n",
    "total = 0\n",
    "# このリストの3から6番目のごうけいをforをつかってもとめる\n",
    "for i in range(1,5):\n",
    "    total += x[i]\n",
    "print(total)"
   ]
  },
  {
   "cell_type": "code",
   "execution_count": 17,
   "metadata": {
    "collapsed": false
   },
   "outputs": [
    {
     "name": "stdout",
     "output_type": "stream",
     "text": [
      "123\n"
     ]
    }
   ],
   "source": [
    "#2.リストLと二つの数l,rが与えられて、Lのl番目からr番目までの要素の合計を返す関数cumsum(L, l, r)を定義してください\n",
    "\n",
    "def cumsum(L,l,r):\n",
    "    total = 0\n",
    "    for i in range(l-1,r):\n",
    "        total += L[i]\n",
    "    return total\n",
    "print(cumsum([34,56,22,45,11,90],2,4))"
   ]
  },
  {
   "cell_type": "code",
   "execution_count": null,
   "metadata": {
    "collapsed": true
   },
   "outputs": [],
   "source": [
    "#returnが出てきたら終わり"
   ]
  },
  {
   "cell_type": "code",
   "execution_count": 38,
   "metadata": {
    "collapsed": false
   },
   "outputs": [],
   "source": [
    "L = {'miggy':'女', 'kazuki':'女', 'onoyu':'男'}\n",
    "man_count = 0\n",
    "woman_count = 0\n",
    "\n",
    "for i in L.keys():\n",
    "    if L[i]=='女':\n",
    "        woman_count += 1\n",
    "    elif L[i]=='男':\n",
    "        man_count += 1\n",
    "        "
   ]
  },
  {
   "cell_type": "code",
   "execution_count": 39,
   "metadata": {
    "collapsed": false
   },
   "outputs": [
    {
     "name": "stdout",
     "output_type": "stream",
     "text": [
      "1\n",
      "2\n"
     ]
    }
   ],
   "source": [
    "print(man_count)\n",
    "print(woman_count)"
   ]
  },
  {
   "cell_type": "code",
   "execution_count": 41,
   "metadata": {
    "collapsed": false
   },
   "outputs": [
    {
     "name": "stdout",
     "output_type": "stream",
     "text": [
      "女が多い\n"
     ]
    }
   ],
   "source": [
    "if man_count > woman_count:\n",
    "    print('男が多い')\n",
    "elif woman_count > man_count:\n",
    "    print('女が多い')\n",
    "else:\n",
    "    print('同じ')"
   ]
  },
  {
   "cell_type": "code",
   "execution_count": null,
   "metadata": {
    "collapsed": true
   },
   "outputs": [],
   "source": []
  }
 ],
 "metadata": {
  "kernelspec": {
   "display_name": "Python 3",
   "language": "python",
   "name": "python3"
  },
  "language_info": {
   "codemirror_mode": {
    "name": "ipython",
    "version": 3
   },
   "file_extension": ".py",
   "mimetype": "text/x-python",
   "name": "python",
   "nbconvert_exporter": "python",
   "pygments_lexer": "ipython3",
   "version": "3.6.0"
  }
 },
 "nbformat": 4,
 "nbformat_minor": 2
}
