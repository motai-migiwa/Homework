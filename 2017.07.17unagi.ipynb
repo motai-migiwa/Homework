{
 "cells": [
  {
   "cell_type": "code",
   "execution_count": 5,
   "metadata": {
    "collapsed": false
   },
   "outputs": [
    {
     "name": "stdout",
     "output_type": "stream",
     "text": [
      "購入するうなぎの個数を入力してください：4\n",
      "unagi990\n",
      "unagi990\n",
      "unagi990\n",
      "unagi990\n",
      "3960\n"
     ]
    }
   ],
   "source": [
    "unagi = 0\n",
    "price = 990\n",
    "total_price = 0\n",
    "\n",
    "N = input('購入するうなぎの個数を入力してください：')\n",
    "\n",
    "while unagi <int(N):\n",
    "    unagi += 1\n",
    "    total_price += price\n",
    "    print('unagi'+ str(price))\n",
    "print(total_price)"
   ]
  },
  {
   "cell_type": "code",
   "execution_count": null,
   "metadata": {
    "collapsed": true
   },
   "outputs": [],
   "source": []
  }
 ],
 "metadata": {
  "kernelspec": {
   "display_name": "Python 3",
   "language": "python",
   "name": "python3"
  },
  "language_info": {
   "codemirror_mode": {
    "name": "ipython",
    "version": 3
   },
   "file_extension": ".py",
   "mimetype": "text/x-python",
   "name": "python",
   "nbconvert_exporter": "python",
   "pygments_lexer": "ipython3",
   "version": "3.6.0"
  }
 },
 "nbformat": 4,
 "nbformat_minor": 2
}
