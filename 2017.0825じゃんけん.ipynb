{
 "cells": [
  {
   "cell_type": "code",
   "execution_count": 10,
   "metadata": {
    "collapsed": false
   },
   "outputs": [
    {
     "name": "stdout",
     "output_type": "stream",
     "text": [
      "名前を入力してください\n",
      "出す手の番号を入力してください。0グー、1チョキ,2パー,　1\n",
      "ゲストはチョキを出しました\n",
      "コンピューターはパーを出しました\n",
      "結果は勝ちです。\n"
     ]
    }
   ],
   "source": [
    "#validate検証\n",
    "#result結果\n",
    "\n",
    "import random\n",
    "\n",
    "def validate(hand):\n",
    "    if hand < 0 and hand > 2:\n",
    "        return False\n",
    "    else:\n",
    "        return True\n",
    "\n",
    "def jyanken(hand,name='ゲスト'):\n",
    "    hands = ['グー','チョキ','パー']\n",
    "    print(name + 'は' + hands[hand] + 'を出しました')\n",
    "    \n",
    "player_name = input('名前を入力してください')\n",
    "player_hand = int(input('出す手の番号を入力してください。0グー、1チョキ,2パー,　'))\n",
    "\n",
    "\n",
    "def result(player_hand):\n",
    "    computer_hand = random.randint(0,2)\n",
    "    jyanken(computer_hand,'コンピューター')\n",
    "    \n",
    "    #グー(0)だったとき\n",
    "    if player_hand == 0:\n",
    "        if computer_hand == 0:\n",
    "            return 'あいこ'\n",
    "        if computer_hand == 1:\n",
    "            return '勝ち'\n",
    "        else:\n",
    "            return '負け'\n",
    "        \n",
    "    #チョキ(1)だったとき\n",
    "    if player_hand == 1:\n",
    "        if computer_hand == 0:\n",
    "            return '負け'\n",
    "        if computer_hand == 1:\n",
    "            return 'あいこ'\n",
    "        else:\n",
    "            return '勝ち'\n",
    "        \n",
    "    #パー(2)だったとき\n",
    "    if player_hand == 2:\n",
    "        if computer_hand == 0:\n",
    "            return '勝ち'\n",
    "        if computer_hand == 1:\n",
    "            return '負け'\n",
    "        else:\n",
    "            return 'あいこ'\n",
    "            \n",
    "if validate(player_hand):\n",
    "    if player_name == '':\n",
    "        jyanken(player_hand)\n",
    "    \n",
    "    else:\n",
    "        jyanken(player_hand,player_name)\n",
    "    \n",
    "\n",
    "    print('結果は' + result(player_hand) + 'です。')\n",
    "    \n",
    "else:\n",
    "    print('正しい番号を入力してください')"
   ]
  },
  {
   "cell_type": "code",
   "execution_count": 23,
   "metadata": {
    "collapsed": false
   },
   "outputs": [
    {
     "name": "stdout",
     "output_type": "stream",
     "text": [
      "西暦何年？2004\n",
      "2004はうるう年です。\n"
     ]
    }
   ],
   "source": [
    "year = int(input('西暦何年？'))\n",
    "\n",
    "def leap_year(year):\n",
    "    \n",
    "    if year % 400 == 0:\n",
    "        return 'うるう年'\n",
    "\n",
    "    elif year % 100 == 0:\n",
    "        return 'うるう年じゃない'\n",
    "\n",
    "    elif year % 4 == 0:\n",
    "        return 'うるう年'\n",
    "\n",
    "    else:\n",
    "        return 'うるう年じゃない'\n",
    "               \n",
    "print( str(year) + 'は' + leap_year(year) + 'です。')"
   ]
  },
  {
   "cell_type": "code",
   "execution_count": 38,
   "metadata": {
    "collapsed": false
   },
   "outputs": [],
   "source": [
    "#i = int(input('数字を入力してください'))\n",
    "\n",
    "def game():\n",
    "    \n",
    "    for i in range(1,21):\n",
    "        \n",
    "        if i % 15 == 0:\n",
    "            print ('FizzBazz')\n",
    "    \n",
    "        elif i % 5 == 0:\n",
    "            print ('Bazz')\n",
    "    \n",
    "        elif i % 3 == 0:\n",
    "            print ('Fizz')\n",
    "    \n",
    "        else:\n",
    "            print (i)"
   ]
  },
  {
   "cell_type": "code",
   "execution_count": 39,
   "metadata": {
    "collapsed": false
   },
   "outputs": [
    {
     "name": "stdout",
     "output_type": "stream",
     "text": [
      "1\n",
      "2\n",
      "Fizz\n",
      "4\n",
      "Bazz\n",
      "Fizz\n",
      "7\n",
      "8\n",
      "Fizz\n",
      "Bazz\n",
      "11\n",
      "Fizz\n",
      "13\n",
      "14\n",
      "FizzBazz\n",
      "16\n",
      "17\n",
      "Fizz\n",
      "19\n",
      "Bazz\n"
     ]
    }
   ],
   "source": [
    "game()"
   ]
  },
  {
   "cell_type": "code",
   "execution_count": null,
   "metadata": {
    "collapsed": true
   },
   "outputs": [],
   "source": []
  }
 ],
 "metadata": {
  "kernelspec": {
   "display_name": "Python 3",
   "language": "python",
   "name": "python3"
  },
  "language_info": {
   "codemirror_mode": {
    "name": "ipython",
    "version": 3
   },
   "file_extension": ".py",
   "mimetype": "text/x-python",
   "name": "python",
   "nbconvert_exporter": "python",
   "pygments_lexer": "ipython3",
   "version": "3.6.0"
  }
 },
 "nbformat": 4,
 "nbformat_minor": 2
}
