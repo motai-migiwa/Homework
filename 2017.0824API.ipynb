{
 "cells": [
  {
   "cell_type": "code",
   "execution_count": null,
   "metadata": {
    "collapsed": true
   },
   "outputs": [],
   "source": [
    "#requestsはURLを受け取ってそのURLにあるファイルをダウンロードして取ってくるモジュール\n",
    "import requests\n",
    "\n",
    "\n",
    "api_url = 'http://weather.livedoor.com/forecast/webservice/json/v1?city=460010'\n",
    "\n",
    "#requests.get(api_url)実際に取ってくるのは.get関数\n",
    "weather_raw =  requests.get(api_url)\n",
    "\n",
    "#weather_rawに.json()を使うと、jsonという形に変換されたデータを返してくれる\n",
    "weather = weather_raw.json()\n",
    "print(weather['title'])\n",
    "print(weather['description']['text'])\n",
    "\n",
    "weather_raw.close()"
   ]
  }
 ],
 "metadata": {
  "kernelspec": {
   "display_name": "Python 3",
   "language": "python",
   "name": "python3"
  },
  "language_info": {
   "codemirror_mode": {
    "name": "ipython",
    "version": 3
   },
   "file_extension": ".py",
   "mimetype": "text/x-python",
   "name": "python",
   "nbconvert_exporter": "python",
   "pygments_lexer": "ipython3",
   "version": "3.6.0"
  }
 },
 "nbformat": 4,
 "nbformat_minor": 2
}
