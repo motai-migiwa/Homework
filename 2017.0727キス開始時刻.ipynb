{
 "cells": [
  {
   "cell_type": "code",
   "execution_count": null,
   "metadata": {
    "collapsed": true
   },
   "outputs": [],
   "source": [
    "おのゆうはすずちゃんのことが好きで、今日はおのゆうとすずちゃんの初デートです。\n",
    "デートの待ち合わせが、24 時間表記 (0:00〜23:59) で A 時と入力した場合、\n",
    "キスする時刻を B 時間後と入力した時の\n",
    "キス開始時刻を 24 時間表記で出力しましょう。\n",
    "\n",
    "制約\n",
    "0≦A,B≦23\n",
    "A,B は整数である。"
   ]
  },
  {
   "cell_type": "code",
   "execution_count": null,
   "metadata": {
    "collapsed": true
   },
   "outputs": [],
   "source": []
  },
  {
   "cell_type": "code",
   "execution_count": 1,
   "metadata": {
    "collapsed": false
   },
   "outputs": [
    {
     "name": "stdout",
     "output_type": "stream",
     "text": [
      "24 2\n",
      "2\n"
     ]
    }
   ],
   "source": [
    "\n",
    "a,b = input().split(' ')\n",
    "\n",
    "zikoku = int(a)+int(b)\n",
    "\n",
    "if zikoku >= 24:\n",
    "    print(zikoku-24)\n",
    "    \n",
    "else:\n",
    "    print(zikoku)"
   ]
  },
  {
   "cell_type": "code",
   "execution_count": 9,
   "metadata": {
    "collapsed": false
   },
   "outputs": [
    {
     "name": "stdout",
     "output_type": "stream",
     "text": [
      "14 3\n",
      "17\n"
     ]
    }
   ],
   "source": [
    "a,b = input().split(' ')\n",
    "zikoku = int(a)+int(b)\n",
    "\n",
    "if zikoku >= 24:\n",
    "    print(zikoku-24)\n",
    "\n",
    "else:\n",
    "    print(zikoku)"
   ]
  },
  {
   "cell_type": "code",
   "execution_count": null,
   "metadata": {
    "collapsed": true
   },
   "outputs": [],
   "source": []
  }
 ],
 "metadata": {
  "kernelspec": {
   "display_name": "Python 3",
   "language": "python",
   "name": "python3"
  },
  "language_info": {
   "codemirror_mode": {
    "name": "ipython",
    "version": 3
   },
   "file_extension": ".py",
   "mimetype": "text/x-python",
   "name": "python",
   "nbconvert_exporter": "python",
   "pygments_lexer": "ipython3",
   "version": "3.6.0"
  }
 },
 "nbformat": 4,
 "nbformat_minor": 2
}
