{
 "cells": [
  {
   "cell_type": "code",
   "execution_count": 1,
   "metadata": {
    "collapsed": true
   },
   "outputs": [],
   "source": [
    "#ダイアログを表示するために必要なモジュール\n",
    "import tkinter.messagebox as mb\n",
    "\n",
    "#ダイアログを表示\n",
    "ans = mb.askyesno(\"質問\",\"おのゆうが好きですか？\")\n",
    "if ans == True:\n",
    "    #OKボタンがあるだけのダイアログを表示\n",
    "    mb.showinfo(\"はい\",\"もちろんです。\")\n",
    "else:\n",
    "    mb.showinfo(\"すきじゃない\",\"まだ彼の魅力に気づいてないんですね\")"
   ]
  },
  {
   "cell_type": "code",
   "execution_count": null,
   "metadata": {
    "collapsed": true
   },
   "outputs": [],
   "source": []
  },
  {
   "cell_type": "code",
   "execution_count": null,
   "metadata": {
    "collapsed": true
   },
   "outputs": [],
   "source": []
  }
 ],
 "metadata": {
  "kernelspec": {
   "display_name": "Python 3",
   "language": "python",
   "name": "python3"
  },
  "language_info": {
   "codemirror_mode": {
    "name": "ipython",
    "version": 3
   },
   "file_extension": ".py",
   "mimetype": "text/x-python",
   "name": "python",
   "nbconvert_exporter": "python",
   "pygments_lexer": "ipython3",
   "version": "3.6.0"
  }
 },
 "nbformat": 4,
 "nbformat_minor": 2
}
