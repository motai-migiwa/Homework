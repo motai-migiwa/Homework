{
 "cells": [
  {
   "cell_type": "code",
   "execution_count": 2,
   "metadata": {
    "collapsed": true
   },
   "outputs": [],
   "source": [
    "#shell utilitiesモジュール\n",
    "#pythonプログラムからファイルをコピー、移動、名前変更、削除するための関数がある\n",
    "\n",
    "import shutil"
   ]
  },
  {
   "cell_type": "code",
   "execution_count": 3,
   "metadata": {
    "collapsed": false
   },
   "outputs": [
    {
     "data": {
      "text/plain": [
       "'/Users/motaimigiwa/python/Homework/退屈なことはpythonに/python36'"
      ]
     },
     "execution_count": 3,
     "metadata": {},
     "output_type": "execute_result"
    }
   ],
   "source": [
    "import os\n",
    "os.getcwd()"
   ]
  },
  {
   "cell_type": "code",
   "execution_count": 4,
   "metadata": {
    "collapsed": false
   },
   "outputs": [
    {
     "data": {
      "text/plain": [
       "'/Users/motaimigiwa/python/Homework/退屈なことはpythonに/python36'"
      ]
     },
     "execution_count": 4,
     "metadata": {},
     "output_type": "execute_result"
    }
   ],
   "source": [
    "'''\n",
    "os.chdir('/Users/motaimigiwa/python/Homework/退屈なことはpythonに/python34')\n",
    "os.getcwd()\n",
    "'''\n",
    "\n",
    "os.chdir('/Users/motaimigiwa/python/Homework/退屈なことはpythonに/python36')\n",
    "os.getcwd()"
   ]
  },
  {
   "cell_type": "code",
   "execution_count": 5,
   "metadata": {
    "collapsed": false
   },
   "outputs": [],
   "source": [
    "#os.path.join('/Users/motaimigiwa/python/Homework/退屈なことはpythonに/python36','spam.txt')"
   ]
  },
  {
   "cell_type": "code",
   "execution_count": 6,
   "metadata": {
    "collapsed": false
   },
   "outputs": [
    {
     "data": {
      "text/plain": [
       "'delicious/spam.txt'"
      ]
     },
     "execution_count": 6,
     "metadata": {},
     "output_type": "execute_result"
    }
   ],
   "source": [
    "#shutil.copy('コピーしたいファイル名のパス','コピー先のフォルダのパス')\n",
    "\n",
    "shutil.copy('spam.txt','delicious')"
   ]
  },
  {
   "cell_type": "code",
   "execution_count": 8,
   "metadata": {
    "collapsed": false
   },
   "outputs": [
    {
     "data": {
      "text/plain": [
       "'delicious/spam.txt'"
      ]
     },
     "execution_count": 8,
     "metadata": {},
     "output_type": "execute_result"
    }
   ],
   "source": [
    "shutil.copy('/Users/motaimigiwa/Desktop/spam.txt','delicious')"
   ]
  },
  {
   "cell_type": "code",
   "execution_count": null,
   "metadata": {
    "collapsed": true
   },
   "outputs": [],
   "source": [
    "shutil.copy(src,dst)を呼び出すと、パスsrcで指定したファイルをdstで指定したファイルにフォルダにコピーする。\n",
    "（どちらも文字列）dstがファイル名ならコピー先ファイルの新しい名前として使われる。\n",
    "この関数はコピー先のファイルのパスを文字列として返す。\n",
    "\n",
    "\n",
    "#spam.txtというファイルをdeliciousというフォルダにコピーする\n",
    "shutil.copy()\n",
    "#戻り値はコピー先のファイルのパス、コピー先がフォルダなので、元のファイル名　がコピー先のファイル名として使われる。"
   ]
  },
  {
   "cell_type": "code",
   "execution_count": 13,
   "metadata": {
    "collapsed": false
   },
   "outputs": [
    {
     "data": {
      "text/plain": [
       "'delicious/spam1.txt'"
      ]
     },
     "execution_count": 13,
     "metadata": {},
     "output_type": "execute_result"
    }
   ],
   "source": [
    "shutil.copy('delicious/spam.txt','delicious/spam1.txt')"
   ]
  },
  {
   "cell_type": "raw",
   "metadata": {
    "collapsed": true
   },
   "source": [
    "shutil.copy()がひとつのファイルをコピーするのに対し、\n",
    "shutil.copytree()はフォルダ全体をコピーする\n",
    "shutil.copytree(src,dst)は、パスsrcで指定したフォルダを、その中のファイルやサブフォルダも含めて、\n",
    "パスdstに指定したフォルダにコピーする。\n",
    "関数はコピー先のフォルダのパスを文字列で返す。"
   ]
  },
  {
   "cell_type": "code",
   "execution_count": 24,
   "metadata": {
    "collapsed": false
   },
   "outputs": [
    {
     "name": "stdout",
     "output_type": "stream",
     "text": [
      "/Users/motaimigiwa/python/Homework/退屈なことはpythonに/python36\n"
     ]
    },
    {
     "data": {
      "text/plain": [
       "'/Users/motaimigiwa/Desktop/delicious'"
      ]
     },
     "execution_count": 24,
     "metadata": {},
     "output_type": "execute_result"
    }
   ],
   "source": [
    "import shutil,os\n",
    "os.chdir('/Users/motaimigiwa/python/Homework/退屈なことはpythonに/python36')\n",
    "print(os.getcwd())\n",
    "shutil.copytree('delicious','/Users/motaimigiwa/Desktop/delicious')\n",
    "#shutil.copytree('コピーしたいフォルダ名のパス','コピー先のフォルダ名のパスとコピーしたいフォルダ名')"
   ]
  },
  {
   "cell_type": "markdown",
   "metadata": {},
   "source": [
    "# 9.1.2"
   ]
  },
  {
   "cell_type": "raw",
   "metadata": {},
   "source": [
    "shutil.move(src,dst)はsrcで示したファイルやフォルダを、dstで示したパスに移動し、移動先の絶対パスを文字列として返す。\n",
    "移動先がフォルダなら、移動先のファイル名やフォルダは、元の名前を維持する。"
   ]
  },
  {
   "cell_type": "code",
   "execution_count": 28,
   "metadata": {
    "collapsed": false
   },
   "outputs": [
    {
     "data": {
      "text/plain": [
       "'/Users/motaimigiwa/python/Homework/退屈なことはpythonに/python34/spam2.txt'"
      ]
     },
     "execution_count": 28,
     "metadata": {},
     "output_type": "execute_result"
    }
   ],
   "source": [
    "import shutil\n",
    "shutil.move('delicious/spam1.txt','/Users/motaimigiwa/python/Homework/退屈なことはpythonに/python34/spam2.txt')"
   ]
  },
  {
   "cell_type": "code",
   "execution_count": null,
   "metadata": {
    "collapsed": true
   },
   "outputs": [],
   "source": [
    "#このshutil.move()の呼び出しはdelicious/spam1.txtをpython34/spam2.txtに移動せよという意味になる。\n",
    "#もしのpython34/spam2.txt中にすでにspam.1.txtが存在していれば上書きされる。"
   ]
  },
  {
   "cell_type": "markdown",
   "metadata": {
    "collapsed": true
   },
   "source": [
    "# 9.1.3"
   ]
  },
  {
   "cell_type": "code",
   "execution_count": 32,
   "metadata": {
    "collapsed": false
   },
   "outputs": [
    {
     "ename": "NameError",
     "evalue": "name 'listdir' is not defined",
     "output_type": "error",
     "traceback": [
      "\u001b[0;31m---------------------------------------------------------------------------\u001b[0m",
      "\u001b[0;31mNameError\u001b[0m                                 Traceback (most recent call last)",
      "\u001b[0;32m<ipython-input-32-e6292d9b0e3f>\u001b[0m in \u001b[0;36m<module>\u001b[0;34m()\u001b[0m\n\u001b[1;32m      1\u001b[0m \u001b[0;32mimport\u001b[0m \u001b[0mos\u001b[0m\u001b[0;34m\u001b[0m\u001b[0m\n\u001b[0;32m----> 2\u001b[0;31m \u001b[0;32mfor\u001b[0m \u001b[0mfilename\u001b[0m \u001b[0;32min\u001b[0m \u001b[0mlistdir\u001b[0m\u001b[0;34m(\u001b[0m\u001b[0;34m)\u001b[0m\u001b[0;34m:\u001b[0m\u001b[0;34m\u001b[0m\u001b[0m\n\u001b[0m\u001b[1;32m      3\u001b[0m     \u001b[0;32mif\u001b[0m \u001b[0mfilename\u001b[0m\u001b[0;34m.\u001b[0m\u001b[0mendswith\u001b[0m\u001b[0;34m(\u001b[0m\u001b[0;34m'.rxt'\u001b[0m\u001b[0;34m)\u001b[0m\u001b[0;34m:\u001b[0m\u001b[0;34m\u001b[0m\u001b[0m\n\u001b[1;32m      4\u001b[0m         \u001b[0;31m#os.unlink(filename)\u001b[0m\u001b[0;34m\u001b[0m\u001b[0;34m\u001b[0m\u001b[0m\n\u001b[1;32m      5\u001b[0m         \u001b[0mprint\u001b[0m\u001b[0;34m(\u001b[0m\u001b[0mfilename\u001b[0m\u001b[0;34m)\u001b[0m\u001b[0;34m\u001b[0m\u001b[0m\n",
      "\u001b[0;31mNameError\u001b[0m: name 'listdir' is not defined"
     ]
    }
   ],
   "source": [
    "import os\n",
    "for filename in listdir():\n",
    "    if filename.endswith('.rxt'):\n",
    "        #os.unlink(filename)\n",
    "        print(filename)\n",
    "        \n",
    "'''\n",
    "#os.unlink(filename)をコメントアウトし、削除するファイル名を表示するようにしておく\n",
    "'''"
   ]
  },
  {
   "cell_type": "markdown",
   "metadata": {},
   "source": [
    "# 9.1.3"
   ]
  },
  {
   "cell_type": "markdown",
   "metadata": {},
   "source": [
    "#### ・os.unlink(path)は、pathに指定したファイルを削除する\n",
    "\n",
    "#### ・os.rmdir(path)は、pathに指定したフォルダを削除する。フォルダは空でなければならない。\n",
    "\n",
    "#### ・shutil.rmtree(path)は、pathに指定したフォルダを削除し、その中のファイルやフォルダも削除する。"
   ]
  },
  {
   "cell_type": "code",
   "execution_count": null,
   "metadata": {
    "collapsed": true
   },
   "outputs": [],
   "source": [
    "import os \n",
    "for filename in os.listdir():\n",
    "    if filename.endswith():\n",
    "        os.unlink(filename)"
   ]
  },
  {
   "cell_type": "code",
   "execution_count": null,
   "metadata": {
    "collapsed": true
   },
   "outputs": [],
   "source": [
    "import os \n",
    "for filename in os.listdir():\n",
    "    if filename.endswith():\n",
    "        #os.unlink(filename)\n",
    "        print(filename)"
   ]
  },
  {
   "cell_type": "markdown",
   "metadata": {},
   "source": [
    "# 9.1.4"
   ]
  },
  {
   "cell_type": "markdown",
   "metadata": {},
   "source": [
    "## サードパーティーのsend2trash"
   ]
  },
  {
   "cell_type": "code",
   "execution_count": 38,
   "metadata": {
    "collapsed": false
   },
   "outputs": [
    {
     "data": {
      "text/plain": [
       "25"
      ]
     },
     "execution_count": 38,
     "metadata": {},
     "output_type": "execute_result"
    }
   ],
   "source": [
    "import send2trash\n",
    "baconFile = open('delicious/bacon.txt','a')\n",
    "baconFile.write('bacon is not a vegetable.')"
   ]
  },
  {
   "cell_type": "code",
   "execution_count": 39,
   "metadata": {
    "collapsed": false
   },
   "outputs": [
    {
     "data": {
      "text/plain": [
       "10"
      ]
     },
     "execution_count": 39,
     "metadata": {},
     "output_type": "execute_result"
    }
   ],
   "source": [
    "import send2trash\n",
    "baconFile = open('delicious/bacon.txt','a') #ファイルを作成\n",
    "baconFile.write('Bacon Umai')"
   ]
  },
  {
   "cell_type": "code",
   "execution_count": 41,
   "metadata": {
    "collapsed": false
   },
   "outputs": [],
   "source": [
    "baconFile.close()\n",
    "send2trash.send2trash('delicious/bacon.txt')"
   ]
  },
  {
   "cell_type": "raw",
   "metadata": {},
   "source": [
    "復元できるようにゴミ箱に移動するだけなので、ディスク容量を消費する。\n",
    "osやshutilモジュールの関数を使ってファイルを削除する。\n",
    "なお、send2trashはファイルをゴミ箱に移動できるだけであり、ゴミ箱から復元はできない。"
   ]
  },
  {
   "cell_type": "markdown",
   "metadata": {},
   "source": [
    "# 9.2"
   ]
  },
  {
   "cell_type": "markdown",
   "metadata": {
    "collapsed": true
   },
   "source": [
    "### ディレクトリツリーを渡り歩く"
   ]
  },
  {
   "cell_type": "raw",
   "metadata": {},
   "source": [
    "os.walk()関数は、フォルダのパスを表す文字列を１つ渡します。\n",
    "forループ分のなかでos.walk()を使えば、ディレクトリツリーの中を渡り歩くことができる。\n",
    "range()関数を使って数の範囲の中を渡り歩けるのと一緒。"
   ]
  },
  {
   "cell_type": "markdown",
   "metadata": {},
   "source": [
    "#### ・現在のフォルダ名を表す文字列\n",
    "#### ・現在のフォルダの中のサブフォルダ名を表す文字列のリスト\n",
    "#### ・現在のフォルダの中のファイル名を表す文字列のリスト"
   ]
  },
  {
   "cell_type": "raw",
   "metadata": {},
   "source": [
    "「現在のフォルダ」とはforループの中で現在の繰り返し対象になっているフォルダの意味。\n",
    "プログラムのカレントワーキングディレクトリ（作業フォルダ）は、os.walk()によって変更されない。"
   ]
  },
  {
   "cell_type": "raw",
   "metadata": {},
   "source": [
    "for i in range(10):の変数名もiのように好きなように命名できるのと同様に、\n",
    "os.walk()の返す３つの値のための変数も好きなようにつけてよい。\n",
    "例）foldername、subfolders、filenames"
   ]
  },
  {
   "cell_type": "markdown",
   "metadata": {},
   "source": [
    "### print()関数の代わりに独自のコードを呼び出すように書き換えてみよう！"
   ]
  },
  {
   "cell_type": "code",
   "execution_count": 44,
   "metadata": {
    "collapsed": false
   },
   "outputs": [
    {
     "name": "stdout",
     "output_type": "stream",
     "text": [
      "The current folder is/Users/motaimigiwa/python/Homework/退屈なことはpythonに/python36\n",
      "SUBFOLDER OF/Users/motaimigiwa/python/Homework/退屈なことはpythonに/python36:.ipynb_checkpoints\n",
      "SUBFOLDER OF/Users/motaimigiwa/python/Homework/退屈なことはpythonに/python36:delicious\n",
      "FILE INSIDE/Users/motaimigiwa/python/Homework/退屈なことはpythonに/python36:.DS_Store\n",
      "FILE INSIDE/Users/motaimigiwa/python/Homework/退屈なことはpythonに/python36:backupToZip.py\n",
      "FILE INSIDE/Users/motaimigiwa/python/Homework/退屈なことはpythonに/python36:renameDates.py\n",
      "FILE INSIDE/Users/motaimigiwa/python/Homework/退屈なことはpythonに/python36:退屈９章.ipynb\n",
      "\n",
      "The current folder is/Users/motaimigiwa/python/Homework/退屈なことはpythonに/python36/.ipynb_checkpoints\n",
      "FILE INSIDE/Users/motaimigiwa/python/Homework/退屈なことはpythonに/python36/.ipynb_checkpoints:退屈９章-checkpoint.ipynb\n",
      "\n",
      "The current folder is/Users/motaimigiwa/python/Homework/退屈なことはpythonに/python36/delicious\n",
      "FILE INSIDE/Users/motaimigiwa/python/Homework/退屈なことはpythonに/python36/delicious:.DS_Store\n",
      "FILE INSIDE/Users/motaimigiwa/python/Homework/退屈なことはpythonに/python36/delicious:spam.txt\n",
      "\n"
     ]
    }
   ],
   "source": [
    "import os\n",
    "\n",
    "for foldername,subfolders, filenames in os.walk('/Users/motaimigiwa/python/Homework/退屈なことはpythonに/python36'):\n",
    "    print('The current folder is' + foldername)\n",
    "    \n",
    "    for subfolders in subfolders:\n",
    "        print('SUBFOLDER OF' + foldername + ':' + subfolders)\n",
    "        \n",
    "    for filenames in filenames:\n",
    "        print('FILE INSIDE' + foldername + ':' + filenames)\n",
    "        \n",
    "    print('')"
   ]
  },
  {
   "cell_type": "markdown",
   "metadata": {},
   "source": [
    "# 9.2.1"
   ]
  },
  {
   "cell_type": "raw",
   "metadata": {},
   "source": [
    "zipfileモジュールを用いてファイルを圧縮する\n",
    "たくさんのファイルを圧縮しておくことができるZIPファイル"
   ]
  },
  {
   "cell_type": "markdown",
   "metadata": {},
   "source": [
    "##### 複数のファイルやフォルダを含んだファイルを\n",
    "### アーカイブフォルダという"
   ]
  },
  {
   "cell_type": "raw",
   "metadata": {},
   "source": [
    "https://github.com/oreilly-japan/automatestuff-ja"
   ]
  },
  {
   "cell_type": "markdown",
   "metadata": {},
   "source": [
    "## 9.2.2 zipファイルを読み込む"
   ]
  },
  {
   "cell_type": "raw",
   "metadata": {},
   "source": [
    "zipファイルの中身を読み込むにはZipFileオブジェクトを作る。\n",
    "「Z」と「F」は大文字。\n",
    "プログラムがファイルを操作するためのオブジェクト。"
   ]
  },
  {
   "cell_type": "code",
   "execution_count": 47,
   "metadata": {
    "collapsed": false
   },
   "outputs": [
    {
     "data": {
      "text/plain": [
       "'/Users/motaimigiwa/python/Homework/退屈なことはpythonに/python36'"
      ]
     },
     "execution_count": 47,
     "metadata": {},
     "output_type": "execute_result"
    }
   ],
   "source": [
    "import os \n",
    "os.getcwd()"
   ]
  },
  {
   "cell_type": "code",
   "execution_count": 49,
   "metadata": {
    "collapsed": false
   },
   "outputs": [
    {
     "data": {
      "text/plain": [
       "['spam.txt', 'cats/', 'cats/catnames.txt', 'cats/zophie.jpg']"
      ]
     },
     "execution_count": 49,
     "metadata": {},
     "output_type": "execute_result"
    }
   ],
   "source": [
    "import zipfile,os\n",
    "os.chdir('/Users/motaimigiwa/python/Homework/退屈なことはpythonに/python36/automatestuff-ja-master/ch09')    #example.zipのあるフォルダに移動\n",
    "example_zip = zipfile.ZipFile('example.zip')\n",
    "example_zip.namelist()"
   ]
  },
  {
   "cell_type": "code",
   "execution_count": 50,
   "metadata": {
    "collapsed": false
   },
   "outputs": [
    {
     "data": {
      "text/plain": [
       "13908"
      ]
     },
     "execution_count": 50,
     "metadata": {},
     "output_type": "execute_result"
    }
   ],
   "source": [
    "spam_info = example_zip.getinfo('spam.txt')\n",
    "spam_info.file_size\n",
    "# 元のファイルサイズ"
   ]
  },
  {
   "cell_type": "code",
   "execution_count": 51,
   "metadata": {
    "collapsed": false
   },
   "outputs": [
    {
     "data": {
      "text/plain": [
       "3828"
      ]
     },
     "execution_count": 51,
     "metadata": {},
     "output_type": "execute_result"
    }
   ],
   "source": [
    "spam_info.compress_size\n",
    "# 圧縮後のファイルサイズ"
   ]
  },
  {
   "cell_type": "code",
   "execution_count": 52,
   "metadata": {
    "collapsed": false
   },
   "outputs": [
    {
     "name": "stdout",
     "output_type": "stream",
     "text": [
      "圧縮ファイルは3.63倍小さい！\n"
     ]
    }
   ],
   "source": [
    "print('圧縮ファイルは{}倍小さい！'.format(round(spam_info.file_size / spam_info.compress_size,2)))"
   ]
  },
  {
   "cell_type": "code",
   "execution_count": 53,
   "metadata": {
    "collapsed": true
   },
   "outputs": [],
   "source": [
    "example_zip.close()"
   ]
  },
  {
   "cell_type": "raw",
   "metadata": {},
   "source": [
    "ZipFileオブジェクトにはnamelist()というメソッドがあり、zipファイルの中にあるすべてのファイルとフォルダを文字列のリストとして返す。\n",
    "これらの文字列をgetinfo()というメソッドに渡すと、そのファイルに関するZipFileオブジェクトを返す。\n",
    "ZipFileオブジェクトには、元のファイルサイズfile_sizeや圧縮後のファイルサイズcompress_sizeなどのファイル属性が書かれている。"
   ]
  },
  {
   "cell_type": "markdown",
   "metadata": {},
   "source": [
    "### ・ZipFileオブジェクトはアーカイブファイル全体を表す。\n",
    "### ・ZipInfoオブジェクトはアーカイブファイル内のひとつのファイルに関する情報を表す。"
   ]
  },
  {
   "cell_type": "markdown",
   "metadata": {},
   "source": [
    "# 9.2.3"
   ]
  },
  {
   "cell_type": "raw",
   "metadata": {},
   "source": [
    "ZIPファイルを展開する\n",
    "extractall()メソッド"
   ]
  },
  {
   "cell_type": "code",
   "execution_count": 54,
   "metadata": {
    "collapsed": true
   },
   "outputs": [],
   "source": [
    "import zipfile,os\n",
    "os.chdir('/Users/motaimigiwa/python/Homework/退屈なことはpythonに/python36/automatestuff-ja-master/ch09')  #example.zipのあるフォルダに移動\n",
    "example_zip = zipfile.ZipFile('example.zip')\n",
    "example_zip.extractall() #①"
   ]
  },
  {
   "cell_type": "raw",
   "metadata": {},
   "source": [
    "このコードを実行するとexample_zipの内容（catsディレクトリとspam.txt）が　に展開される。\n",
    "オプションとして、extractall()に展開先のフォルダを指定することもできる。\n",
    "指定したフォルダが存在しなければ作成される。"
   ]
  },
  {
   "cell_type": "code",
   "execution_count": null,
   "metadata": {
    "collapsed": true
   },
   "outputs": [],
   "source": [
    "例えば①を\n",
    "\n",
    "example_zip.extractall()\n",
    "\n",
    "のように書き換えると、example.zipの内容は　フォルダに展開される。"
   ]
  },
  {
   "cell_type": "code",
   "execution_count": 57,
   "metadata": {
    "collapsed": false
   },
   "outputs": [
    {
     "data": {
      "text/plain": [
       "'/Users/motaimigiwa/Desktop/spam.txt'"
      ]
     },
     "execution_count": 57,
     "metadata": {},
     "output_type": "execute_result"
    }
   ],
   "source": [
    "example_zip.extract('spam.txt','/Users/motaimigiwa/Desktop')"
   ]
  },
  {
   "cell_type": "code",
   "execution_count": null,
   "metadata": {
    "collapsed": true
   },
   "outputs": [],
   "source": [
    "example_zip.extract()"
   ]
  },
  {
   "cell_type": "code",
   "execution_count": 58,
   "metadata": {
    "collapsed": false
   },
   "outputs": [
    {
     "data": {
      "text/plain": [
       "['spam.txt', 'cats/', 'cats/catnames.txt', 'cats/zophie.jpg']"
      ]
     },
     "execution_count": 58,
     "metadata": {},
     "output_type": "execute_result"
    }
   ],
   "source": [
    "example_zip.namelist()"
   ]
  },
  {
   "cell_type": "code",
   "execution_count": null,
   "metadata": {
    "collapsed": true
   },
   "outputs": [],
   "source": [
    "example_zip.close()"
   ]
  },
  {
   "cell_type": "raw",
   "metadata": {},
   "source": [
    "extract()に渡す文字列は、namelist()の返すリストの中の文字列の１つに一致してる必要がある。\n",
    "オプションとして、extract()の第２引数に展開先のフォルダを指定することもできる。\n",
    "フォルダが存在しなければ自動的に作成される。\n",
    "extract()の戻り値は、展開されたファイルの絶対パス。"
   ]
  },
  {
   "cell_type": "markdown",
   "metadata": {},
   "source": [
    "# 9.2.4"
   ]
  },
  {
   "cell_type": "markdown",
   "metadata": {},
   "source": [
    "## ZIPファイルを作成したり追加したりする"
   ]
  },
  {
   "cell_type": "raw",
   "metadata": {},
   "source": [
    "ZIPファイルを作成するには、第２引数に'w'を渡してZipFileオブジェクトを書き込みモードで開く。\n",
    "ZipFileオブジェクトのwrite()メソッドにファイルのパスを渡すと、そのファイルをZIPファイルに追加して圧縮する。"
   ]
  },
  {
   "cell_type": "code",
   "execution_count": 59,
   "metadata": {
    "collapsed": true
   },
   "outputs": [],
   "source": [
    "import zipfile\n",
    "new_zip = zipfile.ZipFile('new.zip','w') #①\n",
    "new_zip.write('spam.txt',compress_type = zipfile.ZIP_DEFLATED)\n",
    "new_zip.close()"
   ]
  },
  {
   "cell_type": "code",
   "execution_count": null,
   "metadata": {
    "collapsed": true
   },
   "outputs": [],
   "source": [
    "①１つ目に指定している引数は追加するファイルのパス'new.zip'\n",
    "２つ目は圧縮方法を表すキーワード引数'w'\n",
    "これは、ファイルを圧縮するアルゴリズムを選ぶものだが、zipfile.ZIP_DEFLATEDという値を指定すれば良い。\n",
    "（deflateという圧縮アルゴリズムを指定するものだが、すべての種類のデータに対して良好に圧縮してくれる。）"
   ]
  },
  {
   "cell_type": "raw",
   "metadata": {},
   "source": [
    "既存のZIPファイルにファイルを追加したいときは、\n",
    "zipfile.ZipFile()の第２引数に'a'を渡して追加モードを指定する。\n",
    " - r  \n",
    "    読み込み\n",
    " - w  \n",
    "    書き込み\n",
    " - a  \n",
    "    追記   "
   ]
  },
  {
   "cell_type": "markdown",
   "metadata": {},
   "source": [
    "# 9.3"
   ]
  },
  {
   "cell_type": "markdown",
   "metadata": {},
   "source": [
    "### プロジェクト：米国式日付を欧州式日付に変換する"
   ]
  },
  {
   "cell_type": "raw",
   "metadata": {},
   "source": [
    "・カレントディレクトリで米国式日付をファイル名に持つすべてのファイルを探す\n",
    "・もしファイルが見つかったら、日と月を交換して欧州式に変える。"
   ]
  },
  {
   "cell_type": "raw",
   "metadata": {},
   "source": [
    "・米国式日付のテキストパターンを識別する正規表現を作成する。\n",
    "・os.listdir()を呼び出し、カレントディレクトリの全ファイルを取り出す。\n",
    "・正規表現を用いてファイル名に日付があるか順番に調べる。\n",
    "・日付があれば、shutil().move()を用いてファイル名を変更する。"
   ]
  },
  {
   "cell_type": "markdown",
   "metadata": {},
   "source": [
    "### Atom　ファイル　renameDates.py"
   ]
  },
  {
   "cell_type": "raw",
   "metadata": {},
   "source": [
    "#米国式日付ファイル名にマッチする正規表現を作る\n",
    "\n",
    "shutil.move()関数は元のファイル名と新しいファイル名を引数に取り、ファイル名を変更するのに使える。\n",
    "①でimportする。\n",
    "②re.compile()を呼び出してRegex()オブジェクトを生成。\n",
    "③のように第２引数にre.VERBOSEを渡すと、正規表現の文字列の中に空白やコメントを書いて読みやすくすることができる。\n",
    "正規表現の冒頭は^(.*?)とし、ファイル名の先頭で日付の前の部分にマッチするようにしている。"
   ]
  },
  {
   "cell_type": "raw",
   "metadata": {},
   "source": [
    "# TODO: カレントディレクトリの全ファイルをループする\n",
    "# TODO: 日付のないファイルをスキップする\n",
    "# TODO: ファイル名を部分分解する③\n",
    "\n",
    "search()が返すMatchオブジェクトがNoneなら①、\n",
    "amer_filenameに格納されたファイル名は正規表現にマッチしなかったことを表す。\n",
    "この時は、②のcontinue文で、ループの残りの部分をスキップして、つぎのファイルに移行する。\n",
    "正規表現にマッチすれば、正規表現のグループマッチした文字列を、\n",
    "before_part、month_part、day_part、year_part、after_partという変数に格納する。③\n",
    "\n",
    "グループの番号を確認するには、正規表現を先頭から見ていき、\n",
    "開き丸かっこ（　が見つかるたびに数え上げていく。\n",
    "正規表現の中身を無視して外枠だけを書いてみるとグループを明確にできる。例えば、\n",
    "\n",
    "date_pattern = re.compile(r\"\"\"^(1) # 日付の前の全テキスト\n",
    "    (2 (3) )-                      # 日を表す1,2桁の数字\n",
    "    (4 (5) )-                      # 年を表す4桁の数字\n",
    "    (6 (7)                         # 日付の後の全テキスト\n",
    "    (8)$\n",
    "    \"\"\",re.VERBOSE) \n",
    "\n",
    "のように書いてみると、１〜８が正規表現のグループ番号となります。\n",
    "丸かっことグループ番号だけを使って正規表現の外枠を書くことによって、正規表現をしっかり理解出来、\n",
    "プログラムの残りの部分に取り組める。"
   ]
  },
  {
   "cell_type": "raw",
   "metadata": {},
   "source": [
    "# TODO: 欧州式の日付のファイル名を作る\n",
    "# TODO: ファイルのフルパス（絶対パス）を取得する\n",
    "\n",
    "欧州式に再構築したファイル名をeuro_filenameという変数に格納①\n",
    "euro_filenameに格納された元のファイル名と、新しいeuro_filenameをshutil.move()関数に渡してファイル名を変更する③"
   ]
  },
  {
   "cell_type": "markdown",
   "metadata": {},
   "source": [
    "# 9.3.4"
   ]
  },
  {
   "cell_type": "markdown",
   "metadata": {},
   "source": [
    "### 類似プログラムのアイディア"
   ]
  },
  {
   "cell_type": "code",
   "execution_count": null,
   "metadata": {
    "collapsed": true
   },
   "outputs": [],
   "source": [
    "大量のファイルの名前を変更するような類例には次のようなものもある。\n",
    "\n",
    "・ファイル名の先頭に接頭時を付ける。例えば、eggs.txtにspam_をつけてspam_eggs.txtにする。\n",
    "・ファイル名に含まれる日付を、欧州式から日本式に変える。\n",
    "・spam0042.txtのようなファイル名からゼロを取る。"
   ]
  },
  {
   "cell_type": "markdown",
   "metadata": {},
   "source": [
    "# 9.4"
   ]
  },
  {
   "cell_type": "markdown",
   "metadata": {},
   "source": [
    "### プロジェクト：フォルダをZIPファイルにバックアップする"
   ]
  },
  {
   "cell_type": "markdown",
   "metadata": {},
   "source": [
    "#### Atom ファイル　backupToZip.py"
   ]
  },
  {
   "cell_type": "raw",
   "metadata": {},
   "source": [
    "backup_to_zip()関数はfolderという引数を１つだけ取る。\n",
    "この引数はバックアップ対象のフォルダのぱす。\n",
    "関数は作成するZIPファイルの名前を決め、ZIPファイルを作成し、フォルダfolderの中を渡り歩いて、\n",
    "ファイルやサブフォルダをZIPファイルに追加する。"
   ]
  },
  {
   "cell_type": "raw",
   "metadata": {},
   "source": [
    "# TODO: ZIPファイルを作成する\n",
    "\n",
    "新しいZIPファイルの名前は、zip_filenameに格納されているので、zip_file.ZipFile()を呼び出して\n",
    "ZIPファイルを作成する。①\n",
    "第２引数に'w'を渡して書き込みモードで開く。"
   ]
  },
  {
   "cell_type": "markdown",
   "metadata": {},
   "source": [
    "# 9.4.4"
   ]
  },
  {
   "cell_type": "code",
   "execution_count": null,
   "metadata": {
    "collapsed": true
   },
   "outputs": [],
   "source": [
    "ディレクトリツリーを渡り歩いてZIPファイルにファイルを追加して圧縮しアーカイブするという手法は、\n",
    "ほかのプログラムにも応用できる。\n",
    "・ディレクトリツリーを渡り歩いて、.txtや.pyなどの特定の拡張子を持つファイルだけをアーカイブ化する。\n",
    "・ディレクトリツリーを渡り歩いて、.txtや.py以外の拡張子を持つファイルだけをアーカイブ化する。\n",
    "・ディレクトリツリーの中から最もファイル数の多いフォルダや、最もディスク容量を使用しているフォルダを見つける。"
   ]
  },
  {
   "cell_type": "markdown",
   "metadata": {},
   "source": [
    "# 9.7.1"
   ]
  },
  {
   "cell_type": "raw",
   "metadata": {},
   "source": [
    "ディレクトリツリーを渡り歩いて.pdfや.jpgなどの特定の拡張子を持つファイルを見つけ、新しいフォルダにコピーする。"
   ]
  },
  {
   "cell_type": "code",
   "execution_count": 6,
   "metadata": {
    "collapsed": false
   },
   "outputs": [
    {
     "name": "stdout",
     "output_type": "stream",
     "text": [
      "abisinian.jpg\n",
      "cats.jpg\n",
      "zophie.jpg\n"
     ]
    }
   ],
   "source": [
    "import shutil,os\n",
    "\n",
    "for i,j,k in os.walk('/Users/motaimigiwa/python/Homework/退屈なことはpythonに/python36/automatestuff-ja-master/ch09/cats'):\n",
    "    #print('The carrent folder is' + i)\n",
    "    \n",
    "    \n",
    "    for filename in k:\n",
    "        if filename.endswith('.jpg'):\n",
    "            print(filename)\n",
    "            shutil.copy(i+'/'+filename,'/Users/motaimigiwa/Desktop/delicious')"
   ]
  },
  {
   "cell_type": "code",
   "execution_count": 11,
   "metadata": {
    "collapsed": false
   },
   "outputs": [
    {
     "name": "stdout",
     "output_type": "stream",
     "text": [
      ".ipynb_checkpoints\n"
     ]
    }
   ],
   "source": [
    "import os \n",
    "\n",
    "def find_file_huga_size(path,max_size):\n",
    "    #ファイル用に書く\n",
    "    for foldername,filenames,subfolders in os.walk(path):\n",
    "        for i in filenames:\n",
    "            if os.path.getsize(foldername + '/' + i) > max_size:\n",
    "                print(i)\n",
    "  \n",
    "find_file_huga_size('/Users/motaimigiwa/python/Homework/退屈なことはpythonに/python36/automatestuff-ja-master/ch09/cats',100)"
   ]
  },
  {
   "cell_type": "code",
   "execution_count": null,
   "metadata": {
    "collapsed": true
   },
   "outputs": [],
   "source": [
    "def sequence_jump_fill(path,prefix):\n",
    "    files = os.listdir(path)\n",
    "    sorted(files)\n",
    "    for i in range(len(files)):\n",
    "        num, ext = os.path.splitext(files[i])\n",
    "        num = int(num[len(prefix):])\n",
    "        if i + 1 != num:\n",
    "            print('ちがうよ')\n",
    "            shutil.move(path + '/' + prefix + str(num).rjust(3,'0')+ext + path + '/' + prefix + str(i+1).rjust(3,'0')+ext)"
   ]
  }
 ],
 "metadata": {
  "kernelspec": {
   "display_name": "Python 3",
   "language": "python",
   "name": "python3"
  },
  "language_info": {
   "codemirror_mode": {
    "name": "ipython",
    "version": 3
   },
   "file_extension": ".py",
   "mimetype": "text/x-python",
   "name": "python",
   "nbconvert_exporter": "python",
   "pygments_lexer": "ipython3",
   "version": "3.6.0"
  }
 },
 "nbformat": 4,
 "nbformat_minor": 2
}
