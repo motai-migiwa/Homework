{
 "cells": [
  {
   "cell_type": "raw",
   "metadata": {},
   "source": [
    "CSV\n",
    "Comma Separated Values\n",
    "プレーンテキストファイルに記録された簡単なスプレッドシート"
   ]
  },
  {
   "cell_type": "raw",
   "metadata": {},
   "source": [
    "JSON\n",
    "JavaScript Object Notation\n",
    "プレーンテキストに書かれたJavaScriptのソースコードとして情報を保持する形式"
   ]
  },
  {
   "cell_type": "markdown",
   "metadata": {},
   "source": [
    "# 14.1"
   ]
  },
  {
   "cell_type": "code",
   "execution_count": 1,
   "metadata": {
    "collapsed": false
   },
   "outputs": [
    {
     "data": {
      "text/plain": [
       "'/Users/motaimigiwa/python/Homework/退屈なことはpythonに/python36'"
      ]
     },
     "execution_count": 1,
     "metadata": {},
     "output_type": "execute_result"
    }
   ],
   "source": [
    "import os\n",
    "os.getcwd()"
   ]
  },
  {
   "cell_type": "raw",
   "metadata": {},
   "source": [
    "'''\n",
    "import csv\n",
    ">>> example_file = open('example.csv')\n",
    "\n",
    ">>> example_reader = csv.reader(example_file)　\n",
    "    \n",
    "    ①csv.reader()関数に渡す、Readerオブジェクトを取得できる。\n",
    "    　csv.reader()にはファイル名を直接渡すわけではない。\n",
    "\n",
    ">>> example_data = list(example_reader)　\n",
    "    \n",
    "    ②Readerオブジェクトの値に最も直接的にアクセスする方法は\n",
    "    　list()に渡して通常のpythonの変換すること。\n",
    "    　Readerオブジェクトをlist()に渡すと、リストのリストを表示する。\n",
    "     \n",
    ">>> example_data\n",
    "'''\n",
    "\n",
    "[['4/5/2014 13:34', 'Apples', '73'], ['4/5/2014 3:41', 'Cherries', '85'], ['4/6/2014 12:46', 'Pears', '14'], ['4/8/2014 8:59', 'Oranges', '52'], ['4/10/2014 2:07', 'Apples', '152'], ['4/10/2014 18:10', 'Bananas', '23'], ['4/10/2014 2:40', 'Strawberries', '98']]"
   ]
  },
  {
   "cell_type": "raw",
   "metadata": {},
   "source": [
    "CSVファイルをリストのリストに変換できたので、特定の行と列をexample_data[row][col]の式でアクセスすることができる。\n",
    "[row]はexample_dataからリストをひとつ取り出すインデックス。\n",
    "[col]はそのリストから要素をひとつ取り出すインデックス。"
   ]
  },
  {
   "cell_type": "raw",
   "metadata": {},
   "source": [
    ">>> example_data[0][0]\n",
    "'4/5/2014 13:34'\n",
    ">>> example_data[0][1]\n",
    "'Apples'\n",
    ">>> example_data[0][2]\n",
    "'73'\n",
    ">>> example_data[1][1]\n",
    "'Cherries'\n",
    ">>> example_data[6][1]\n",
    "'Strawberries'"
   ]
  },
  {
   "cell_type": "markdown",
   "metadata": {},
   "source": [
    "# 14.1.2"
   ]
  },
  {
   "cell_type": "markdown",
   "metadata": {},
   "source": [
    "### forループでReaderオブジェクトからデータを読み出す"
   ]
  },
  {
   "cell_type": "code",
   "execution_count": 5,
   "metadata": {
    "collapsed": false
   },
   "outputs": [
    {
     "name": "stdout",
     "output_type": "stream",
     "text": [
      "Row #1['4/5/2014 13:34', 'Apples', '73']\n",
      "Row #2['4/5/2014 3:41', 'Cherries', '85']\n",
      "Row #3['4/6/2014 12:46', 'Pears', '14']\n",
      "Row #4['4/8/2014 8:59', 'Oranges', '52']\n",
      "Row #5['4/10/2014 2:07', 'Apples', '152']\n",
      "Row #6['4/10/2014 18:10', 'Bananas', '23']\n",
      "Row #7['4/10/2014 2:40', 'Strawberries', '98']\n"
     ]
    }
   ],
   "source": [
    "import csv\n",
    "example_file = open('example.csv')\n",
    "example_reader = csv.reader(example_file)\n",
    "for row in example_reader:\n",
    "    print('Row #' + str(example_reader.line_num) + '' +str(row))"
   ]
  },
  {
   "cell_type": "raw",
   "metadata": {},
   "source": [
    "行番号を取得するには、Readerオブジェクトのline_num変数を用いる。\n",
    "Readerオブジェクトは１回しかループすることができない。\n",
    "CSVファイルを読み直すには、ファイルを開き直すか、Fileオブジェクトのseek(0)を呼び出して先頭に戻す。"
   ]
  },
  {
   "cell_type": "markdown",
   "metadata": {},
   "source": [
    "# 14.1.3"
   ]
  },
  {
   "cell_type": "code",
   "execution_count": 2,
   "metadata": {
    "collapsed": false
   },
   "outputs": [
    {
     "data": {
      "text/plain": [
       "'\\nwriterow()メソッドはリストの引数を取る。\\nリストの各要素の値が、出力するCSVファイルのセルになる。\\nwriterow()の戻り値は、ファイルに書き出した行の文字数（改行を含む）です。\\n'"
      ]
     },
     "execution_count": 2,
     "metadata": {},
     "output_type": "execute_result"
    }
   ],
   "source": [
    "import csv\n",
    "output_file = open('output.csv','w',newline='')\n",
    "#open()のキーワード引数、newline=''を忘れると１行空きになる\n",
    "output_writer = csv.writer(output_file)\n",
    "output_writer.writerow(['spam','eggs','bacon','ham'])\n",
    "\n",
    "'''\n",
    "writerow()メソッドはリストの引数を取る。\n",
    "リストの各要素の値が、出力するCSVファイルのセルになる。\n",
    "writerow()の戻り値は、ファイルに書き出した行の文字数（改行を含む）です。\n",
    "'''"
   ]
  },
  {
   "cell_type": "code",
   "execution_count": 3,
   "metadata": {
    "collapsed": false
   },
   "outputs": [
    {
     "data": {
      "text/plain": [
       "32"
      ]
     },
     "execution_count": 3,
     "metadata": {},
     "output_type": "execute_result"
    }
   ],
   "source": [
    "output_writer.writerow(['Hello, world!','eggs','bacon','ham'])"
   ]
  },
  {
   "cell_type": "code",
   "execution_count": 4,
   "metadata": {
    "collapsed": false
   },
   "outputs": [
    {
     "data": {
      "text/plain": [
       "16"
      ]
     },
     "execution_count": 4,
     "metadata": {},
     "output_type": "execute_result"
    }
   ],
   "source": [
    "output_writer.writerow([1,2,3.141529,4])"
   ]
  },
  {
   "cell_type": "code",
   "execution_count": 5,
   "metadata": {
    "collapsed": true
   },
   "outputs": [],
   "source": [
    "output_file.close()"
   ]
  },
  {
   "cell_type": "markdown",
   "metadata": {},
   "source": [
    "# 14.1.4"
   ]
  },
  {
   "cell_type": "code",
   "execution_count": 17,
   "metadata": {
    "collapsed": false
   },
   "outputs": [
    {
     "data": {
      "text/plain": [
       "23"
      ]
     },
     "execution_count": 17,
     "metadata": {},
     "output_type": "execute_result"
    }
   ],
   "source": [
    "import csv\n",
    "csv_file = open('example.tsv','w',newline='')\n",
    "csv_writer = csv.writer(csv_file,delimiter='\\t',lineterminator='\\n\\n')\n",
    "csv_writer.writerow(['apples','oranges','grapes'])\n",
    "\n",
    "'''\n",
    "区切り文字と行終端文字が変わる。\n",
    "区切り文字とは、１行の中でセルの間にある文字。\n",
    "デフォルトでは、CSVファイルの区切り文字はカンマ。行終端文字は行末にある文字。\n",
    "デフォルトでは、行終端文字は改行文字。\n",
    "delimiter='\\t'とlineterminator='\\n\\n'とすることにより、セル間の文字がタブ文字になり、行間の文字は２つの改行文字になる。\n",
    "writerow()を３回呼び出して３行書き込んでいる。\n",
    "'''"
   ]
  },
  {
   "cell_type": "code",
   "execution_count": 18,
   "metadata": {
    "collapsed": false
   },
   "outputs": [
    {
     "data": {
      "text/plain": [
       "16"
      ]
     },
     "execution_count": 18,
     "metadata": {},
     "output_type": "execute_result"
    }
   ],
   "source": [
    "csv_writer.writerow(['eggs','bacon','ham'])"
   ]
  },
  {
   "cell_type": "code",
   "execution_count": 19,
   "metadata": {
    "collapsed": false
   },
   "outputs": [
    {
     "data": {
      "text/plain": [
       "31"
      ]
     },
     "execution_count": 19,
     "metadata": {},
     "output_type": "execute_result"
    }
   ],
   "source": [
    "csv_writer.writerow(['spam','spam','spam','spam','spam','spam'])"
   ]
  },
  {
   "cell_type": "code",
   "execution_count": 20,
   "metadata": {
    "collapsed": true
   },
   "outputs": [],
   "source": [
    "csv_file.close()"
   ]
  },
  {
   "cell_type": "markdown",
   "metadata": {},
   "source": [
    "セルがタブ文字で区切られているので、ファイル拡張子を.tsv(タブ区切りの値)としている。"
   ]
  },
  {
   "cell_type": "markdown",
   "metadata": {},
   "source": [
    "# 14.2"
   ]
  },
  {
   "cell_type": "markdown",
   "metadata": {},
   "source": [
    "#### Atom ファイル　removeCsvHeader.py"
   ]
  },
  {
   "cell_type": "raw",
   "metadata": {},
   "source": [
    "\n",
    "os.makedirs()を呼び出して見出しを削除したCSVファイルを書き込む'headerRemoved'というファイルを作る。\n",
    "\n",
    "os.listdir('.')について、カレントディレクトリのすべてのファイルをループするので、\n",
    ".csvで終わるファイル以外はスキップするコードを追加する必要がある。\n",
    "continue # CSVファイルでなければスキップ ❶でCSVファイルでない場合に次のファイルに移るようにしている。\n",
    "\n",
    "’’’\n",
    "\n",
    "import csv, os\n",
    "\n",
    "os.makedirs('headerRemoved', exist_ok=True)\n",
    "\n",
    "for csv_filename in os.listdir('.'):\n",
    "    if not csv_filename.endswith('.csv'):\n",
    "        continue # CSVファイルでなければスキップ ❶\n",
    "\n",
    "    print('見出し削除中 ' + csv_filename + '...')\n",
    "\n",
    "’’’"
   ]
  },
  {
   "cell_type": "raw",
   "metadata": {},
   "source": [
    "CSVファイルを読み込む（最初の行をスキップする）\n",
    "\n",
    "    csv_rows = []\n",
    "    csv_file_obj = open(csv_filename)\n",
    "    reader_obj = csv.reader(csv_file_obj)\n",
    "    for row in reader_obj:\n",
    "        if reader_obj.line_num == 1:\n",
    "            continue   # 最初の行をスキップする\n",
    "        csv_rows.append(row)\n",
    "    csv_file_obj.close()\n",
    "    \n",
    "Readerオブジェクトのline_num属性を使えば、CSVファイルから現在読み込んでいる行番号が分かる。\n",
    "もうひとつのforループでReaderオブジェクトが返す行をループし、最初の行を除くすべての行をcsv_rowsに追加。"
   ]
  },
  {
   "cell_type": "raw",
   "metadata": {},
   "source": [
    "csv_file_obj = open(os.path.join('headerRemoved', csv_filename), 'w',\n",
    "                newline='')\n",
    "    csv_writer = csv.writer(csv_file_obj)\n",
    "    for row in csv_rows:\n",
    "        csv_writer.writerow(row)\n",
    "    csv_file_obj.close()\n",
    "    \n",
    "writerオブジェクトは、headerRemovedフォルダの中に、Readerと同じcsv_filenameという名前のCSVファイルとしてcsv_rowsを書き込む。\n",
    "writerオブジェクトを作ったら、csv_rowsをループして、行をファイルに書き出します。\n",
    "\n",
    "書き出し処理が終わると外側のforループがos.listdir('.')の次のファイルに移る。"
   ]
  },
  {
   "cell_type": "markdown",
   "metadata": {},
   "source": [
    "#### 類似プログラムのアイディア"
   ]
  },
  {
   "cell_type": "raw",
   "metadata": {},
   "source": [
    "CSVファイルを処理するプログラムはExcelファイルと同様のものを考えることができる。\n",
    "・CSVファイル内の異なる行の間のデータや、複数のCSVファイルの間のデータデータを比較。\n",
    "・CSVファイルからExelファイルへ、またその逆方向に、特定のデータをコピーする。\n",
    "・CSVファイル中の不正なデータや整形ミスを調べ、間違いをユーザーに通知する。\n",
    "・pythonプログラムの入力としてCSVファイルファイルからデータを読み込む。"
   ]
  },
  {
   "cell_type": "markdown",
   "metadata": {},
   "source": [
    "# 14.3"
   ]
  },
  {
   "cell_type": "raw",
   "metadata": {},
   "source": [
    "JSON\n",
    "JavaScriptオブジェクト記法\n",
    "人間が読める文字列としてデータを整形するのに使われる。\n",
    "JSONはJavaScriptプログラムがデータ構造を記述するネイティブな方法で、\n",
    "pythonのpprint()関数が生成するものに似ている。"
   ]
  },
  {
   "cell_type": "raw",
   "metadata": {},
   "source": [
    "webサイトのインターフェース\n",
    "API(アプリケーション・プログラミング・インターフェース)\n",
    "\n",
    "APIをアクセスするのは、URLでWebページをアクセスするのと同じ。\n",
    "違いはAPIが返すデータは、コンピューターが読むためにJSONなどの形式で整形されていること。\n",
    "APIの出力を人間が読むのは簡単ではない。"
   ]
  },
  {
   "cell_type": "raw",
   "metadata": {},
   "source": [
    "・Webサイトの生データを取得する\n",
    "　（WebをダウンロードしてBeautifulSoupでHTMLを解析するよりAPIをアクセスするほうが便利）\n",
    "・自分のSNSアカウントのひとつを使って新規投稿を自動ダウンロードし、別のアカウントで投稿する。\n",
    "・個人的な映画コレクションについて、Wikipediaからデータを取得し、ひとつのテキストファイルにまとめて「映画辞典」を作る。"
   ]
  },
  {
   "cell_type": "markdown",
   "metadata": {},
   "source": [
    "#### JSONで記述できるのは、文字列、整数、浮動小数点数、ブール値、リスト、辞書、Noneだけ"
   ]
  },
  {
   "cell_type": "code",
   "execution_count": 30,
   "metadata": {
    "collapsed": false
   },
   "outputs": [
    {
     "ename": "JSONDecodeError",
     "evalue": "Expecting property name enclosed in double quotes: line 1 column 32 (char 31)",
     "output_type": "error",
     "traceback": [
      "\u001b[0;31m---------------------------------------------------------------------------\u001b[0m",
      "\u001b[0;31mJSONDecodeError\u001b[0m                           Traceback (most recent call last)",
      "\u001b[0;32m<ipython-input-30-80e273a24c70>\u001b[0m in \u001b[0;36m<module>\u001b[0;34m()\u001b[0m\n\u001b[1;32m      1\u001b[0m \u001b[0mstring_of_json_data\u001b[0m \u001b[0;34m=\u001b[0m \u001b[0;34m'{\"name\": \"mimi\",\"is cat\": true,}'\u001b[0m\u001b[0;34m\u001b[0m\u001b[0m\n\u001b[1;32m      2\u001b[0m \u001b[0;32mimport\u001b[0m \u001b[0mjson\u001b[0m\u001b[0;34m\u001b[0m\u001b[0m\n\u001b[0;32m----> 3\u001b[0;31m \u001b[0mjson_data_as_python_value\u001b[0m \u001b[0;34m=\u001b[0m \u001b[0mjson\u001b[0m\u001b[0;34m.\u001b[0m\u001b[0mloads\u001b[0m\u001b[0;34m(\u001b[0m\u001b[0mstring_of_json_data\u001b[0m\u001b[0;34m)\u001b[0m\u001b[0;34m\u001b[0m\u001b[0m\n\u001b[0m\u001b[1;32m      4\u001b[0m \u001b[0mjson_data_as_python_value\u001b[0m\u001b[0;34m\u001b[0m\u001b[0m\n",
      "\u001b[0;32m/anaconda/lib/python3.6/json/__init__.py\u001b[0m in \u001b[0;36mloads\u001b[0;34m(s, encoding, cls, object_hook, parse_float, parse_int, parse_constant, object_pairs_hook, **kw)\u001b[0m\n\u001b[1;32m    352\u001b[0m             \u001b[0mparse_int\u001b[0m \u001b[0;32mis\u001b[0m \u001b[0;32mNone\u001b[0m \u001b[0;32mand\u001b[0m \u001b[0mparse_float\u001b[0m \u001b[0;32mis\u001b[0m \u001b[0;32mNone\u001b[0m \u001b[0;32mand\u001b[0m\u001b[0;34m\u001b[0m\u001b[0m\n\u001b[1;32m    353\u001b[0m             parse_constant is None and object_pairs_hook is None and not kw):\n\u001b[0;32m--> 354\u001b[0;31m         \u001b[0;32mreturn\u001b[0m \u001b[0m_default_decoder\u001b[0m\u001b[0;34m.\u001b[0m\u001b[0mdecode\u001b[0m\u001b[0;34m(\u001b[0m\u001b[0ms\u001b[0m\u001b[0;34m)\u001b[0m\u001b[0;34m\u001b[0m\u001b[0m\n\u001b[0m\u001b[1;32m    355\u001b[0m     \u001b[0;32mif\u001b[0m \u001b[0mcls\u001b[0m \u001b[0;32mis\u001b[0m \u001b[0;32mNone\u001b[0m\u001b[0;34m:\u001b[0m\u001b[0;34m\u001b[0m\u001b[0m\n\u001b[1;32m    356\u001b[0m         \u001b[0mcls\u001b[0m \u001b[0;34m=\u001b[0m \u001b[0mJSONDecoder\u001b[0m\u001b[0;34m\u001b[0m\u001b[0m\n",
      "\u001b[0;32m/anaconda/lib/python3.6/json/decoder.py\u001b[0m in \u001b[0;36mdecode\u001b[0;34m(self, s, _w)\u001b[0m\n\u001b[1;32m    337\u001b[0m \u001b[0;34m\u001b[0m\u001b[0m\n\u001b[1;32m    338\u001b[0m         \"\"\"\n\u001b[0;32m--> 339\u001b[0;31m         \u001b[0mobj\u001b[0m\u001b[0;34m,\u001b[0m \u001b[0mend\u001b[0m \u001b[0;34m=\u001b[0m \u001b[0mself\u001b[0m\u001b[0;34m.\u001b[0m\u001b[0mraw_decode\u001b[0m\u001b[0;34m(\u001b[0m\u001b[0ms\u001b[0m\u001b[0;34m,\u001b[0m \u001b[0midx\u001b[0m\u001b[0;34m=\u001b[0m\u001b[0m_w\u001b[0m\u001b[0;34m(\u001b[0m\u001b[0ms\u001b[0m\u001b[0;34m,\u001b[0m \u001b[0;36m0\u001b[0m\u001b[0;34m)\u001b[0m\u001b[0;34m.\u001b[0m\u001b[0mend\u001b[0m\u001b[0;34m(\u001b[0m\u001b[0;34m)\u001b[0m\u001b[0;34m)\u001b[0m\u001b[0;34m\u001b[0m\u001b[0m\n\u001b[0m\u001b[1;32m    340\u001b[0m         \u001b[0mend\u001b[0m \u001b[0;34m=\u001b[0m \u001b[0m_w\u001b[0m\u001b[0;34m(\u001b[0m\u001b[0ms\u001b[0m\u001b[0;34m,\u001b[0m \u001b[0mend\u001b[0m\u001b[0;34m)\u001b[0m\u001b[0;34m.\u001b[0m\u001b[0mend\u001b[0m\u001b[0;34m(\u001b[0m\u001b[0;34m)\u001b[0m\u001b[0;34m\u001b[0m\u001b[0m\n\u001b[1;32m    341\u001b[0m         \u001b[0;32mif\u001b[0m \u001b[0mend\u001b[0m \u001b[0;34m!=\u001b[0m \u001b[0mlen\u001b[0m\u001b[0;34m(\u001b[0m\u001b[0ms\u001b[0m\u001b[0;34m)\u001b[0m\u001b[0;34m:\u001b[0m\u001b[0;34m\u001b[0m\u001b[0m\n",
      "\u001b[0;32m/anaconda/lib/python3.6/json/decoder.py\u001b[0m in \u001b[0;36mraw_decode\u001b[0;34m(self, s, idx)\u001b[0m\n\u001b[1;32m    353\u001b[0m         \"\"\"\n\u001b[1;32m    354\u001b[0m         \u001b[0;32mtry\u001b[0m\u001b[0;34m:\u001b[0m\u001b[0;34m\u001b[0m\u001b[0m\n\u001b[0;32m--> 355\u001b[0;31m             \u001b[0mobj\u001b[0m\u001b[0;34m,\u001b[0m \u001b[0mend\u001b[0m \u001b[0;34m=\u001b[0m \u001b[0mself\u001b[0m\u001b[0;34m.\u001b[0m\u001b[0mscan_once\u001b[0m\u001b[0;34m(\u001b[0m\u001b[0ms\u001b[0m\u001b[0;34m,\u001b[0m \u001b[0midx\u001b[0m\u001b[0;34m)\u001b[0m\u001b[0;34m\u001b[0m\u001b[0m\n\u001b[0m\u001b[1;32m    356\u001b[0m         \u001b[0;32mexcept\u001b[0m \u001b[0mStopIteration\u001b[0m \u001b[0;32mas\u001b[0m \u001b[0merr\u001b[0m\u001b[0;34m:\u001b[0m\u001b[0;34m\u001b[0m\u001b[0m\n\u001b[1;32m    357\u001b[0m             \u001b[0;32mraise\u001b[0m \u001b[0mJSONDecodeError\u001b[0m\u001b[0;34m(\u001b[0m\u001b[0;34m\"Expecting value\"\u001b[0m\u001b[0;34m,\u001b[0m \u001b[0ms\u001b[0m\u001b[0;34m,\u001b[0m \u001b[0merr\u001b[0m\u001b[0;34m.\u001b[0m\u001b[0mvalue\u001b[0m\u001b[0;34m)\u001b[0m \u001b[0;32mfrom\u001b[0m \u001b[0;32mNone\u001b[0m\u001b[0;34m\u001b[0m\u001b[0m\n",
      "\u001b[0;31mJSONDecodeError\u001b[0m: Expecting property name enclosed in double quotes: line 1 column 32 (char 31)"
     ]
    }
   ],
   "source": [
    "string_of_json_data = '{\"name\": \"mimi\",\"is cat\": true,}'\n",
    "import json\n",
    "json_data_as_python_value = json.loads(string_of_json_data)\n",
    "json_data_as_python_value"
   ]
  },
  {
   "cell_type": "raw",
   "metadata": {},
   "source": [
    "loads()にJSONデータを渡して呼び出すことができる。\n",
    "JSON文字列は常にダブルクォート(\")で囲む点に注意。\n",
    "関数の戻り値はpythonの辞書型。"
   ]
  },
  {
   "cell_type": "raw",
   "metadata": {},
   "source": [
    "json.dumps関数「dump string」はpythonの値をJSON形式の文字列に変換する。"
   ]
  },
  {
   "cell_type": "code",
   "execution_count": 28,
   "metadata": {
    "collapsed": false
   },
   "outputs": [
    {
     "data": {
      "text/plain": [
       "'{\"isCat\": true, \"name\": \"mimi\"}'"
      ]
     },
     "execution_count": 28,
     "metadata": {},
     "output_type": "execute_result"
    }
   ],
   "source": [
    "python_value = {'isCat':True,'name':'mimi'}\n",
    "import json\n",
    "string_of_json_data = json.dumps(python_value)\n",
    "string_of_json_data"
   ]
  },
  {
   "cell_type": "markdown",
   "metadata": {},
   "source": [
    "# 14.5.1"
   ]
  },
  {
   "cell_type": "markdown",
   "metadata": {},
   "source": [
    "### コマンドライン引数から地名を取得"
   ]
  },
  {
   "cell_type": "markdown",
   "metadata": {},
   "source": [
    "Atom ファイル　quickWeather.py"
   ]
  },
  {
   "cell_type": "markdown",
   "metadata": {},
   "source": [
    "# まとめ"
   ]
  },
  {
   "cell_type": "markdown",
   "metadata": {},
   "source": [
    "CSVとJSONはデータを格納するために一般的に用いられるプレーンテキスト形式。\n",
    "スプレッドシートやWebアプリケーションのデータとして用いられる。\n",
    "csvとjsonモジュールを用いれば、CSVとJSONファイルを読み書きする処理を簡単にできる。"
   ]
  }
 ],
 "metadata": {
  "kernelspec": {
   "display_name": "Python 3",
   "language": "python",
   "name": "python3"
  },
  "language_info": {
   "codemirror_mode": {
    "name": "ipython",
    "version": 3
   },
   "file_extension": ".py",
   "mimetype": "text/x-python",
   "name": "python",
   "nbconvert_exporter": "python",
   "pygments_lexer": "ipython3",
   "version": "3.6.0"
  }
 },
 "nbformat": 4,
 "nbformat_minor": 2
}
