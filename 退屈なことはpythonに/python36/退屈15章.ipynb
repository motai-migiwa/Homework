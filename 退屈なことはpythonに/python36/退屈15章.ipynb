{
 "cells": [
  {
   "cell_type": "markdown",
   "metadata": {},
   "source": [
    "組み込みのtimeモジュール"
   ]
  },
  {
   "cell_type": "markdown",
   "metadata": {},
   "source": [
    "# 15.1.1"
   ]
  },
  {
   "cell_type": "markdown",
   "metadata": {},
   "source": [
    "time.time()関数"
   ]
  },
  {
   "cell_type": "code",
   "execution_count": 1,
   "metadata": {
    "collapsed": false
   },
   "outputs": [
    {
     "data": {
      "text/plain": [
       "1506040367.4183319"
      ]
     },
     "execution_count": 1,
     "metadata": {},
     "output_type": "execute_result"
    }
   ],
   "source": [
    "import time\n",
    "time.time()"
   ]
  },
  {
   "cell_type": "raw",
   "metadata": {},
   "source": [
    "エポックタイムスタンプ\n",
    "UNIXエポックからの経過秒数を浮動小数点数で返す。\n",
    "コードをプロファイリング(コードの実行時間)をするときに使える"
   ]
  },
  {
   "cell_type": "raw",
   "metadata": {},
   "source": [
    "UNIXエポックとは\n",
    "協定世界時（UTC）"
   ]
  },
  {
   "cell_type": "code",
   "execution_count": 4,
   "metadata": {
    "collapsed": false
   },
   "outputs": [
    {
     "name": "stdout",
     "output_type": "stream",
     "text": [
      "計算結果は456569\n",
      "計算結果は3.209718704223633\n"
     ]
    }
   ],
   "source": [
    "import time\n",
    "def calc_prod(): #①\n",
    "    #1~99,999の積を求める\n",
    "    product = 1\n",
    "    for i in range(1,100000):\n",
    "        product = product * i\n",
    "    return product\n",
    "\n",
    "start_time = time.time() #②\n",
    "prod = calc_prod()\n",
    "end_time = time.time() #③\n",
    "print('計算結果は{}'.format(len(str(prod)))) #④\n",
    "print('計算結果は{}'.format(end_time - start_time)) #⑤"
   ]
  },
  {
   "cell_type": "raw",
   "metadata": {},
   "source": [
    "①で1~99,999までの整数をループして積を返す関数calc_prod()を定義する。\n",
    "②でtime.time()を呼び出しstart_timeに格納\n",
    "calc_prod()を呼び出した直後に、もう一度time.time()を呼び出してend_timeに格納します。③\n",
    "最後に、calc_prod()の戻り値の桁数④と、calc_prod()を実行するのにかかった時間⑤を表示"
   ]
  },
  {
   "cell_type": "markdown",
   "metadata": {},
   "source": [
    "コードをプロファイリングするにはcProfile.run()関数を使う方法もある"
   ]
  },
  {
   "cell_type": "markdown",
   "metadata": {},
   "source": [
    "# 15.1.2"
   ]
  },
  {
   "cell_type": "markdown",
   "metadata": {},
   "source": [
    "time.sleep()関数"
   ]
  },
  {
   "cell_type": "code",
   "execution_count": 5,
   "metadata": {
    "collapsed": false
   },
   "outputs": [
    {
     "name": "stdout",
     "output_type": "stream",
     "text": [
      "Tick\n",
      "Tock\n",
      "Tick\n",
      "Tock\n",
      "Tick\n",
      "Tock\n"
     ]
    }
   ],
   "source": [
    "import time\n",
    "for i in range(3):\n",
    "    print('Tick')\n",
    "    time.sleep(1)\n",
    "    print('Tock')\n",
    "    time.sleep(1)"
   ]
  },
  {
   "cell_type": "markdown",
   "metadata": {},
   "source": [
    "# 15.2"
   ]
  },
  {
   "cell_type": "markdown",
   "metadata": {},
   "source": [
    "数の四捨五入"
   ]
  },
  {
   "cell_type": "code",
   "execution_count": 6,
   "metadata": {
    "collapsed": false
   },
   "outputs": [
    {
     "data": {
      "text/plain": [
       "1506041738.613617"
      ]
     },
     "execution_count": 6,
     "metadata": {},
     "output_type": "execute_result"
    }
   ],
   "source": [
    "import time\n",
    "now = time.time()\n",
    "now"
   ]
  },
  {
   "cell_type": "code",
   "execution_count": 7,
   "metadata": {
    "collapsed": false
   },
   "outputs": [
    {
     "data": {
      "text/plain": [
       "1506041738.61"
      ]
     },
     "execution_count": 7,
     "metadata": {},
     "output_type": "execute_result"
    }
   ],
   "source": [
    "round(now,2)"
   ]
  },
  {
   "cell_type": "code",
   "execution_count": 8,
   "metadata": {
    "collapsed": false
   },
   "outputs": [
    {
     "data": {
      "text/plain": [
       "1506041738.6136"
      ]
     },
     "execution_count": 8,
     "metadata": {},
     "output_type": "execute_result"
    }
   ],
   "source": [
    "round(now,4)"
   ]
  },
  {
   "cell_type": "code",
   "execution_count": 9,
   "metadata": {
    "collapsed": false
   },
   "outputs": [
    {
     "data": {
      "text/plain": [
       "1506041739"
      ]
     },
     "execution_count": 9,
     "metadata": {},
     "output_type": "execute_result"
    }
   ],
   "source": [
    "round(now)"
   ]
  },
  {
   "cell_type": "raw",
   "metadata": {},
   "source": [
    "pythonの組み込み関数round()を使って、\n",
    "四捨五入したい数を渡し、第２引数に小数点以下の位を渡す。\n",
    "\n",
    "time.time()をnowに代入した後で、round(now,2)を呼び出すと小数点以下第２位まで、\n",
    "round(now,4)とすると小数点以下第４位まで、\n",
    "round(now)とすると整数にそれぞれ丸める。"
   ]
  },
  {
   "cell_type": "markdown",
   "metadata": {},
   "source": [
    "# 15.3"
   ]
  },
  {
   "cell_type": "markdown",
   "metadata": {},
   "source": [
    "stopwatch.py"
   ]
  },
  {
   "cell_type": "markdown",
   "metadata": {},
   "source": [
    "例外処理\n",
    "except"
   ]
  },
  {
   "cell_type": "raw",
   "metadata": {},
   "source": [
    "except KeyboardInterrupt:\n",
    "    \n",
    "Ctrl-Cが押されて例外が発生すると、プログラム実行がexcept節に移って「終了」と表示し、\n",
    "KeyboardInterruptのエラーメッセージを表示しないようにする"
   ]
  },
  {
   "cell_type": "code",
   "execution_count": 10,
   "metadata": {
    "collapsed": false
   },
   "outputs": [
    {
     "data": {
      "text/plain": [
       "datetime.datetime(2017, 9, 22, 10, 28, 22, 743317)"
      ]
     },
     "execution_count": 10,
     "metadata": {},
     "output_type": "execute_result"
    }
   ],
   "source": [
    "import datetime\n",
    "datetime.datetime.now()\n",
    "# 年、月、日、時、分、秒、マイクロ秒"
   ]
  },
  {
   "cell_type": "code",
   "execution_count": 11,
   "metadata": {
    "collapsed": false
   },
   "outputs": [
    {
     "data": {
      "text/plain": [
       "(1987, 8, 22)"
      ]
     },
     "execution_count": 11,
     "metadata": {},
     "output_type": "execute_result"
    }
   ],
   "source": [
    "dt = datetime.datetime(1987,8,22,17,22,0)\n",
    "dt.year,dt.month,dt.day\n",
    "#datetime.datetime()関数を用いて年月日などを渡すと、特定の瞬間のdatetimeオブジェクトを取得できる。"
   ]
  },
  {
   "cell_type": "code",
   "execution_count": 12,
   "metadata": {
    "collapsed": false
   },
   "outputs": [
    {
     "data": {
      "text/plain": [
       "(17, 22, 0)"
      ]
     },
     "execution_count": 12,
     "metadata": {},
     "output_type": "execute_result"
    }
   ],
   "source": [
    "dt.hour,dt.minute,dt.second"
   ]
  },
  {
   "cell_type": "markdown",
   "metadata": {},
   "source": [
    "year,month,day,hour,minute,second"
   ]
  },
  {
   "cell_type": "code",
   "execution_count": 13,
   "metadata": {
    "collapsed": false
   },
   "outputs": [
    {
     "data": {
      "text/plain": [
       "datetime.datetime(1970, 1, 12, 22, 46, 40)"
      ]
     },
     "execution_count": 13,
     "metadata": {},
     "output_type": "execute_result"
    }
   ],
   "source": [
    "datetime.datetime.fromtimestamp(1000000)\n",
    "\n",
    "#UNIXエポックから１００万秒後の瞬間のdatetimeオブジェクトが返る。"
   ]
  },
  {
   "cell_type": "code",
   "execution_count": 14,
   "metadata": {
    "collapsed": false
   },
   "outputs": [
    {
     "data": {
      "text/plain": [
       "datetime.datetime(2017, 9, 22, 10, 37, 3, 705753)"
      ]
     },
     "execution_count": 14,
     "metadata": {},
     "output_type": "execute_result"
    }
   ],
   "source": [
    "datetime.datetime.fromtimestamp(time.time())\n",
    "\n",
    "#現時点のUNIXエポックタイムスタンプtime().timeを渡すと、現時点のdatetimeオブジェクトが返る。"
   ]
  },
  {
   "cell_type": "raw",
   "metadata": {},
   "source": [
    "つまり、datetime.datetime.now()とdatetime.datetime.fromtimestamp(time.time())は同じく現時点のdatetimeオブジェクトを返す。"
   ]
  },
  {
   "cell_type": "raw",
   "metadata": {},
   "source": [
    "datetimeオブジェクトは、比較演算子を使って互いに比較し、どちらが最近なのか調べることができる。\n",
    "最近のdatetimeほど値が大きくなる。"
   ]
  },
  {
   "cell_type": "code",
   "execution_count": 18,
   "metadata": {
    "collapsed": false
   },
   "outputs": [
    {
     "data": {
      "text/plain": [
       "True"
      ]
     },
     "execution_count": 18,
     "metadata": {},
     "output_type": "execute_result"
    }
   ],
   "source": [
    "halloween2017 = datetime.datetime(2017,10,31,0,0,0)\n",
    "newyears2018 = datetime.datetime(2018,1,1,0,0,0)\n",
    "oct31_2017 = datetime.datetime(2017,10,31,0,0,0)\n",
    "halloween2017 == oct31_2017"
   ]
  },
  {
   "cell_type": "code",
   "execution_count": 19,
   "metadata": {
    "collapsed": false
   },
   "outputs": [
    {
     "data": {
      "text/plain": [
       "False"
      ]
     },
     "execution_count": 19,
     "metadata": {},
     "output_type": "execute_result"
    }
   ],
   "source": [
    "halloween2017 > newyears2018"
   ]
  },
  {
   "cell_type": "code",
   "execution_count": 20,
   "metadata": {
    "collapsed": false
   },
   "outputs": [
    {
     "data": {
      "text/plain": [
       "True"
      ]
     },
     "execution_count": 20,
     "metadata": {},
     "output_type": "execute_result"
    }
   ],
   "source": [
    "newyears2018 != oct31_2017"
   ]
  },
  {
   "cell_type": "markdown",
   "metadata": {},
   "source": [
    "# 15.4.1"
   ]
  },
  {
   "cell_type": "markdown",
   "metadata": {},
   "source": [
    "timedeltaデータ型"
   ]
  },
  {
   "cell_type": "raw",
   "metadata": {},
   "source": [
    "datetimeオブジェクトは瞬間\n",
    "timedltaオブジェクトは期間"
   ]
  },
  {
   "cell_type": "code",
   "execution_count": 28,
   "metadata": {
    "collapsed": false
   },
   "outputs": [
    {
     "data": {
      "text/plain": [
       "(11, 36548, 0)"
      ]
     },
     "execution_count": 28,
     "metadata": {},
     "output_type": "execute_result"
    }
   ],
   "source": [
    "delta = datetime.timedelta(days=11, hours=10, minutes=9, seconds=8)\n",
    "delta.days,delta.seconds,delta.microseconds"
   ]
  },
  {
   "cell_type": "raw",
   "metadata": {},
   "source": [
    "timedltaオブジェクトを作るには、datetime.timedelta()関数を用いる。\n",
    "キーワード引数としてweeks,days,hours,minutes,seconds,milliseconds,microsecondsを取る。\n",
    "「１年」と「１ヶ月」は期間が一定ではないので年や月を指定する引数はない。\n",
    "timedltaオブジェクトは、日数daysと秒secondsとマイクロ秒microsecondsという属性で、総期間を表している。"
   ]
  },
  {
   "cell_type": "code",
   "execution_count": 30,
   "metadata": {
    "collapsed": false
   },
   "outputs": [
    {
     "data": {
      "text/plain": [
       "986948.0"
      ]
     },
     "execution_count": 30,
     "metadata": {},
     "output_type": "execute_result"
    }
   ],
   "source": [
    "delta.total_seconds()"
   ]
  },
  {
   "cell_type": "raw",
   "metadata": {},
   "source": [
    "total_seconds()メソッドは、期間を秒数だけで返す。"
   ]
  },
  {
   "cell_type": "code",
   "execution_count": 31,
   "metadata": {
    "collapsed": false
   },
   "outputs": [
    {
     "data": {
      "text/plain": [
       "'11 days, 10:09:08'"
      ]
     },
     "execution_count": 31,
     "metadata": {},
     "output_type": "execute_result"
    }
   ],
   "source": [
    "str(delta)"
   ]
  },
  {
   "cell_type": "code",
   "execution_count": null,
   "metadata": {
    "collapsed": true
   },
   "outputs": [],
   "source": [
    "str()に渡すと、人間が読める文字列にうまく変換してくれる。"
   ]
  },
  {
   "cell_type": "code",
   "execution_count": 32,
   "metadata": {
    "collapsed": false
   },
   "outputs": [
    {
     "data": {
      "text/plain": [
       "datetime.datetime(2017, 9, 22, 11, 9, 40, 840739)"
      ]
     },
     "execution_count": 32,
     "metadata": {},
     "output_type": "execute_result"
    }
   ],
   "source": [
    "dt = datetime.datetime.now()\n",
    "dt"
   ]
  },
  {
   "cell_type": "code",
   "execution_count": 33,
   "metadata": {
    "collapsed": false
   },
   "outputs": [
    {
     "data": {
      "text/plain": [
       "datetime.datetime(2020, 6, 18, 11, 9, 40, 840739)"
      ]
     },
     "execution_count": 33,
     "metadata": {},
     "output_type": "execute_result"
    }
   ],
   "source": [
    "#1000日後\n",
    "\n",
    "thousand_days = datetime.timedelta(days=1000)\n",
    "dt + thousand_days"
   ]
  },
  {
   "cell_type": "code",
   "execution_count": 34,
   "metadata": {
    "collapsed": false
   },
   "outputs": [
    {
     "data": {
      "text/plain": [
       "datetime.datetime(2018, 8, 22, 12, 22)"
      ]
     },
     "execution_count": 34,
     "metadata": {},
     "output_type": "execute_result"
    }
   ],
   "source": [
    "aug22st = datetime.datetime(2018,8,22,12,22,0)\n",
    "about_thirty_days = datetime.timedelta(days=365 * 30)\n",
    "aug22st"
   ]
  },
  {
   "cell_type": "code",
   "execution_count": 35,
   "metadata": {
    "collapsed": false
   },
   "outputs": [
    {
     "data": {
      "text/plain": [
       "datetime.datetime(1988, 8, 29, 12, 22)"
      ]
     },
     "execution_count": 35,
     "metadata": {},
     "output_type": "execute_result"
    }
   ],
   "source": [
    "aug22st - about_thirty_days"
   ]
  },
  {
   "cell_type": "code",
   "execution_count": 36,
   "metadata": {
    "collapsed": false
   },
   "outputs": [
    {
     "data": {
      "text/plain": [
       "datetime.datetime(1958, 9, 6, 12, 22)"
      ]
     },
     "execution_count": 36,
     "metadata": {},
     "output_type": "execute_result"
    }
   ],
   "source": [
    "aug22st - (2 * about_thirty_days)"
   ]
  },
  {
   "cell_type": "markdown",
   "metadata": {},
   "source": [
    "# 15.4.2"
   ]
  },
  {
   "cell_type": "markdown",
   "metadata": {},
   "source": [
    "特定の日まで一時停止する"
   ]
  },
  {
   "cell_type": "raw",
   "metadata": {},
   "source": [
    "import datetime\n",
    "import time\n",
    "halloween2020 = datetime.datetime(2020,10,31,0,0,0)\n",
    "while datetime.datetime.now() < halloween2020:\n",
    "    time.sleep(1)\n",
    "    \n",
    "#whileループを用いることで特定の日までプログラムを一時停止できる。"
   ]
  },
  {
   "cell_type": "markdown",
   "metadata": {},
   "source": [
    "# 15.4.3"
   ]
  },
  {
   "cell_type": "raw",
   "metadata": {},
   "source": [
    "datetimeオブジェクトを文字列に変換する"
   ]
  },
  {
   "cell_type": "code",
   "execution_count": 38,
   "metadata": {
    "collapsed": false
   },
   "outputs": [
    {
     "data": {
      "text/plain": [
       "'2018/10/21 17:00:00'"
      ]
     },
     "execution_count": 38,
     "metadata": {},
     "output_type": "execute_result"
    }
   ],
   "source": [
    "#fはformat(整形)のｆ\n",
    "\n",
    "oct21st = datetime.datetime(2018,10,21,17,0,0)\n",
    "oct21st.strftime('%Y/%m/%d %H:%M:%S')"
   ]
  },
  {
   "cell_type": "code",
   "execution_count": 39,
   "metadata": {
    "collapsed": false
   },
   "outputs": [
    {
     "data": {
      "text/plain": [
       "'05:00 PM'"
      ]
     },
     "execution_count": 39,
     "metadata": {},
     "output_type": "execute_result"
    }
   ],
   "source": [
    "oct21st.strftime('%I:%M %p')"
   ]
  },
  {
   "cell_type": "code",
   "execution_count": 40,
   "metadata": {
    "collapsed": false
   },
   "outputs": [
    {
     "data": {
      "text/plain": [
       "\"October of'18\""
      ]
     },
     "execution_count": 40,
     "metadata": {},
     "output_type": "execute_result"
    }
   ],
   "source": [
    "oct21st.strftime(\"%B of'%y\")"
   ]
  },
  {
   "cell_type": "raw",
   "metadata": {},
   "source": [
    "%Y　4桁の西暦\n",
    "%y　西暦の下２桁\n",
    "%m　１０進数による月\n",
    "%B　月名\n",
    "%b　月の省略\n",
    "%d　日\n",
    "%j　年初からの日数\n",
    "%w　曜日\n",
    "%A　曜日名\n",
    "%a　曜日の略称\n",
    "%H　２４時\n",
    "%I　１２時\n",
    "%M　分\n",
    "%S　秒\n",
    "%P　AM、PM\n",
    "%%　文字"
   ]
  },
  {
   "cell_type": "code",
   "execution_count": 49,
   "metadata": {
    "collapsed": false
   },
   "outputs": [
    {
     "data": {
      "text/plain": [
       "datetime.datetime(2015, 10, 21, 0, 0)"
      ]
     },
     "execution_count": 49,
     "metadata": {},
     "output_type": "execute_result"
    }
   ],
   "source": [
    "#strptime()関数のｐはparse(解析)\n",
    "datetime.datetime.strptime('October 21,2015','%B %d,%Y')"
   ]
  },
  {
   "cell_type": "code",
   "execution_count": 48,
   "metadata": {
    "collapsed": false
   },
   "outputs": [
    {
     "data": {
      "text/plain": [
       "datetime.datetime(2015, 10, 21, 16, 29)"
      ]
     },
     "execution_count": 48,
     "metadata": {},
     "output_type": "execute_result"
    }
   ],
   "source": [
    "datetime.datetime.strptime('2015/10/21 16:29:00','%Y/%m/%d %H:%M:%S')"
   ]
  },
  {
   "cell_type": "code",
   "execution_count": 50,
   "metadata": {
    "collapsed": false
   },
   "outputs": [
    {
     "data": {
      "text/plain": [
       "datetime.datetime(2015, 10, 1, 0, 0)"
      ]
     },
     "execution_count": 50,
     "metadata": {},
     "output_type": "execute_result"
    }
   ],
   "source": [
    "datetime.datetime.strptime(\"October of '15\",\"%B of '%y\")"
   ]
  },
  {
   "cell_type": "code",
   "execution_count": 52,
   "metadata": {
    "collapsed": false
   },
   "outputs": [
    {
     "data": {
      "text/plain": [
       "datetime.datetime(2063, 11, 1, 0, 0)"
      ]
     },
     "execution_count": 52,
     "metadata": {},
     "output_type": "execute_result"
    }
   ],
   "source": [
    "datetime.datetime.strptime(\"November of '63\",\"%B of '%y\")"
   ]
  },
  {
   "cell_type": "markdown",
   "metadata": {},
   "source": [
    "# まとめ"
   ]
  },
  {
   "cell_type": "raw",
   "metadata": {},
   "source": [
    "・datetimeモジュールのdatetimeオブジェクト\n",
    "　\n",
    "属性year,month,day,hour,minute,secondなどの整数値を保持する。"
   ]
  },
  {
   "cell_type": "raw",
   "metadata": {},
   "source": [
    "・timedeltaオブジェクト　\n",
    "\n",
    "特定の瞬間ではなく、時間差を表す。次に時間関数とその引数と戻り値をまとめる。"
   ]
  },
  {
   "cell_type": "raw",
   "metadata": {},
   "source": [
    "・time.time() \n",
    "\n",
    "現在のエポックタイムスタンプを浮動小数点数で返す"
   ]
  },
  {
   "cell_type": "raw",
   "metadata": {},
   "source": [
    "・time.sleep(seconds) \n",
    "\n",
    "seconds引数に指定した秒数の間のプログラムを停止"
   ]
  },
  {
   "cell_type": "raw",
   "metadata": {},
   "source": [
    "・datetime.datetime(year,month,day,hour,minute,second)\n",
    "\n",
    "引数で指定した引数の瞬間のdatetimeオブジェクトを返す。\n",
    "hour,minute,second引数が指定されないと０とみなされる。"
   ]
  },
  {
   "cell_type": "markdown",
   "metadata": {},
   "source": [
    "# 15.6"
   ]
  },
  {
   "cell_type": "markdown",
   "metadata": {},
   "source": [
    "マルチスレッド"
   ]
  },
  {
   "cell_type": "markdown",
   "metadata": {},
   "source": [
    "pythonはデフォルトではひとつの実行スレッドしかもたない"
   ]
  },
  {
   "cell_type": "raw",
   "metadata": {},
   "source": [
    "pythonのthreadingモジュールを用いると、コード全体でtime.sleep()関数が完了するのを待つのでなく、\n",
    "独立したスレッドでコードを遅延したりスケジューリングできる。"
   ]
  },
  {
   "cell_type": "code",
   "execution_count": 54,
   "metadata": {
    "collapsed": false
   },
   "outputs": [
    {
     "name": "stdout",
     "output_type": "stream",
     "text": [
      "プログラム開始\n",
      "プログラム終了\n",
      "起きた！\n"
     ]
    }
   ],
   "source": [
    "import threading, time\n",
    "print('プログラム開始')\n",
    "\n",
    "def take_a_nap():  # ❶\n",
    "    time.sleep(5)\n",
    "    print('起きた！')\n",
    "\n",
    "thread_obj = threading.Thread(target=take_a_nap)  # ❷\n",
    "thread_obj.start()  # ❸\n",
    "\n",
    "print('プログラム終了')\n"
   ]
  },
  {
   "cell_type": "raw",
   "metadata": {},
   "source": [
    "新しいスレッドで用いる関数を定義①\n",
    "\n",
    "Threadオブジェクトを生成するには、threading.Thread()にキーワード引数target=take_a_napを渡して呼び出す。②\n",
    "これは、新しいスレッドで呼び出したい関数がtake_a_nap()であることを意味する。\n",
    "take_a_nap()関数そのものを渡すには、丸かっこを付けずにtarget=take_a_napとする。\n",
    "\n",
    "生成したThreadオブジェクトをthread_objに格納したら、③でthread_obj.start()を実行し、\n",
    "スレッドを新規生成して、そのスレッド上で対象となる関数を実行。"
   ]
  }
 ],
 "metadata": {
  "kernelspec": {
   "display_name": "Python 3",
   "language": "python",
   "name": "python3"
  },
  "language_info": {
   "codemirror_mode": {
    "name": "ipython",
    "version": 3
   },
   "file_extension": ".py",
   "mimetype": "text/x-python",
   "name": "python",
   "nbconvert_exporter": "python",
   "pygments_lexer": "ipython3",
   "version": "3.6.0"
  }
 },
 "nbformat": 4,
 "nbformat_minor": 2
}
